{
 "cells": [
  {
   "cell_type": "code",
   "execution_count": 1,
   "id": "87c9eed2-7734-4ed0-9c9f-5c95e367888e",
   "metadata": {
    "execution": {
     "iopub.execute_input": "2022-04-06T08:08:15.142143Z",
     "iopub.status.busy": "2022-04-06T08:08:15.141921Z",
     "iopub.status.idle": "2022-04-06T08:09:00.948607Z",
     "shell.execute_reply": "2022-04-06T08:09:00.948011Z",
     "shell.execute_reply.started": "2022-04-06T08:08:15.142118Z"
    },
    "tags": []
   },
   "outputs": [
    {
     "data": {
      "application/vnd.jupyter.widget-view+json": {
       "model_id": "d2b0a7992f914d1f88708225b71aed77",
       "version_major": 2,
       "version_minor": 0
      },
      "text/plain": [
       "VBox()"
      ]
     },
     "metadata": {},
     "output_type": "display_data"
    },
    {
     "name": "stdout",
     "output_type": "stream",
     "text": [
      "Starting Spark application\n"
     ]
    },
    {
     "data": {
      "text/html": [
       "<table>\n",
       "<tr><th>ID</th><th>YARN Application ID</th><th>Kind</th><th>State</th><th>Spark UI</th><th>Driver log</th><th>Current session?</th></tr><tr><td>0</td><td>application_1649231898120_0001</td><td>pyspark</td><td>idle</td><td><a target=\"_blank\" href=\"http://ip-172-31-40-170.ec2.internal:20888/proxy/application_1649231898120_0001/\" class=\"emr-proxy-link\" emr-resource=\"j-3UHKA4G9R451J\n",
       "\" application-id=\"application_1649231898120_0001\">Link</a></td><td><a target=\"_blank\" href=\"http://ip-172-31-33-225.ec2.internal:8042/node/containerlogs/container_1649231898120_0001_01_000001/livy\" >Link</a></td><td>✔</td></tr></table>"
      ],
      "text/plain": [
       "<IPython.core.display.HTML object>"
      ]
     },
     "metadata": {},
     "output_type": "display_data"
    },
    {
     "data": {
      "application/vnd.jupyter.widget-view+json": {
       "model_id": "",
       "version_major": 2,
       "version_minor": 0
      },
      "text/plain": [
       "FloatProgress(value=0.0, bar_style='info', description='Progress:', layout=Layout(height='25px', width='50%'),…"
      ]
     },
     "metadata": {},
     "output_type": "display_data"
    },
    {
     "name": "stdout",
     "output_type": "stream",
     "text": [
      "SparkSession available as 'spark'.\n"
     ]
    },
    {
     "data": {
      "application/vnd.jupyter.widget-view+json": {
       "model_id": "",
       "version_major": 2,
       "version_minor": 0
      },
      "text/plain": [
       "FloatProgress(value=0.0, bar_style='info', description='Progress:', layout=Layout(height='25px', width='50%'),…"
      ]
     },
     "metadata": {},
     "output_type": "display_data"
    },
    {
     "name": "stdout",
     "output_type": "stream",
     "text": [
      "Collecting pandas==1.2.2\n",
      "  Downloading https://files.pythonhosted.org/packages/4c/33/87b15a5baeeb71bd677da3579f907e97476c5247c0e56a37079843af5424/pandas-1.2.2-cp37-cp37m-manylinux1_x86_64.whl (9.9MB)\n",
      "Requirement already satisfied: numpy>=1.16.5 in /usr/local/lib64/python3.7/site-packages (from pandas==1.2.2)\n",
      "Requirement already satisfied: pytz>=2017.3 in /usr/local/lib/python3.7/site-packages (from pandas==1.2.2)\n",
      "Collecting python-dateutil>=2.7.3 (from pandas==1.2.2)\n",
      "  Downloading https://files.pythonhosted.org/packages/36/7a/87837f39d0296e723bb9b62bbb257d0355c7f6128853c78955f57342a56d/python_dateutil-2.8.2-py2.py3-none-any.whl (247kB)\n",
      "Requirement already satisfied: six>=1.5 in /usr/local/lib/python3.7/site-packages (from python-dateutil>=2.7.3->pandas==1.2.2)\n",
      "Installing collected packages: python-dateutil, pandas\n",
      "Successfully installed pandas-1.2.2 python-dateutil-2.8.2\n",
      "\n",
      "You are using pip version 9.0.1, however version 22.0.4 is available.\n",
      "You should consider upgrading via the 'pip install --upgrade pip' command."
     ]
    }
   ],
   "source": [
    "sc.install_pypi_package(\"pandas==1.2.2\")"
   ]
  },
  {
   "cell_type": "code",
   "execution_count": 2,
   "id": "3e3d4500-e15d-4c03-a047-370584191c0d",
   "metadata": {
    "execution": {
     "iopub.execute_input": "2022-04-06T08:09:00.950189Z",
     "iopub.status.busy": "2022-04-06T08:09:00.949912Z",
     "iopub.status.idle": "2022-04-06T08:09:10.355764Z",
     "shell.execute_reply": "2022-04-06T08:09:10.355147Z",
     "shell.execute_reply.started": "2022-04-06T08:09:00.950155Z"
    },
    "tags": []
   },
   "outputs": [
    {
     "data": {
      "application/vnd.jupyter.widget-view+json": {
       "model_id": "501aae83bdbc487696b3b2e8eeb0ae63",
       "version_major": 2,
       "version_minor": 0
      },
      "text/plain": [
       "VBox()"
      ]
     },
     "metadata": {},
     "output_type": "display_data"
    },
    {
     "data": {
      "application/vnd.jupyter.widget-view+json": {
       "model_id": "",
       "version_major": 2,
       "version_minor": 0
      },
      "text/plain": [
       "FloatProgress(value=0.0, bar_style='info', description='Progress:', layout=Layout(height='25px', width='50%'),…"
      ]
     },
     "metadata": {},
     "output_type": "display_data"
    },
    {
     "name": "stdout",
     "output_type": "stream",
     "text": [
      "Collecting matplotlib==3.1.1\n",
      "  Downloading https://files.pythonhosted.org/packages/19/7a/60bd79c5d79559150f8bba866dd7d434f0a170312e4d15e8aefa5faba294/matplotlib-3.1.1-cp37-cp37m-manylinux1_x86_64.whl (13.1MB)\n",
      "Requirement already satisfied: python-dateutil>=2.1 in /mnt/tmp/1649232520242-0/lib/python3.7/site-packages (from matplotlib==3.1.1)\n",
      "Collecting pyparsing!=2.0.4,!=2.1.2,!=2.1.6,>=2.0.1 (from matplotlib==3.1.1)\n",
      "  Downloading https://files.pythonhosted.org/packages/80/c1/23fd82ad3121656b585351aba6c19761926bb0db2ebed9e4ff09a43a3fcc/pyparsing-3.0.7-py3-none-any.whl (98kB)\n",
      "Collecting cycler>=0.10 (from matplotlib==3.1.1)\n",
      "  Downloading https://files.pythonhosted.org/packages/5c/f9/695d6bedebd747e5eb0fe8fad57b72fdf25411273a39791cde838d5a8f51/cycler-0.11.0-py3-none-any.whl\n",
      "Requirement already satisfied: numpy>=1.11 in /usr/local/lib64/python3.7/site-packages (from matplotlib==3.1.1)\n",
      "Collecting kiwisolver>=1.0.1 (from matplotlib==3.1.1)\n",
      "  Downloading https://files.pythonhosted.org/packages/51/50/9a9a94afa26c50fc5d9127272737806990aa698c7a1c220b8e5075e70304/kiwisolver-1.4.2-cp37-cp37m-manylinux_2_5_x86_64.manylinux1_x86_64.whl (1.1MB)\n",
      "Requirement already satisfied: six>=1.5 in /usr/local/lib/python3.7/site-packages (from python-dateutil>=2.1->matplotlib==3.1.1)\n",
      "Requirement already satisfied: typing-extensions; python_version < \"3.8\" in /usr/local/lib64/python3.7/site-packages (from kiwisolver>=1.0.1->matplotlib==3.1.1)\n",
      "Installing collected packages: pyparsing, cycler, kiwisolver, matplotlib\n",
      "Successfully installed cycler-0.11.0 kiwisolver-1.4.2 matplotlib-3.1.1 pyparsing-3.0.7\n",
      "\n",
      "absl-py (0.12.0)\n",
      "astor (0.8.0)\n",
      "astunparse (1.6.3)\n",
      "aws-cfn-bootstrap (2.0)\n",
      "beautifulsoup4 (4.9.3)\n",
      "bleach (3.3.0)\n",
      "boto (2.49.0)\n",
      "cachetools (4.1.1)\n",
      "certifi (2020.12.5)\n",
      "chardet (4.0.0)\n",
      "click (7.1.2)\n",
      "cryptography (3.2.1)\n",
      "cycler (0.11.0)\n",
      "docutils (0.14)\n",
      "flatbuffers (1.12)\n",
      "funcsigs (1.0.2)\n",
      "gast (0.4.0)\n",
      "google-auth (1.23.0)\n",
      "google-auth-oauthlib (0.4.2)\n",
      "google-pasta (0.2.0)\n",
      "grpcio (1.36.1)\n",
      "h5py (2.10.0)\n",
      "html5lib (1.1)\n",
      "idna (2.10)\n",
      "importlib-metadata (2.0.0)\n",
      "jmespath (0.10.0)\n",
      "joblib (1.0.1)\n",
      "Keras-Applications (1.0.8)\n",
      "Keras-Preprocessing (1.1.2)\n",
      "kiwisolver (1.4.2)\n",
      "lockfile (0.11.0)\n",
      "lxml (4.6.2)\n",
      "Markdown (3.3.4)\n",
      "matplotlib (3.1.1)\n",
      "mysqlclient (1.4.2)\n",
      "nltk (3.5)\n",
      "nose (1.3.4)\n",
      "numpy (1.16.5)\n",
      "oauthlib (3.1.0)\n",
      "opt-einsum (2.3.2)\n",
      "packaging (20.9)\n",
      "pandas (1.2.2)\n",
      "pip (9.0.1)\n",
      "protobuf (3.15.6)\n",
      "py-dateutil (2.2)\n",
      "pyasn1 (0.4.8)\n",
      "pyasn1-modules (0.2.8)\n",
      "pyparsing (3.0.7)\n",
      "pystache (0.5.4)\n",
      "python-daemon (2.2.3)\n",
      "python-dateutil (2.8.2)\n",
      "python37-sagemaker-pyspark (1.4.1)\n",
      "pytz (2021.1)\n",
      "PyYAML (5.4.1)\n",
      "regex (2021.3.17)\n",
      "requests (2.25.1)\n",
      "requests-oauthlib (1.3.0)\n",
      "rsa (4.6)\n",
      "setuptools (28.8.0)\n",
      "simplejson (3.2.0)\n",
      "six (1.13.0)\n",
      "tensorboard (2.4.1)\n",
      "tensorboard-plugin-wit (1.8.0)\n",
      "tensorflow (2.4.1)\n",
      "tensorflow-estimator (2.4.0)\n",
      "termcolor (1.1.0)\n",
      "tqdm (4.59.0)\n",
      "typing-extensions (3.7.4.3)\n",
      "urllib3 (1.26.4)\n",
      "webencodings (0.5.1)\n",
      "Werkzeug (1.0.1)\n",
      "wheel (0.29.0)\n",
      "windmill (1.6)\n",
      "wrapt (1.12.1)\n",
      "zipp (3.4.0)\n",
      "\n",
      "You are using pip version 9.0.1, however version 22.0.4 is available.\n",
      "You should consider upgrading via the 'pip install --upgrade pip' command.\n",
      "\n",
      "DEPRECATION: The default format will switch to columns in the future. You can use --format=(legacy|columns) (or define a format=(legacy|columns) in your pip.conf under the [list] section) to disable this warning.\n",
      "You are using pip version 9.0.1, however version 22.0.4 is available.\n",
      "You should consider upgrading via the 'pip install --upgrade pip' command."
     ]
    }
   ],
   "source": [
    "sc.install_pypi_package(\"matplotlib==3.1.1\", \"https://pypi.org/simple\")\n",
    "\n",
    "sc.list_packages()\n"
   ]
  },
  {
   "cell_type": "code",
   "execution_count": 4,
   "id": "da879691-e34b-41bc-8202-789fc570e1a6",
   "metadata": {
    "execution": {
     "iopub.execute_input": "2022-04-06T08:11:03.814854Z",
     "iopub.status.busy": "2022-04-06T08:11:03.814630Z",
     "iopub.status.idle": "2022-04-06T08:11:03.885475Z",
     "shell.execute_reply": "2022-04-06T08:11:03.884938Z",
     "shell.execute_reply.started": "2022-04-06T08:11:03.814829Z"
    },
    "tags": []
   },
   "outputs": [
    {
     "data": {
      "application/vnd.jupyter.widget-view+json": {
       "model_id": "60d02a5862b5400d997be3e8bf0d477e",
       "version_major": 2,
       "version_minor": 0
      },
      "text/plain": [
       "VBox()"
      ]
     },
     "metadata": {},
     "output_type": "display_data"
    },
    {
     "data": {
      "application/vnd.jupyter.widget-view+json": {
       "model_id": "",
       "version_major": 2,
       "version_minor": 0
      },
      "text/plain": [
       "FloatProgress(value=0.0, bar_style='info', description='Progress:', layout=Layout(height='25px', width='50%'),…"
      ]
     },
     "metadata": {},
     "output_type": "display_data"
    }
   ],
   "source": [
    "from pyspark.sql import SparkSession\n",
    "spark = SparkSession.builder.getOrCreate()\n",
    "sc = spark.sparkContext"
   ]
  },
  {
   "cell_type": "code",
   "execution_count": 5,
   "id": "161dcfb2-60ed-4397-b300-e1de0abea703",
   "metadata": {
    "execution": {
     "iopub.execute_input": "2022-04-06T08:11:07.435017Z",
     "iopub.status.busy": "2022-04-06T08:11:07.434749Z",
     "iopub.status.idle": "2022-04-06T08:11:07.714901Z",
     "shell.execute_reply": "2022-04-06T08:11:07.714272Z",
     "shell.execute_reply.started": "2022-04-06T08:11:07.434989Z"
    },
    "tags": []
   },
   "outputs": [
    {
     "data": {
      "application/vnd.jupyter.widget-view+json": {
       "model_id": "877a9b4ff1b443aaa8416c3c141244e5",
       "version_major": 2,
       "version_minor": 0
      },
      "text/plain": [
       "VBox()"
      ]
     },
     "metadata": {},
     "output_type": "display_data"
    },
    {
     "data": {
      "application/vnd.jupyter.widget-view+json": {
       "model_id": "",
       "version_major": 2,
       "version_minor": 0
      },
      "text/plain": [
       "FloatProgress(value=0.0, bar_style='info', description='Progress:', layout=Layout(height='25px', width='50%'),…"
      ]
     },
     "metadata": {},
     "output_type": "display_data"
    }
   ],
   "source": [
    "from pyspark.sql.functions import col\n",
    "import pyspark.sql.functions\n",
    "from pyspark.sql.types import *"
   ]
  },
  {
   "cell_type": "markdown",
   "id": "c5e66f24-1909-49a9-a3ed-d0c09b6b2b3f",
   "metadata": {},
   "source": [
    "# Load data into Dataframe"
   ]
  },
  {
   "cell_type": "code",
   "execution_count": 7,
   "id": "753fc3fe-9210-4147-823d-99d4bf6e9ae9",
   "metadata": {
    "execution": {
     "iopub.execute_input": "2022-04-06T08:13:16.806860Z",
     "iopub.status.busy": "2022-04-06T08:13:16.806536Z",
     "iopub.status.idle": "2022-04-06T08:13:30.200827Z",
     "shell.execute_reply": "2022-04-06T08:13:30.200242Z",
     "shell.execute_reply.started": "2022-04-06T08:13:16.806816Z"
    },
    "tags": []
   },
   "outputs": [
    {
     "data": {
      "application/vnd.jupyter.widget-view+json": {
       "model_id": "b54aedc6d28a43c7a66738db8f653fdd",
       "version_major": 2,
       "version_minor": 0
      },
      "text/plain": [
       "VBox()"
      ]
     },
     "metadata": {},
     "output_type": "display_data"
    },
    {
     "data": {
      "application/vnd.jupyter.widget-view+json": {
       "model_id": "",
       "version_major": 2,
       "version_minor": 0
      },
      "text/plain": [
       "FloatProgress(value=0.0, bar_style='info', description='Progress:', layout=Layout(height='25px', width='50%'),…"
      ]
     },
     "metadata": {},
     "output_type": "display_data"
    }
   ],
   "source": [
    "df = spark.read.format(\"parquet\")\\\n",
    "    .option(\"header\",\"true\")\\\n",
    "    .option(\"inferschema\",\"true\")\\\n",
    "    .load(\"s3://mlprojectg23fan5/combined_data/*\")"
   ]
  },
  {
   "cell_type": "markdown",
   "id": "bdd0047a-70c6-4762-9f94-25e62d1eb9f1",
   "metadata": {
    "execution": {
     "iopub.execute_input": "2022-04-05T06:32:13.015579Z",
     "iopub.status.busy": "2022-04-05T06:32:13.015347Z",
     "iopub.status.idle": "2022-04-05T06:32:13.087953Z",
     "shell.execute_reply": "2022-04-05T06:32:13.087363Z",
     "shell.execute_reply.started": "2022-04-05T06:32:13.015554Z"
    }
   },
   "source": [
    "**Output from printSchema()**"
   ]
  },
  {
   "cell_type": "code",
   "execution_count": 8,
   "id": "9b0b33cb-f6d8-4852-9911-f27fdf3bb46a",
   "metadata": {
    "execution": {
     "iopub.execute_input": "2022-04-06T08:14:48.169663Z",
     "iopub.status.busy": "2022-04-06T08:14:48.169438Z",
     "iopub.status.idle": "2022-04-06T08:14:48.440503Z",
     "shell.execute_reply": "2022-04-06T08:14:48.439751Z",
     "shell.execute_reply.started": "2022-04-06T08:14:48.169638Z"
    },
    "tags": []
   },
   "outputs": [
    {
     "data": {
      "application/vnd.jupyter.widget-view+json": {
       "model_id": "6c1b31b2eb884b5d91851af1b664cfeb",
       "version_major": 2,
       "version_minor": 0
      },
      "text/plain": [
       "VBox()"
      ]
     },
     "metadata": {},
     "output_type": "display_data"
    },
    {
     "data": {
      "application/vnd.jupyter.widget-view+json": {
       "model_id": "",
       "version_major": 2,
       "version_minor": 0
      },
      "text/plain": [
       "FloatProgress(value=0.0, bar_style='info', description='Progress:', layout=Layout(height='25px', width='50%'),…"
      ]
     },
     "metadata": {},
     "output_type": "display_data"
    },
    {
     "name": "stdout",
     "output_type": "stream",
     "text": [
      "root\n",
      " |-- FL_DATE: timestamp (nullable = true)\n",
      " |-- OP_CARRIER: string (nullable = true)\n",
      " |-- OP_CARRIER_FL_NUM: integer (nullable = true)\n",
      " |-- ORIGIN: string (nullable = true)\n",
      " |-- DEST: string (nullable = true)\n",
      " |-- CRS_DEP_TIME: double (nullable = true)\n",
      " |-- DEP_TIME: double (nullable = true)\n",
      " |-- DEP_DELAY: double (nullable = true)\n",
      " |-- TAXI_OUT: double (nullable = true)\n",
      " |-- WHEELS_OFF: double (nullable = true)\n",
      " |-- WHEELS_ON: double (nullable = true)\n",
      " |-- TAXI_IN: double (nullable = true)\n",
      " |-- CRS_ARR_TIME: double (nullable = true)\n",
      " |-- ARR_TIME: double (nullable = true)\n",
      " |-- ARR_DELAY: double (nullable = true)\n",
      " |-- CANCELLED: double (nullable = true)\n",
      " |-- CANCELLATION_CODE: string (nullable = true)\n",
      " |-- DIVERTED: double (nullable = true)\n",
      " |-- CRS_ELAPSED_TIME: double (nullable = true)\n",
      " |-- ACTUAL_ELAPSED_TIME: double (nullable = true)\n",
      " |-- AIR_TIME: double (nullable = true)\n",
      " |-- DISTANCE: double (nullable = true)\n",
      " |-- CARRIER_DELAY: double (nullable = true)\n",
      " |-- WEATHER_DELAY: double (nullable = true)\n",
      " |-- NAS_DELAY: double (nullable = true)\n",
      " |-- SECURITY_DELAY: double (nullable = true)\n",
      " |-- LATE_AIRCRAFT_DELAY: double (nullable = true)"
     ]
    }
   ],
   "source": [
    "df.printSchema()"
   ]
  },
  {
   "cell_type": "markdown",
   "id": "9dbcb64f-5495-4839-bbff-c113e253bacd",
   "metadata": {},
   "source": [
    "# Display the Data Dimensions"
   ]
  },
  {
   "cell_type": "code",
   "execution_count": 9,
   "id": "f6c39bcb-09d1-4f70-b673-a1b4a37907f5",
   "metadata": {
    "execution": {
     "iopub.execute_input": "2022-04-06T08:14:53.140584Z",
     "iopub.status.busy": "2022-04-06T08:14:53.140357Z",
     "iopub.status.idle": "2022-04-06T08:15:04.544115Z",
     "shell.execute_reply": "2022-04-06T08:15:04.543375Z",
     "shell.execute_reply.started": "2022-04-06T08:14:53.140559Z"
    },
    "tags": []
   },
   "outputs": [
    {
     "data": {
      "application/vnd.jupyter.widget-view+json": {
       "model_id": "22a6d8887c5245f7a614b9a5509d267a",
       "version_major": 2,
       "version_minor": 0
      },
      "text/plain": [
       "VBox()"
      ]
     },
     "metadata": {},
     "output_type": "display_data"
    },
    {
     "data": {
      "application/vnd.jupyter.widget-view+json": {
       "model_id": "",
       "version_major": 2,
       "version_minor": 0
      },
      "text/plain": [
       "FloatProgress(value=0.0, bar_style='info', description='Progress:', layout=Layout(height='25px', width='50%'),…"
      ]
     },
     "metadata": {},
     "output_type": "display_data"
    },
    {
     "name": "stdout",
     "output_type": "stream",
     "text": [
      "(61556964, 27)"
     ]
    }
   ],
   "source": [
    "\n",
    "print((df.count(), len(df.columns)))"
   ]
  },
  {
   "cell_type": "markdown",
   "id": "0913ffd9-f747-4cf3-b9d2-35334500151f",
   "metadata": {},
   "source": [
    "**Number of columns**"
   ]
  },
  {
   "cell_type": "code",
   "execution_count": 10,
   "id": "19abebed-2552-4ed1-847f-313a8202c620",
   "metadata": {
    "execution": {
     "iopub.execute_input": "2022-04-06T08:16:32.987376Z",
     "iopub.status.busy": "2022-04-06T08:16:32.987125Z",
     "iopub.status.idle": "2022-04-06T08:16:33.054766Z",
     "shell.execute_reply": "2022-04-06T08:16:33.054179Z",
     "shell.execute_reply.started": "2022-04-06T08:16:32.987336Z"
    },
    "tags": []
   },
   "outputs": [
    {
     "data": {
      "application/vnd.jupyter.widget-view+json": {
       "model_id": "6eb17e10ed824a1f845efd6856653383",
       "version_major": 2,
       "version_minor": 0
      },
      "text/plain": [
       "VBox()"
      ]
     },
     "metadata": {},
     "output_type": "display_data"
    },
    {
     "data": {
      "application/vnd.jupyter.widget-view+json": {
       "model_id": "",
       "version_major": 2,
       "version_minor": 0
      },
      "text/plain": [
       "FloatProgress(value=0.0, bar_style='info', description='Progress:', layout=Layout(height='25px', width='50%'),…"
      ]
     },
     "metadata": {},
     "output_type": "display_data"
    },
    {
     "name": "stdout",
     "output_type": "stream",
     "text": [
      "Number of Columns 27"
     ]
    }
   ],
   "source": [
    "print(\"Number of Columns\", len(df.columns))"
   ]
  },
  {
   "cell_type": "markdown",
   "id": "d908bc7b-0015-4e25-b5fc-dd280b8e53a3",
   "metadata": {},
   "source": [
    "# Columns with None or Null Values"
   ]
  },
  {
   "cell_type": "code",
   "execution_count": 11,
   "id": "c52a48d2-f0f5-4000-840e-e438dbf154e1",
   "metadata": {
    "execution": {
     "iopub.execute_input": "2022-04-06T08:16:36.006012Z",
     "iopub.status.busy": "2022-04-06T08:16:36.005779Z",
     "iopub.status.idle": "2022-04-06T08:16:55.403267Z",
     "shell.execute_reply": "2022-04-06T08:16:55.402494Z",
     "shell.execute_reply.started": "2022-04-06T08:16:36.005987Z"
    },
    "tags": []
   },
   "outputs": [
    {
     "data": {
      "application/vnd.jupyter.widget-view+json": {
       "model_id": "f049107b33a343f895dfa2d0763fea2f",
       "version_major": 2,
       "version_minor": 0
      },
      "text/plain": [
       "VBox()"
      ]
     },
     "metadata": {},
     "output_type": "display_data"
    },
    {
     "data": {
      "application/vnd.jupyter.widget-view+json": {
       "model_id": "",
       "version_major": 2,
       "version_minor": 0
      },
      "text/plain": [
       "FloatProgress(value=0.0, bar_style='info', description='Progress:', layout=Layout(height='25px', width='50%'),…"
      ]
     },
     "metadata": {},
     "output_type": "display_data"
    },
    {
     "name": "stdout",
     "output_type": "stream",
     "text": [
      "+-------+----------+-----------------+------+----+------------+--------+---------+--------+----------+---------+-------+------------+--------+---------+---------+-----------------+--------+----------------+-------------------+--------+--------+-------------+-------------+---------+--------------+-------------------+\n",
      "|FL_DATE|OP_CARRIER|OP_CARRIER_FL_NUM|ORIGIN|DEST|CRS_DEP_TIME|DEP_TIME|DEP_DELAY|TAXI_OUT|WHEELS_OFF|WHEELS_ON|TAXI_IN|CRS_ARR_TIME|ARR_TIME|ARR_DELAY|CANCELLED|CANCELLATION_CODE|DIVERTED|CRS_ELAPSED_TIME|ACTUAL_ELAPSED_TIME|AIR_TIME|DISTANCE|CARRIER_DELAY|WEATHER_DELAY|NAS_DELAY|SECURITY_DELAY|LATE_AIRCRAFT_DELAY|\n",
      "+-------+----------+-----------------+------+----+------------+--------+---------+--------+----------+---------+-------+------------+--------+---------+---------+-----------------+--------+----------------+-------------------+--------+--------+-------------+-------------+---------+--------------+-------------------+\n",
      "|      0|         0|                0|     0|   0|           1|  935723|   940675|  963901|    963896|   997016| 997015|           2|  997015|  1121351|        0|         60583755|       0|              60|            1118754| 1118753|       0|     50166224|     50166224| 50166224|      50166224|           50166224|\n",
      "+-------+----------+-----------------+------+----+------------+--------+---------+--------+----------+---------+-------+------------+--------+---------+---------+-----------------+--------+----------------+-------------------+--------+--------+-------------+-------------+---------+--------------+-------------------+"
     ]
    }
   ],
   "source": [
    "from pyspark.sql.functions import isnan, when, count, col\n",
    "df.select([count(when(col(c).isNull(), c)).alias(c) for c in df.columns]).show()\n"
   ]
  },
  {
   "cell_type": "code",
   "execution_count": 12,
   "id": "02f6681a-cd3a-47da-a187-f4f282ccdb4f",
   "metadata": {
    "execution": {
     "iopub.execute_input": "2022-04-06T08:16:55.405010Z",
     "iopub.status.busy": "2022-04-06T08:16:55.404613Z",
     "iopub.status.idle": "2022-04-06T08:17:10.860974Z",
     "shell.execute_reply": "2022-04-06T08:17:10.860223Z",
     "shell.execute_reply.started": "2022-04-06T08:16:55.404971Z"
    },
    "tags": []
   },
   "outputs": [
    {
     "data": {
      "application/vnd.jupyter.widget-view+json": {
       "model_id": "926c218aee2a4448bc537239eea5282f",
       "version_major": 2,
       "version_minor": 0
      },
      "text/plain": [
       "VBox()"
      ]
     },
     "metadata": {},
     "output_type": "display_data"
    },
    {
     "data": {
      "application/vnd.jupyter.widget-view+json": {
       "model_id": "",
       "version_major": 2,
       "version_minor": 0
      },
      "text/plain": [
       "FloatProgress(value=0.0, bar_style='info', description='Progress:', layout=Layout(height='25px', width='50%'),…"
      ]
     },
     "metadata": {},
     "output_type": "display_data"
    },
    {
     "name": "stdout",
     "output_type": "stream",
     "text": [
      "{'FL_DATE': 0, 'OP_CARRIER': 0, 'OP_CARRIER_FL_NUM': 0, 'ORIGIN': 0, 'DEST': 0, 'CRS_DEP_TIME': 1, 'DEP_TIME': 935723, 'DEP_DELAY': 940675, 'TAXI_OUT': 963901, 'WHEELS_OFF': 963896, 'WHEELS_ON': 997016, 'TAXI_IN': 997015, 'CRS_ARR_TIME': 2, 'ARR_TIME': 997015, 'ARR_DELAY': 1121351, 'CANCELLED': 0, 'CANCELLATION_CODE': 60583755, 'DIVERTED': 0, 'CRS_ELAPSED_TIME': 60, 'ACTUAL_ELAPSED_TIME': 1118754, 'AIR_TIME': 1118753, 'DISTANCE': 0, 'CARRIER_DELAY': 50166224, 'WEATHER_DELAY': 50166224, 'NAS_DELAY': 50166224, 'SECURITY_DELAY': 50166224, 'LATE_AIRCRAFT_DELAY': 50166224}"
     ]
    }
   ],
   "source": [
    "dict = {col:df.filter(df[col].isNull()).count() for col in df.columns}\n",
    "dict"
   ]
  },
  {
   "cell_type": "code",
   "execution_count": 13,
   "id": "dbe84223-4efd-4ec2-ba27-9beb9f6d146f",
   "metadata": {
    "execution": {
     "iopub.execute_input": "2022-04-06T08:17:10.862322Z",
     "iopub.status.busy": "2022-04-06T08:17:10.862139Z",
     "iopub.status.idle": "2022-04-06T08:17:11.655529Z",
     "shell.execute_reply": "2022-04-06T08:17:11.654820Z",
     "shell.execute_reply.started": "2022-04-06T08:17:10.862299Z"
    },
    "tags": []
   },
   "outputs": [
    {
     "data": {
      "application/vnd.jupyter.widget-view+json": {
       "model_id": "e06250f87c9145928b0065eeccdca1ea",
       "version_major": 2,
       "version_minor": 0
      },
      "text/plain": [
       "VBox()"
      ]
     },
     "metadata": {},
     "output_type": "display_data"
    },
    {
     "data": {
      "application/vnd.jupyter.widget-view+json": {
       "model_id": "",
       "version_major": 2,
       "version_minor": 0
      },
      "text/plain": [
       "FloatProgress(value=0.0, bar_style='info', description='Progress:', layout=Layout(height='25px', width='50%'),…"
      ]
     },
     "metadata": {},
     "output_type": "display_data"
    },
    {
     "name": "stdout",
     "output_type": "stream",
     "text": [
      "+-------------------+----------+-----------------+------+----+------------+--------+---------+--------+----------+---------+-------+------------+--------+---------+---------+-----------------+--------+----------------+-------------------+--------+--------+-------------+-------------+---------+--------------+-------------------+\n",
      "|            FL_DATE|OP_CARRIER|OP_CARRIER_FL_NUM|ORIGIN|DEST|CRS_DEP_TIME|DEP_TIME|DEP_DELAY|TAXI_OUT|WHEELS_OFF|WHEELS_ON|TAXI_IN|CRS_ARR_TIME|ARR_TIME|ARR_DELAY|CANCELLED|CANCELLATION_CODE|DIVERTED|CRS_ELAPSED_TIME|ACTUAL_ELAPSED_TIME|AIR_TIME|DISTANCE|CARRIER_DELAY|WEATHER_DELAY|NAS_DELAY|SECURITY_DELAY|LATE_AIRCRAFT_DELAY|\n",
      "+-------------------+----------+-----------------+------+----+------------+--------+---------+--------+----------+---------+-------+------------+--------+---------+---------+-----------------+--------+----------------+-------------------+--------+--------+-------------+-------------+---------+--------------+-------------------+\n",
      "|2015-01-01 00:00:00|        NK|              195|   MCO| FLL|      2147.0|  2143.0|     -4.0|    15.0|    2158.0|   2238.0|    7.0|      2250.0|  2245.0|     -5.0|      0.0|             null|     0.0|            63.0|               62.0|    40.0|   177.0|         null|         null|     null|          null|               null|\n",
      "|2015-01-01 00:00:00|        NK|              197|   LGA| FLL|      1050.0|  1104.0|     14.0|    20.0|    1124.0|   1354.0|    9.0|      1404.0|  1403.0|     -1.0|      0.0|             null|     0.0|           194.0|              179.0|   150.0|  1076.0|         null|         null|     null|          null|               null|\n",
      "|2015-01-01 00:00:00|        NK|              198|   FLL| MCO|       700.0|   712.0|     12.0|    19.0|     731.0|    803.0|   10.0|       757.0|   813.0|     16.0|      0.0|             null|     0.0|            57.0|               61.0|    32.0|   177.0|          0.0|          0.0|     16.0|           0.0|                0.0|\n",
      "|2015-01-01 00:00:00|        NK|              199|   IAH| LAS|      2240.0|  2251.0|     11.0|     8.0|    2259.0|   2343.0|    4.0|      2356.0|  2347.0|     -9.0|      0.0|             null|     0.0|           196.0|              176.0|   164.0|  1222.0|         null|         null|     null|          null|               null|\n",
      "|2015-01-01 00:00:00|        NK|              200|   IAH| ORD|       623.0|   620.0|     -3.0|    15.0|     635.0|    830.0|   10.0|       855.0|   840.0|    -15.0|      0.0|             null|     0.0|           152.0|              140.0|   115.0|   925.0|         null|         null|     null|          null|               null|\n",
      "+-------------------+----------+-----------------+------+----+------------+--------+---------+--------+----------+---------+-------+------------+--------+---------+---------+-----------------+--------+----------------+-------------------+--------+--------+-------------+-------------+---------+--------------+-------------------+\n",
      "only showing top 5 rows"
     ]
    }
   ],
   "source": [
    "df.show(5)\n"
   ]
  },
  {
   "cell_type": "markdown",
   "id": "2ee2056f-6d1c-4fd0-9bf2-caae3f3e6a78",
   "metadata": {},
   "source": [
    "# Analysis Based on Time-Related Columns. "
   ]
  },
  {
   "cell_type": "code",
   "execution_count": 14,
   "id": "30b7c93f-1f62-4a80-a6ab-d371657e7ac3",
   "metadata": {
    "execution": {
     "iopub.execute_input": "2022-04-06T08:17:42.023338Z",
     "iopub.status.busy": "2022-04-06T08:17:42.023100Z",
     "iopub.status.idle": "2022-04-06T08:17:53.372347Z",
     "shell.execute_reply": "2022-04-06T08:17:53.371759Z",
     "shell.execute_reply.started": "2022-04-06T08:17:42.023314Z"
    },
    "tags": []
   },
   "outputs": [
    {
     "data": {
      "application/vnd.jupyter.widget-view+json": {
       "model_id": "ce087860067e42409225d68033e4343a",
       "version_major": 2,
       "version_minor": 0
      },
      "text/plain": [
       "VBox()"
      ]
     },
     "metadata": {},
     "output_type": "display_data"
    },
    {
     "data": {
      "application/vnd.jupyter.widget-view+json": {
       "model_id": "",
       "version_major": 2,
       "version_minor": 0
      },
      "text/plain": [
       "FloatProgress(value=0.0, bar_style='info', description='Progress:', layout=Layout(height='25px', width='50%'),…"
      ]
     },
     "metadata": {},
     "output_type": "display_data"
    },
    {
     "name": "stdout",
     "output_type": "stream",
     "text": [
      "+-------+-----------------+------------------+------------------+------------------+-----------------+-------------------+\n",
      "|summary|     CRS_DEP_TIME|          ARR_TIME|          DEP_TIME|          AIR_TIME| CRS_ELAPSED_TIME|ACTUAL_ELAPSED_TIME|\n",
      "+-------+-----------------+------------------+------------------+------------------+-----------------+-------------------+\n",
      "|  count|         61556963|          60559949|          60621241|          60438211|         61556904|           60438210|\n",
      "|   mean| 1327.20258853576|1479.3368845637567|  1333.14107175734|109.77697422248319| 136.956422987095|  132.8766195755963|\n",
      "| stddev|474.8935017000133| 515.0970293525357|487.48778347075887| 70.67954521240085|73.37060226293455|  72.84033473423015|\n",
      "|    min|              1.0|               1.0|               1.0|               0.0|            -99.0|               11.0|\n",
      "|    max|           2359.0|            2400.0|            2400.0|             723.0|           1865.0|              799.0|\n",
      "+-------+-----------------+------------------+------------------+------------------+-----------------+-------------------+"
     ]
    }
   ],
   "source": [
    "df.select(\"CRS_DEP_TIME\",\"ARR_TIME\",\"DEP_TIME\",\"AIR_TIME\",\"CRS_ELAPSED_TIME\",\"ACTUAL_ELAPSED_TIME\").describe().show()\n"
   ]
  },
  {
   "cell_type": "markdown",
   "id": "2a4ab13b-57cb-488e-b41e-44e3a77f778a",
   "metadata": {},
   "source": [
    "# Simple Data Pre-processing"
   ]
  },
  {
   "cell_type": "code",
   "execution_count": 15,
   "id": "028d8f26-5d78-4220-b0b6-3ac4693904cc",
   "metadata": {
    "execution": {
     "iopub.execute_input": "2022-04-06T08:18:00.610092Z",
     "iopub.status.busy": "2022-04-06T08:18:00.609839Z",
     "iopub.status.idle": "2022-04-06T08:18:02.924423Z",
     "shell.execute_reply": "2022-04-06T08:18:02.923606Z",
     "shell.execute_reply.started": "2022-04-06T08:18:00.610066Z"
    },
    "tags": []
   },
   "outputs": [
    {
     "data": {
      "application/vnd.jupyter.widget-view+json": {
       "model_id": "eba395502ac041f6a6d0002dfee654dd",
       "version_major": 2,
       "version_minor": 0
      },
      "text/plain": [
       "VBox()"
      ]
     },
     "metadata": {},
     "output_type": "display_data"
    },
    {
     "data": {
      "application/vnd.jupyter.widget-view+json": {
       "model_id": "",
       "version_major": 2,
       "version_minor": 0
      },
      "text/plain": [
       "FloatProgress(value=0.0, bar_style='info', description='Progress:', layout=Layout(height='25px', width='50%'),…"
      ]
     },
     "metadata": {},
     "output_type": "display_data"
    }
   ],
   "source": [
    "df0 = spark.read.format(\"parquet\")\\\n",
    "    .option(\"header\",\"true\")\\\n",
    "    .option(\"inferschema\",\"true\")\\\n",
    "    .load(\"s3://vitaproject23/cleandata/\")"
   ]
  },
  {
   "cell_type": "code",
   "execution_count": 16,
   "id": "a7d9328e-afd7-4783-954e-5b9e3d32e725",
   "metadata": {
    "execution": {
     "iopub.execute_input": "2022-04-06T08:18:06.290023Z",
     "iopub.status.busy": "2022-04-06T08:18:06.289779Z",
     "iopub.status.idle": "2022-04-06T08:18:07.075940Z",
     "shell.execute_reply": "2022-04-06T08:18:07.075248Z",
     "shell.execute_reply.started": "2022-04-06T08:18:06.289997Z"
    },
    "tags": []
   },
   "outputs": [
    {
     "data": {
      "application/vnd.jupyter.widget-view+json": {
       "model_id": "41caf0f0ec3342b1ab18ed551046eae4",
       "version_major": 2,
       "version_minor": 0
      },
      "text/plain": [
       "VBox()"
      ]
     },
     "metadata": {},
     "output_type": "display_data"
    },
    {
     "data": {
      "application/vnd.jupyter.widget-view+json": {
       "model_id": "",
       "version_major": 2,
       "version_minor": 0
      },
      "text/plain": [
       "FloatProgress(value=0.0, bar_style='info', description='Progress:', layout=Layout(height='25px', width='50%'),…"
      ]
     },
     "metadata": {},
     "output_type": "display_data"
    },
    {
     "name": "stdout",
     "output_type": "stream",
     "text": [
      "+-------------------+----------+------+----+------------+---------+--------+----------+---------+-------+------------+---------+----------------+-------------------+--------+--------+-----+-------+----+-------------+\n",
      "|            FL_DATE|OP_CARRIER|ORIGIN|DEST|CRS_DEP_TIME|DEP_DELAY|TAXI_OUT|WHEELS_OFF|WHEELS_ON|TAXI_IN|CRS_ARR_TIME|ARR_DELAY|CRS_ELAPSED_TIME|ACTUAL_ELAPSED_TIME|AIR_TIME|DISTANCE|MONTH|WEEKDAY|YEAR|FLIGHT_STATUS|\n",
      "+-------------------+----------+------+----+------------+---------+--------+----------+---------+-------+------------+---------+----------------+-------------------+--------+--------+-----+-------+----+-------------+\n",
      "|2018-11-25 00:00:00|ExpressJet|   SAV| ORD|           2|   1246.0|    15.0|         2|        2|   11.0|           3|   1241.0|           148.0|              143.0|   117.0|   773.0|   11|      1|2018|            1|\n",
      "|2018-11-25 00:00:00|ExpressJet|   CLE| BOS|           2|     40.0|    27.0|         2|        2|    7.0|           2|     59.0|           105.0|              124.0|    90.0|   563.0|   11|      1|2018|            1|\n",
      "|2018-11-25 00:00:00|ExpressJet|   BTR| IAH|           1|    -10.0|    13.0|         1|        1|    5.0|           1|    -17.0|            80.0|               73.0|    55.0|   253.0|   11|      1|2018|            0|\n",
      "|2018-11-25 00:00:00|ExpressJet|   IAH| OMA|           1|     -5.0|    15.0|         2|        2|    6.0|           2|    -13.0|           140.0|              132.0|   111.0|   781.0|   11|      1|2018|            0|\n",
      "|2018-11-25 00:00:00|ExpressJet|   IAH| TUL|           1|      0.0|    21.0|         2|        2|    5.0|           2|     -5.0|            95.0|               90.0|    64.0|   429.0|   11|      1|2018|            0|\n",
      "+-------------------+----------+------+----+------------+---------+--------+----------+---------+-------+------------+---------+----------------+-------------------+--------+--------+-----+-------+----+-------------+\n",
      "only showing top 5 rows"
     ]
    }
   ],
   "source": [
    "df0.show(5)"
   ]
  },
  {
   "cell_type": "code",
   "execution_count": 17,
   "id": "33a1c40f-d0c0-409d-bf12-bcdbdb379c0c",
   "metadata": {
    "execution": {
     "iopub.execute_input": "2022-04-06T08:18:11.491693Z",
     "iopub.status.busy": "2022-04-06T08:18:11.491436Z",
     "iopub.status.idle": "2022-04-06T08:18:11.554487Z",
     "shell.execute_reply": "2022-04-06T08:18:11.553916Z",
     "shell.execute_reply.started": "2022-04-06T08:18:11.491667Z"
    },
    "tags": []
   },
   "outputs": [
    {
     "data": {
      "application/vnd.jupyter.widget-view+json": {
       "model_id": "72cc3d64706f4b61b4b69562aa369736",
       "version_major": 2,
       "version_minor": 0
      },
      "text/plain": [
       "VBox()"
      ]
     },
     "metadata": {},
     "output_type": "display_data"
    },
    {
     "data": {
      "application/vnd.jupyter.widget-view+json": {
       "model_id": "",
       "version_major": 2,
       "version_minor": 0
      },
      "text/plain": [
       "FloatProgress(value=0.0, bar_style='info', description='Progress:', layout=Layout(height='25px', width='50%'),…"
      ]
     },
     "metadata": {},
     "output_type": "display_data"
    },
    {
     "name": "stdout",
     "output_type": "stream",
     "text": [
      "root\n",
      " |-- FL_DATE: string (nullable = true)\n",
      " |-- OP_CARRIER: string (nullable = true)\n",
      " |-- ORIGIN: string (nullable = true)\n",
      " |-- DEST: string (nullable = true)\n",
      " |-- CRS_DEP_TIME: integer (nullable = true)\n",
      " |-- DEP_DELAY: double (nullable = true)\n",
      " |-- TAXI_OUT: double (nullable = true)\n",
      " |-- WHEELS_OFF: integer (nullable = true)\n",
      " |-- WHEELS_ON: integer (nullable = true)\n",
      " |-- TAXI_IN: double (nullable = true)\n",
      " |-- CRS_ARR_TIME: integer (nullable = true)\n",
      " |-- ARR_DELAY: double (nullable = true)\n",
      " |-- CRS_ELAPSED_TIME: double (nullable = true)\n",
      " |-- ACTUAL_ELAPSED_TIME: double (nullable = true)\n",
      " |-- AIR_TIME: double (nullable = true)\n",
      " |-- DISTANCE: double (nullable = true)\n",
      " |-- MONTH: integer (nullable = true)\n",
      " |-- WEEKDAY: integer (nullable = true)\n",
      " |-- YEAR: integer (nullable = true)\n",
      " |-- FLIGHT_STATUS: integer (nullable = true)"
     ]
    }
   ],
   "source": [
    "df0.printSchema()"
   ]
  },
  {
   "cell_type": "code",
   "execution_count": 18,
   "id": "7a26aebc-7426-4853-a043-bd573b559805",
   "metadata": {
    "execution": {
     "iopub.execute_input": "2022-04-06T08:18:16.792058Z",
     "iopub.status.busy": "2022-04-06T08:18:16.791835Z",
     "iopub.status.idle": "2022-04-06T08:18:17.063510Z",
     "shell.execute_reply": "2022-04-06T08:18:17.062915Z",
     "shell.execute_reply.started": "2022-04-06T08:18:16.792035Z"
    },
    "tags": []
   },
   "outputs": [
    {
     "data": {
      "application/vnd.jupyter.widget-view+json": {
       "model_id": "d4b6c27c867d48cb831e7be87fb12f5a",
       "version_major": 2,
       "version_minor": 0
      },
      "text/plain": [
       "VBox()"
      ]
     },
     "metadata": {},
     "output_type": "display_data"
    },
    {
     "data": {
      "application/vnd.jupyter.widget-view+json": {
       "model_id": "",
       "version_major": 2,
       "version_minor": 0
      },
      "text/plain": [
       "FloatProgress(value=0.0, bar_style='info', description='Progress:', layout=Layout(height='25px', width='50%'),…"
      ]
     },
     "metadata": {},
     "output_type": "display_data"
    }
   ],
   "source": [
    "df1= df0[['OP_CARRIER','ORIGIN','DEST','CRS_DEP_TIME',\n",
    " 'DEP_DELAY','CRS_ARR_TIME','CRS_ELAPSED_TIME','ACTUAL_ELAPSED_TIME','ARR_DELAY']]\n"
   ]
  },
  {
   "cell_type": "code",
   "execution_count": 19,
   "id": "2a20d509-749b-4d9e-9cba-aab6c21aaf45",
   "metadata": {
    "execution": {
     "iopub.execute_input": "2022-04-06T08:18:20.349974Z",
     "iopub.status.busy": "2022-04-06T08:18:20.349746Z",
     "iopub.status.idle": "2022-04-06T08:18:21.131669Z",
     "shell.execute_reply": "2022-04-06T08:18:21.130958Z",
     "shell.execute_reply.started": "2022-04-06T08:18:20.349949Z"
    },
    "tags": []
   },
   "outputs": [
    {
     "data": {
      "application/vnd.jupyter.widget-view+json": {
       "model_id": "253eb79e29b04ed994618c90c8fd3982",
       "version_major": 2,
       "version_minor": 0
      },
      "text/plain": [
       "VBox()"
      ]
     },
     "metadata": {},
     "output_type": "display_data"
    },
    {
     "data": {
      "application/vnd.jupyter.widget-view+json": {
       "model_id": "",
       "version_major": 2,
       "version_minor": 0
      },
      "text/plain": [
       "FloatProgress(value=0.0, bar_style='info', description='Progress:', layout=Layout(height='25px', width='50%'),…"
      ]
     },
     "metadata": {},
     "output_type": "display_data"
    },
    {
     "name": "stdout",
     "output_type": "stream",
     "text": [
      "+----------+------+----+------------+---------+------------+----------------+-------------------+---------+\n",
      "|OP_CARRIER|ORIGIN|DEST|CRS_DEP_TIME|DEP_DELAY|CRS_ARR_TIME|CRS_ELAPSED_TIME|ACTUAL_ELAPSED_TIME|ARR_DELAY|\n",
      "+----------+------+----+------------+---------+------------+----------------+-------------------+---------+\n",
      "|ExpressJet|   SAV| ORD|           2|   1246.0|           3|           148.0|              143.0|   1241.0|\n",
      "|ExpressJet|   CLE| BOS|           2|     40.0|           2|           105.0|              124.0|     59.0|\n",
      "|ExpressJet|   BTR| IAH|           1|    -10.0|           1|            80.0|               73.0|    -17.0|\n",
      "|ExpressJet|   IAH| OMA|           1|     -5.0|           2|           140.0|              132.0|    -13.0|\n",
      "|ExpressJet|   IAH| TUL|           1|      0.0|           2|            95.0|               90.0|     -5.0|\n",
      "+----------+------+----+------------+---------+------------+----------------+-------------------+---------+\n",
      "only showing top 5 rows"
     ]
    }
   ],
   "source": [
    "df1.show(5)"
   ]
  },
  {
   "cell_type": "markdown",
   "id": "31fceaeb-09d2-40ac-b24a-8eeb3767afff",
   "metadata": {},
   "source": [
    " **DESTINATION AIRPORT**"
   ]
  },
  {
   "cell_type": "code",
   "execution_count": 20,
   "id": "572d8384-2f8d-4b00-ae61-a532c2e1b88a",
   "metadata": {
    "execution": {
     "iopub.execute_input": "2022-04-06T08:18:33.883520Z",
     "iopub.status.busy": "2022-04-06T08:18:33.883276Z",
     "iopub.status.idle": "2022-04-06T08:18:39.184156Z",
     "shell.execute_reply": "2022-04-06T08:18:39.183416Z",
     "shell.execute_reply.started": "2022-04-06T08:18:33.883495Z"
    },
    "tags": []
   },
   "outputs": [
    {
     "data": {
      "application/vnd.jupyter.widget-view+json": {
       "model_id": "d75906c2b7c94c80abec0efe9d29e4a3",
       "version_major": 2,
       "version_minor": 0
      },
      "text/plain": [
       "VBox()"
      ]
     },
     "metadata": {},
     "output_type": "display_data"
    },
    {
     "data": {
      "application/vnd.jupyter.widget-view+json": {
       "model_id": "",
       "version_major": 2,
       "version_minor": 0
      },
      "text/plain": [
       "FloatProgress(value=0.0, bar_style='info', description='Progress:', layout=Layout(height='25px', width='50%'),…"
      ]
     },
     "metadata": {},
     "output_type": "display_data"
    },
    {
     "name": "stdout",
     "output_type": "stream",
     "text": [
      "377"
     ]
    }
   ],
   "source": [
    "df2 = df1[[\"DEST\"]]\n",
    "df2.drop_duplicates().count()  "
   ]
  },
  {
   "cell_type": "markdown",
   "id": "83f83279-9718-4be7-9755-58a574ba2007",
   "metadata": {},
   "source": [
    "### *Number of Airports"
   ]
  },
  {
   "cell_type": "code",
   "execution_count": 21,
   "id": "3a069b53-4675-4214-84d4-877ef657cedf",
   "metadata": {
    "execution": {
     "iopub.execute_input": "2022-04-06T08:18:42.035196Z",
     "iopub.status.busy": "2022-04-06T08:18:42.034966Z",
     "iopub.status.idle": "2022-04-06T08:18:45.342589Z",
     "shell.execute_reply": "2022-04-06T08:18:45.341922Z",
     "shell.execute_reply.started": "2022-04-06T08:18:42.035171Z"
    },
    "tags": []
   },
   "outputs": [
    {
     "data": {
      "application/vnd.jupyter.widget-view+json": {
       "model_id": "c06b918986f247019d7abfa3582cf7f1",
       "version_major": 2,
       "version_minor": 0
      },
      "text/plain": [
       "VBox()"
      ]
     },
     "metadata": {},
     "output_type": "display_data"
    },
    {
     "data": {
      "application/vnd.jupyter.widget-view+json": {
       "model_id": "",
       "version_major": 2,
       "version_minor": 0
      },
      "text/plain": [
       "FloatProgress(value=0.0, bar_style='info', description='Progress:', layout=Layout(height='25px', width='50%'),…"
      ]
     },
     "metadata": {},
     "output_type": "display_data"
    },
    {
     "name": "stdout",
     "output_type": "stream",
     "text": [
      "Number of Airports: 377"
     ]
    }
   ],
   "source": [
    "df2.distinct().count()\n",
    "print(\"Number of Airports:\",df2.distinct().count())"
   ]
  },
  {
   "cell_type": "markdown",
   "id": "4b0f4927-46e0-43c3-bdad-4d33943383b3",
   "metadata": {},
   "source": [
    "### The Total Number Of Trips."
   ]
  },
  {
   "cell_type": "code",
   "execution_count": 49,
   "id": "7aaf58b5-2434-4297-8bc2-c35588cbc8d6",
   "metadata": {
    "execution": {
     "iopub.execute_input": "2022-04-06T08:29:44.958936Z",
     "iopub.status.busy": "2022-04-06T08:29:44.958678Z",
     "iopub.status.idle": "2022-04-06T08:30:02.312415Z",
     "shell.execute_reply": "2022-04-06T08:30:02.311701Z",
     "shell.execute_reply.started": "2022-04-06T08:29:44.958908Z"
    },
    "tags": []
   },
   "outputs": [
    {
     "data": {
      "application/vnd.jupyter.widget-view+json": {
       "model_id": "89bc2535f5464b16bf97eae6450b51a5",
       "version_major": 2,
       "version_minor": 0
      },
      "text/plain": [
       "VBox()"
      ]
     },
     "metadata": {},
     "output_type": "display_data"
    },
    {
     "data": {
      "application/vnd.jupyter.widget-view+json": {
       "model_id": "",
       "version_major": 2,
       "version_minor": 0
      },
      "text/plain": [
       "FloatProgress(value=0.0, bar_style='info', description='Progress:', layout=Layout(height='25px', width='50%'),…"
      ]
     },
     "metadata": {},
     "output_type": "display_data"
    },
    {
     "name": "stdout",
     "output_type": "stream",
     "text": [
      "+------------------+----+------+-----+\n",
      "|        OP_CARRIER|DEST|ORIGIN|count|\n",
      "+------------------+----+------+-----+\n",
      "|  SkyWest Airlines| SLC|   BIL|11837|\n",
      "|Southwest Airlines| MCO|   AUS| 5992|\n",
      "|      Mesa Airline| AUS|   ORD| 1669|\n",
      "|      Mesa Airline| ONT|   PHX| 1789|\n",
      "|Southwest Airlines| BOS|   PHX|  701|\n",
      "|  SkyWest Airlines| MSP|   IND|  705|\n",
      "|        ExpressJet| MCO|   GRR|   38|\n",
      "|  SkyWest Airlines| IAD|   SAT|  753|\n",
      "|        ExpressJet| LEX|   GNV|    1|\n",
      "|   Comair Airlines| JFK|   BUF| 2131|\n",
      "|   Alaska Airlines| DEN|   SEA|14449|\n",
      "|   Alaska Airlines| CDV|   YAK| 3503|\n",
      "|        ExpressJet| ALB|   ORD| 1736|\n",
      "|        ExpressJet| ATL|   BUF|   66|\n",
      "|   Alaska Airlines| SAN|   SLC| 1257|\n",
      "+------------------+----+------+-----+"
     ]
    }
   ],
   "source": [
    "df2 = df1.select(\"OP_CARRIER\",\"DEST\",\"ORIGIN\") \\\n",
    "            .groupby(\"OP_CARRIER\",\"DEST\",\"ORIGIN\").count() \\\n",
    "            .limit(15)\n",
    "df2.show(15)"
   ]
  },
  {
   "cell_type": "code",
   "execution_count": 50,
   "id": "43e256de-382c-4ce5-8fb3-940f77302c81",
   "metadata": {
    "execution": {
     "iopub.execute_input": "2022-04-06T08:30:06.188489Z",
     "iopub.status.busy": "2022-04-06T08:30:06.188262Z",
     "iopub.status.idle": "2022-04-06T08:30:11.498382Z",
     "shell.execute_reply": "2022-04-06T08:30:11.497771Z",
     "shell.execute_reply.started": "2022-04-06T08:30:06.188464Z"
    },
    "tags": []
   },
   "outputs": [
    {
     "data": {
      "application/vnd.jupyter.widget-view+json": {
       "model_id": "7904248cea1e47c0b36b11ca19b7e40d",
       "version_major": 2,
       "version_minor": 0
      },
      "text/plain": [
       "VBox()"
      ]
     },
     "metadata": {},
     "output_type": "display_data"
    },
    {
     "data": {
      "application/vnd.jupyter.widget-view+json": {
       "model_id": "",
       "version_major": 2,
       "version_minor": 0
      },
      "text/plain": [
       "FloatProgress(value=0.0, bar_style='info', description='Progress:', layout=Layout(height='25px', width='50%'),…"
      ]
     },
     "metadata": {},
     "output_type": "display_data"
    }
   ],
   "source": [
    "tntdf=df2.toPandas()"
   ]
  },
  {
   "cell_type": "code",
   "execution_count": 107,
   "id": "809c7d50-4293-4cb8-bf7c-3a24dc4f673f",
   "metadata": {
    "execution": {
     "iopub.execute_input": "2022-04-06T08:59:49.242360Z",
     "iopub.status.busy": "2022-04-06T08:59:49.242120Z",
     "iopub.status.idle": "2022-04-06T08:59:49.527387Z",
     "shell.execute_reply": "2022-04-06T08:59:49.526784Z",
     "shell.execute_reply.started": "2022-04-06T08:59:49.242336Z"
    },
    "tags": []
   },
   "outputs": [
    {
     "data": {
      "application/vnd.jupyter.widget-view+json": {
       "model_id": "360f4da6fed84e5f8a5e11abd0168a8d",
       "version_major": 2,
       "version_minor": 0
      },
      "text/plain": [
       "VBox()"
      ]
     },
     "metadata": {},
     "output_type": "display_data"
    },
    {
     "data": {
      "application/vnd.jupyter.widget-view+json": {
       "model_id": "",
       "version_major": 2,
       "version_minor": 0
      },
      "text/plain": [
       "FloatProgress(value=0.0, bar_style='info', description='Progress:', layout=Layout(height='25px', width='50%'),…"
      ]
     },
     "metadata": {},
     "output_type": "display_data"
    },
    {
     "data": {
      "image/png": "[encoded data removed]",
      "text/plain": [
       "<IPython.core.display.Image object>"
      ]
     },
     "metadata": {},
     "output_type": "display_data"
    }
   ],
   "source": [
    "plt.rcParams['figure.figsize'] = [10, 7]\n",
    "tntdf.plot()\n",
    "plt.title('The Total Number Of Trips', fontsize=20)\n",
    "plt.xlabel('ORIGIN', fontsize=16)\n",
    "plt.ylabel('TRIPS', fontsize=16)\n",
    "plt.rc('xtick',labelsize=14)\n",
    "plt.rc('ytick',labelsize=14)\n",
    "import numpy as np\n",
    "xpos = np.arange(len(tntdf.ORIGIN))\n",
    "plt.xticks(xpos,tntdf['ORIGIN'],rotation = 90)\n",
    "plt.show();\n",
    "%matplot plt"
   ]
  },
  {
   "cell_type": "markdown",
   "id": "fab2c596-2cb8-4597-9b7a-c4387ef379d6",
   "metadata": {},
   "source": [
    "## Flight routes are greater than \"1000\" miles in distance."
   ]
  },
  {
   "cell_type": "code",
   "execution_count": 23,
   "id": "f072b2f7-0fa2-41e0-a453-4c70fcd4d9f5",
   "metadata": {
    "execution": {
     "iopub.execute_input": "2022-04-06T08:19:59.441534Z",
     "iopub.status.busy": "2022-04-06T08:19:59.441197Z",
     "iopub.status.idle": "2022-04-06T08:20:00.748960Z",
     "shell.execute_reply": "2022-04-06T08:20:00.748281Z",
     "shell.execute_reply.started": "2022-04-06T08:19:59.441493Z"
    },
    "tags": []
   },
   "outputs": [
    {
     "data": {
      "application/vnd.jupyter.widget-view+json": {
       "model_id": "ae46aaec78de4501aa1783c7ed911294",
       "version_major": 2,
       "version_minor": 0
      },
      "text/plain": [
       "VBox()"
      ]
     },
     "metadata": {},
     "output_type": "display_data"
    },
    {
     "data": {
      "application/vnd.jupyter.widget-view+json": {
       "model_id": "",
       "version_major": 2,
       "version_minor": 0
      },
      "text/plain": [
       "FloatProgress(value=0.0, bar_style='info', description='Progress:', layout=Layout(height='25px', width='50%'),…"
      ]
     },
     "metadata": {},
     "output_type": "display_data"
    },
    {
     "name": "stdout",
     "output_type": "stream",
     "text": [
      "+------------+---------+---------+------+----+--------+\n",
      "|  OP_CARRIER|DEP_DELAY|ARR_DELAY|ORIGIN|DEST|DISTANCE|\n",
      "+------------+---------+---------+------+----+--------+\n",
      "|  ExpressJet|     -7.0|    -33.0|   IAH| CLE|  1091.0|\n",
      "|  ExpressJet|     20.0|     54.0|   EWR| XNA|  1131.0|\n",
      "|Mesa Airline|     -1.0|    -28.0|   IAH| LGA|  1416.0|\n",
      "|Mesa Airline|     -7.0|    -14.0|   RNO| IAH|  1530.0|\n",
      "|Mesa Airline|      2.0|      7.0|   ORF| IAH|  1201.0|\n",
      "|Mesa Airline|     -3.0|     21.0|   IAD| AUS|  1297.0|\n",
      "|Mesa Airline|      3.0|     12.0|   IAD| DFW|  1172.0|\n",
      "|Mesa Airline|      0.0|      7.0|   OKC| IAD|  1136.0|\n",
      "|Mesa Airline|     -4.0|    -23.0|   CLE| IAH|  1091.0|\n",
      "|Mesa Airline|    -12.0|     17.0|   DCA| IAH|  1208.0|\n",
      "|Mesa Airline|     33.0|     30.0|   CLE| IAH|  1091.0|\n",
      "|Mesa Airline|     -4.0|     -1.0|   DTW| IAH|  1075.0|\n",
      "|Mesa Airline|     55.0|     40.0|   IAH| DTW|  1075.0|\n",
      "|Mesa Airline|     -7.0|    -32.0|   SLC| IAH|  1195.0|\n",
      "|Mesa Airline|     17.0|      5.0|   IAH| DTW|  1075.0|\n",
      "|Mesa Airline|      0.0|      4.0|   BDL| IAH|  1507.0|\n",
      "|Mesa Airline|     -3.0|    -12.0|   DFW| IAD|  1172.0|\n",
      "|Mesa Airline|     -1.0|    -25.0|   IAH| PHL|  1325.0|\n",
      "|Mesa Airline|    135.0|    144.0|   IAH| CLE|  1091.0|\n",
      "|Mesa Airline|     26.0|      7.0|   IAH| CLE|  1091.0|\n",
      "+------------+---------+---------+------+----+--------+\n",
      "only showing top 20 rows"
     ]
    }
   ],
   "source": [
    "df0.select(\"OP_CARRIER\",\"DEP_DELAY\",'ARR_DELAY','ORIGIN','DEST',\"DISTANCE\").filter(\"DISTANCE > 1000\").show(20)"
   ]
  },
  {
   "cell_type": "markdown",
   "id": "fd10a381-4d0e-41a8-a638-3b9ae88cd58f",
   "metadata": {},
   "source": [
    "## *The Top longest distance routes."
   ]
  },
  {
   "cell_type": "code",
   "execution_count": 72,
   "id": "8e0a29ce-42c1-4c69-89de-5f821f5d955b",
   "metadata": {
    "execution": {
     "iopub.execute_input": "2022-04-06T08:38:16.145525Z",
     "iopub.status.busy": "2022-04-06T08:38:16.145054Z",
     "iopub.status.idle": "2022-04-06T08:38:23.477234Z",
     "shell.execute_reply": "2022-04-06T08:38:23.476362Z",
     "shell.execute_reply.started": "2022-04-06T08:38:16.145478Z"
    },
    "tags": []
   },
   "outputs": [
    {
     "data": {
      "application/vnd.jupyter.widget-view+json": {
       "model_id": "c7d8b15cdf5947faab53dac1a1021b0e",
       "version_major": 2,
       "version_minor": 0
      },
      "text/plain": [
       "VBox()"
      ]
     },
     "metadata": {},
     "output_type": "display_data"
    },
    {
     "data": {
      "application/vnd.jupyter.widget-view+json": {
       "model_id": "",
       "version_major": 2,
       "version_minor": 0
      },
      "text/plain": [
       "FloatProgress(value=0.0, bar_style='info', description='Progress:', layout=Layout(height='25px', width='50%'),…"
      ]
     },
     "metadata": {},
     "output_type": "display_data"
    },
    {
     "name": "stdout",
     "output_type": "stream",
     "text": [
      "+------+----+--------+\n",
      "|ORIGIN|DEST|DISTANCE|\n",
      "+------+----+--------+\n",
      "|   HNL| JFK|  4983.0|\n",
      "|   JFK| HNL|  4983.0|\n",
      "|   HNL| EWR|  4963.0|\n",
      "|   EWR| HNL|  4963.0|\n",
      "|   EWR| HNL|  4962.0|\n",
      "|   HNL| EWR|  4962.0|\n",
      "|   IAD| HNL|  4817.0|\n",
      "|   HNL| IAD|  4817.0|\n",
      "|   CLT| HNL|  4678.0|\n",
      "|   HNL| CLT|  4678.0|\n",
      "|   ATL| HNL|  4502.0|\n",
      "|   HNL| ATL|  4502.0|\n",
      "|   DTW| HNL|  4475.0|\n",
      "|   HNL| DTW|  4475.0|\n",
      "|   ORD| HNL|  4244.0|\n",
      "+------+----+--------+"
     ]
    }
   ],
   "source": [
    "from pyspark.sql.functions import desc\n",
    "distance =df0.select('ORIGIN', 'DEST', 'DISTANCE').distinct().sort(desc('DISTANCE')).limit(15)\n",
    "distance.show(15)"
   ]
  },
  {
   "cell_type": "code",
   "execution_count": 73,
   "id": "4bb55b54-eaf6-49ee-bc56-56a47164c6f4",
   "metadata": {
    "execution": {
     "iopub.execute_input": "2022-04-06T08:38:27.869272Z",
     "iopub.status.busy": "2022-04-06T08:38:27.869041Z",
     "iopub.status.idle": "2022-04-06T08:38:33.154343Z",
     "shell.execute_reply": "2022-04-06T08:38:33.153727Z",
     "shell.execute_reply.started": "2022-04-06T08:38:27.869247Z"
    },
    "tags": []
   },
   "outputs": [
    {
     "data": {
      "application/vnd.jupyter.widget-view+json": {
       "model_id": "2591c4273b9e4341bd7a826e04571274",
       "version_major": 2,
       "version_minor": 0
      },
      "text/plain": [
       "VBox()"
      ]
     },
     "metadata": {},
     "output_type": "display_data"
    },
    {
     "data": {
      "application/vnd.jupyter.widget-view+json": {
       "model_id": "",
       "version_major": 2,
       "version_minor": 0
      },
      "text/plain": [
       "FloatProgress(value=0.0, bar_style='info', description='Progress:', layout=Layout(height='25px', width='50%'),…"
      ]
     },
     "metadata": {},
     "output_type": "display_data"
    }
   ],
   "source": [
    "distdf=distance.toPandas()"
   ]
  },
  {
   "cell_type": "code",
   "execution_count": 105,
   "id": "99c26096-8259-4caa-bc92-b3644da99b09",
   "metadata": {
    "execution": {
     "iopub.execute_input": "2022-04-06T08:59:12.004088Z",
     "iopub.status.busy": "2022-04-06T08:59:12.003857Z",
     "iopub.status.idle": "2022-04-06T08:59:12.279021Z",
     "shell.execute_reply": "2022-04-06T08:59:12.278401Z",
     "shell.execute_reply.started": "2022-04-06T08:59:12.004064Z"
    },
    "tags": []
   },
   "outputs": [
    {
     "data": {
      "application/vnd.jupyter.widget-view+json": {
       "model_id": "8fae9edf687b45cf998bec4d48714959",
       "version_major": 2,
       "version_minor": 0
      },
      "text/plain": [
       "VBox()"
      ]
     },
     "metadata": {},
     "output_type": "display_data"
    },
    {
     "data": {
      "application/vnd.jupyter.widget-view+json": {
       "model_id": "",
       "version_major": 2,
       "version_minor": 0
      },
      "text/plain": [
       "FloatProgress(value=0.0, bar_style='info', description='Progress:', layout=Layout(height='25px', width='50%'),…"
      ]
     },
     "metadata": {},
     "output_type": "display_data"
    },
    {
     "data": {
      "image/png": "[encoded data removed]",
      "text/plain": [
       "<IPython.core.display.Image object>"
      ]
     },
     "metadata": {},
     "output_type": "display_data"
    }
   ],
   "source": [
    "plt.rcParams['figure.figsize'] = [10, 7]\n",
    "distdf.plot()\n",
    "plt.title('The longest distance routes.', fontsize=20)\n",
    "plt.xlabel('ORIGIN', fontsize=16)\n",
    "plt.ylabel('FLIGHTS', fontsize=15)\n",
    "plt.rc('xtick',labelsize=14)\n",
    "plt.rc('ytick',labelsize=14)\n",
    "import numpy as np\n",
    "xpos = np.arange(len(distdf.ORIGIN))\n",
    "plt.xticks(xpos,distdf['ORIGIN'],rotation = 90)\n",
    "plt.show();\n",
    "%matplot plt"
   ]
  },
  {
   "cell_type": "code",
   "execution_count": null,
   "id": "6992cff2-0022-4b42-8ac1-352c418f394b",
   "metadata": {},
   "outputs": [],
   "source": []
  },
  {
   "cell_type": "markdown",
   "id": "1243b516-0545-46ce-b39a-349adbcb8d97",
   "metadata": {},
   "source": [
    "## *The Most Common Airports/Most Crowded Airports."
   ]
  },
  {
   "cell_type": "markdown",
   "id": "040e4d8a-ba98-48c5-beea-227a9330e999",
   "metadata": {},
   "source": [
    "### 1.The most common airports w.r.t arrivals"
   ]
  },
  {
   "cell_type": "code",
   "execution_count": 79,
   "id": "604984f2-ac4d-4bd2-a80e-167117395d88",
   "metadata": {
    "execution": {
     "iopub.execute_input": "2022-04-06T08:42:07.491098Z",
     "iopub.status.busy": "2022-04-06T08:42:07.490835Z",
     "iopub.status.idle": "2022-04-06T08:42:08.495868Z",
     "shell.execute_reply": "2022-04-06T08:42:08.465037Z",
     "shell.execute_reply.started": "2022-04-06T08:42:07.491072Z"
    },
    "tags": []
   },
   "outputs": [
    {
     "data": {
      "application/vnd.jupyter.widget-view+json": {
       "model_id": "f78a5040c27c4732a0ad53166c826253",
       "version_major": 2,
       "version_minor": 0
      },
      "text/plain": [
       "VBox()"
      ]
     },
     "metadata": {},
     "output_type": "display_data"
    },
    {
     "data": {
      "application/vnd.jupyter.widget-view+json": {
       "model_id": "",
       "version_major": 2,
       "version_minor": 0
      },
      "text/plain": [
       "FloatProgress(value=0.0, bar_style='info', description='Progress:', layout=Layout(height='25px', width='50%'),…"
      ]
     },
     "metadata": {},
     "output_type": "display_data"
    }
   ],
   "source": [
    "df_f=df1.select(\"OP_CARRIER\",\"DEST\",\"ORIGIN\")\\\n",
    "        .groupBy('DEST').count()\\\n",
    "        .orderBy('count', ascending=False)\\\n",
    "        .limit(20)\n",
    "        "
   ]
  },
  {
   "cell_type": "code",
   "execution_count": 80,
   "id": "f1836ca9-8007-40d5-8cc8-020770d0e4ad",
   "metadata": {
    "execution": {
     "iopub.execute_input": "2022-04-06T08:42:27.136488Z",
     "iopub.status.busy": "2022-04-06T08:42:27.136260Z",
     "iopub.status.idle": "2022-04-06T08:42:40.444780Z",
     "shell.execute_reply": "2022-04-06T08:42:40.444160Z",
     "shell.execute_reply.started": "2022-04-06T08:42:27.136463Z"
    }
   },
   "outputs": [
    {
     "data": {
      "application/vnd.jupyter.widget-view+json": {
       "model_id": "f808530f37fc4fc4a11fe118b480421f",
       "version_major": 2,
       "version_minor": 0
      },
      "text/plain": [
       "VBox()"
      ]
     },
     "metadata": {},
     "output_type": "display_data"
    },
    {
     "data": {
      "application/vnd.jupyter.widget-view+json": {
       "model_id": "",
       "version_major": 2,
       "version_minor": 0
      },
      "text/plain": [
       "FloatProgress(value=0.0, bar_style='info', description='Progress:', layout=Layout(height='25px', width='50%'),…"
      ]
     },
     "metadata": {},
     "output_type": "display_data"
    },
    {
     "name": "stdout",
     "output_type": "stream",
     "text": [
      "+----+-------+\n",
      "|DEST|  count|\n",
      "+----+-------+\n",
      "| ATL|3844795|\n",
      "| ORD|2908690|\n",
      "| DFW|2481062|\n",
      "| DEN|2268324|\n",
      "| LAX|2107552|\n",
      "| PHX|1702807|\n",
      "| IAH|1642903|\n",
      "| SFO|1578926|\n",
      "| LAS|1460591|\n",
      "| CLT|1310271|\n",
      "| DTW|1269857|\n",
      "| MSP|1242722|\n",
      "| MCO|1212395|\n",
      "| BOS|1144255|\n",
      "| EWR|1140902|\n",
      "| SLC|1136898|\n",
      "| SEA|1134518|\n",
      "| LGA|1033692|\n",
      "| JFK|1030130|\n",
      "| BWI| 985342|\n",
      "+----+-------+"
     ]
    }
   ],
   "source": [
    "df_f.show()"
   ]
  },
  {
   "cell_type": "code",
   "execution_count": 81,
   "id": "1e0e2c18-e4d2-42ea-b878-af5f239d6aad",
   "metadata": {
    "execution": {
     "iopub.execute_input": "2022-04-06T08:44:47.276953Z",
     "iopub.status.busy": "2022-04-06T08:44:47.276729Z",
     "iopub.status.idle": "2022-04-06T08:45:00.601433Z",
     "shell.execute_reply": "2022-04-06T08:45:00.600652Z",
     "shell.execute_reply.started": "2022-04-06T08:44:47.276929Z"
    }
   },
   "outputs": [
    {
     "data": {
      "application/vnd.jupyter.widget-view+json": {
       "model_id": "e9e67ac80b0a442cb6b630b1b5a5681f",
       "version_major": 2,
       "version_minor": 0
      },
      "text/plain": [
       "VBox()"
      ]
     },
     "metadata": {},
     "output_type": "display_data"
    },
    {
     "data": {
      "application/vnd.jupyter.widget-view+json": {
       "model_id": "",
       "version_major": 2,
       "version_minor": 0
      },
      "text/plain": [
       "FloatProgress(value=0.0, bar_style='info', description='Progress:', layout=Layout(height='25px', width='50%'),…"
      ]
     },
     "metadata": {},
     "output_type": "display_data"
    }
   ],
   "source": [
    "df_fp=df_f.toPandas()"
   ]
  },
  {
   "cell_type": "code",
   "execution_count": 98,
   "id": "ad8c7877-c1cc-4bac-9388-7675ed388905",
   "metadata": {
    "execution": {
     "iopub.execute_input": "2022-04-06T08:57:57.432444Z",
     "iopub.status.busy": "2022-04-06T08:57:57.432209Z",
     "iopub.status.idle": "2022-04-06T08:57:57.711775Z",
     "shell.execute_reply": "2022-04-06T08:57:57.711092Z",
     "shell.execute_reply.started": "2022-04-06T08:57:57.432419Z"
    },
    "tags": []
   },
   "outputs": [
    {
     "data": {
      "application/vnd.jupyter.widget-view+json": {
       "model_id": "5fedd386cef449adacad1e61f15c7663",
       "version_major": 2,
       "version_minor": 0
      },
      "text/plain": [
       "VBox()"
      ]
     },
     "metadata": {},
     "output_type": "display_data"
    },
    {
     "data": {
      "application/vnd.jupyter.widget-view+json": {
       "model_id": "",
       "version_major": 2,
       "version_minor": 0
      },
      "text/plain": [
       "FloatProgress(value=0.0, bar_style='info', description='Progress:', layout=Layout(height='25px', width='50%'),…"
      ]
     },
     "metadata": {},
     "output_type": "display_data"
    },
    {
     "data": {
      "image/png": "[encoded data removed]",
      "text/plain": [
       "<IPython.core.display.Image object>"
      ]
     },
     "metadata": {},
     "output_type": "display_data"
    }
   ],
   "source": [
    "from matplotlib import pyplot as plt\n",
    "plt.rcParams['figure.figsize'] = [10, 8]\n",
    "df_fp.plot.bar()\n",
    "plt.title('The Most Crowded/Busy Airports', fontsize=20)\n",
    "plt.xlabel('AIRPORTS', fontsize=16)\n",
    "plt.ylabel('FLIGHTS', fontsize=16)\n",
    "plt.rc('xtick',labelsize=14)\n",
    "plt.rc('ytick',labelsize=14)\n",
    "import numpy as np\n",
    "xpos = np.arange(len(df_fp.DEST))\n",
    "plt.xticks(xpos,df_fp['DEST'],rotation = 90)\n",
    "plt.show();\n",
    "%matplot plt"
   ]
  },
  {
   "cell_type": "markdown",
   "id": "dbc69563-7f20-4521-b9cc-a19998cc2647",
   "metadata": {},
   "source": [
    "### 2.The most common airport w.r.t Departures."
   ]
  },
  {
   "cell_type": "code",
   "execution_count": 27,
   "id": "6d4ab871-942f-4401-92de-8d3045283aed",
   "metadata": {
    "execution": {
     "iopub.execute_input": "2022-04-06T08:20:25.629722Z",
     "iopub.status.busy": "2022-04-06T08:20:25.629485Z",
     "iopub.status.idle": "2022-04-06T08:20:26.939832Z",
     "shell.execute_reply": "2022-04-06T08:20:26.939123Z",
     "shell.execute_reply.started": "2022-04-06T08:20:25.629697Z"
    },
    "tags": []
   },
   "outputs": [
    {
     "data": {
      "application/vnd.jupyter.widget-view+json": {
       "model_id": "ae9930c330154e928752415d92298221",
       "version_major": 2,
       "version_minor": 0
      },
      "text/plain": [
       "VBox()"
      ]
     },
     "metadata": {},
     "output_type": "display_data"
    },
    {
     "data": {
      "application/vnd.jupyter.widget-view+json": {
       "model_id": "",
       "version_major": 2,
       "version_minor": 0
      },
      "text/plain": [
       "FloatProgress(value=0.0, bar_style='info', description='Progress:', layout=Layout(height='25px', width='50%'),…"
      ]
     },
     "metadata": {},
     "output_type": "display_data"
    },
    {
     "name": "stdout",
     "output_type": "stream",
     "text": [
      "+------+-------+\n",
      "|ORIGIN|  count|\n",
      "+------+-------+\n",
      "|   ATL|3849391|\n",
      "|   ORD|2915085|\n",
      "|   DFW|2488904|\n",
      "|   DEN|2271450|\n",
      "|   LAX|2106537|\n",
      "|   PHX|1705697|\n",
      "|   IAH|1645926|\n",
      "|   SFO|1580093|\n",
      "|   LAS|1458937|\n",
      "|   CLT|1312686|\n",
      "+------+-------+\n",
      "only showing top 10 rows"
     ]
    }
   ],
   "source": [
    "df_f=df1.select(\"OP_CARRIER\",\"DEST\",\"ORIGIN\")\\\n",
    "        .groupBy('ORIGIN').count()\\\n",
    "        .orderBy('count', ascending=False).show(10)"
   ]
  },
  {
   "cell_type": "markdown",
   "id": "cadb7ada-9e56-4000-b0ca-b150250f75ee",
   "metadata": {},
   "source": [
    "# *Number of Flights by Time Period"
   ]
  },
  {
   "cell_type": "markdown",
   "id": "40f3568d-a876-4d42-a03c-b5236f251e94",
   "metadata": {},
   "source": [
    "## 1.Number of Flights by Month"
   ]
  },
  {
   "cell_type": "code",
   "execution_count": 28,
   "id": "9a83eb20-a39c-45a2-b003-a18912f59946",
   "metadata": {
    "execution": {
     "iopub.execute_input": "2022-04-06T08:20:34.493927Z",
     "iopub.status.busy": "2022-04-06T08:20:34.493698Z",
     "iopub.status.idle": "2022-04-06T08:20:35.777696Z",
     "shell.execute_reply": "2022-04-06T08:20:35.777101Z",
     "shell.execute_reply.started": "2022-04-06T08:20:34.493903Z"
    },
    "tags": []
   },
   "outputs": [
    {
     "data": {
      "application/vnd.jupyter.widget-view+json": {
       "model_id": "105120ffe6ba4b4b8a16b1e53823eff9",
       "version_major": 2,
       "version_minor": 0
      },
      "text/plain": [
       "VBox()"
      ]
     },
     "metadata": {},
     "output_type": "display_data"
    },
    {
     "data": {
      "application/vnd.jupyter.widget-view+json": {
       "model_id": "",
       "version_major": 2,
       "version_minor": 0
      },
      "text/plain": [
       "FloatProgress(value=0.0, bar_style='info', description='Progress:', layout=Layout(height='25px', width='50%'),…"
      ]
     },
     "metadata": {},
     "output_type": "display_data"
    },
    {
     "name": "stdout",
     "output_type": "stream",
     "text": [
      "+-----+-------+\n",
      "|MONTH|  count|\n",
      "+-----+-------+\n",
      "|    1|4799953|\n",
      "|    2|4429011|\n",
      "|    3|5190952|\n",
      "|    4|5034186|\n",
      "|    5|5178782|\n",
      "|    6|5749062|\n",
      "|    7|4877847|\n",
      "|    8|5359885|\n",
      "|    9|5402686|\n",
      "|   10|4591689|\n",
      "+-----+-------+\n",
      "only showing top 10 rows"
     ]
    }
   ],
   "source": [
    "\n",
    "num_of_flights_by_month = df0.groupBy('MONTH').count().orderBy('MONTH')\n",
    "num_of_flights_by_month.show(10)"
   ]
  },
  {
   "cell_type": "markdown",
   "id": "079eefbe-dc15-468c-87f5-39cdc0e6d63d",
   "metadata": {
    "execution": {
     "iopub.execute_input": "2022-04-05T11:10:10.995865Z",
     "iopub.status.busy": "2022-04-05T11:10:10.995628Z",
     "iopub.status.idle": "2022-04-05T11:10:11.052968Z",
     "shell.execute_reply": "2022-04-05T11:10:11.052406Z",
     "shell.execute_reply.started": "2022-04-05T11:10:10.995840Z"
    }
   },
   "source": [
    "## 2.Number of Flights by Year"
   ]
  },
  {
   "cell_type": "code",
   "execution_count": 29,
   "id": "8ff4738f-87f9-46a7-a81b-2da2a2e10b04",
   "metadata": {
    "execution": {
     "iopub.execute_input": "2022-04-06T08:20:46.524121Z",
     "iopub.status.busy": "2022-04-06T08:20:46.523878Z",
     "iopub.status.idle": "2022-04-06T08:20:47.828167Z",
     "shell.execute_reply": "2022-04-06T08:20:47.827455Z",
     "shell.execute_reply.started": "2022-04-06T08:20:46.524094Z"
    },
    "tags": []
   },
   "outputs": [
    {
     "data": {
      "application/vnd.jupyter.widget-view+json": {
       "model_id": "557886cc0fe74bc08477472c54bb17e9",
       "version_major": 2,
       "version_minor": 0
      },
      "text/plain": [
       "VBox()"
      ]
     },
     "metadata": {},
     "output_type": "display_data"
    },
    {
     "data": {
      "application/vnd.jupyter.widget-view+json": {
       "model_id": "",
       "version_major": 2,
       "version_minor": 0
      },
      "text/plain": [
       "FloatProgress(value=0.0, bar_style='info', description='Progress:', layout=Layout(height='25px', width='50%'),…"
      ]
     },
     "metadata": {},
     "output_type": "display_data"
    },
    {
     "name": "stdout",
     "output_type": "stream",
     "text": [
      "+----+-------+\n",
      "|YEAR|  count|\n",
      "+----+-------+\n",
      "|2009|6326976|\n",
      "|2010|6321388|\n",
      "|2011|5936209|\n",
      "|2012|6005379|\n",
      "|2013|6259310|\n",
      "|2014|5678378|\n",
      "|2015|5714008|\n",
      "|2016|5538145|\n",
      "|2017|5579410|\n",
      "|2018|7071817|\n",
      "+----+-------+"
     ]
    }
   ],
   "source": [
    "num_of_flights_by_year = df0.groupBy('YEAR').count().orderBy('YEAR')\n",
    "num_of_flights_by_year.show()"
   ]
  },
  {
   "cell_type": "code",
   "execution_count": 85,
   "id": "fcdafa07-d525-4d94-9d53-d6dcb130d680",
   "metadata": {
    "execution": {
     "iopub.execute_input": "2022-04-06T08:49:41.960937Z",
     "iopub.status.busy": "2022-04-06T08:49:41.960713Z",
     "iopub.status.idle": "2022-04-06T08:49:53.265790Z",
     "shell.execute_reply": "2022-04-06T08:49:53.265129Z",
     "shell.execute_reply.started": "2022-04-06T08:49:41.960913Z"
    }
   },
   "outputs": [
    {
     "data": {
      "application/vnd.jupyter.widget-view+json": {
       "model_id": "868f7f29a6cb4daf8cd93b9917a68e8b",
       "version_major": 2,
       "version_minor": 0
      },
      "text/plain": [
       "VBox()"
      ]
     },
     "metadata": {},
     "output_type": "display_data"
    },
    {
     "data": {
      "application/vnd.jupyter.widget-view+json": {
       "model_id": "",
       "version_major": 2,
       "version_minor": 0
      },
      "text/plain": [
       "FloatProgress(value=0.0, bar_style='info', description='Progress:', layout=Layout(height='25px', width='50%'),…"
      ]
     },
     "metadata": {},
     "output_type": "display_data"
    }
   ],
   "source": [
    "byyear=num_of_flights_by_year.toPandas()"
   ]
  },
  {
   "cell_type": "code",
   "execution_count": 97,
   "id": "ba6a1b00-4437-41af-9db8-fd80cd3f64fe",
   "metadata": {
    "execution": {
     "iopub.execute_input": "2022-04-06T08:57:30.413747Z",
     "iopub.status.busy": "2022-04-06T08:57:30.413522Z",
     "iopub.status.idle": "2022-04-06T08:57:30.685337Z",
     "shell.execute_reply": "2022-04-06T08:57:30.684674Z",
     "shell.execute_reply.started": "2022-04-06T08:57:30.413723Z"
    },
    "tags": []
   },
   "outputs": [
    {
     "data": {
      "application/vnd.jupyter.widget-view+json": {
       "model_id": "3e72afe260334757bf98d4095d7b93d4",
       "version_major": 2,
       "version_minor": 0
      },
      "text/plain": [
       "VBox()"
      ]
     },
     "metadata": {},
     "output_type": "display_data"
    },
    {
     "data": {
      "application/vnd.jupyter.widget-view+json": {
       "model_id": "",
       "version_major": 2,
       "version_minor": 0
      },
      "text/plain": [
       "FloatProgress(value=0.0, bar_style='info', description='Progress:', layout=Layout(height='25px', width='50%'),…"
      ]
     },
     "metadata": {},
     "output_type": "display_data"
    },
    {
     "data": {
      "image/png": "[encoded data removed]",
      "text/plain": [
       "<IPython.core.display.Image object>"
      ]
     },
     "metadata": {},
     "output_type": "display_data"
    }
   ],
   "source": [
    "from matplotlib import pyplot as plt\n",
    "from matplotlib.gridspec import GridSpec\n",
    "plt.rcParams['figure.figsize'] = [10, 8]\n",
    "plt.style.use('seaborn-deep')\n",
    "byyear.plot.bar()\n",
    "plt.title('Number of flights by YEAR', fontsize=18)\n",
    "plt.xlabel('YEAR', fontsize=10)\n",
    "plt.ylabel('FLIGHTS', fontsize=10)\n",
    "plt.rc('xtick',labelsize=14)\n",
    "plt.rc('ytick',labelsize=14)\n",
    "xpos = np.arange(len(byyear.YEAR))\n",
    "plt.xticks(xpos,byyear['YEAR'],rotation = 90)\n",
    "plt.show();\n",
    "%matplot plt"
   ]
  },
  {
   "cell_type": "markdown",
   "id": "c174d97a-8e70-4154-8f48-b7cd445e7dc4",
   "metadata": {
    "execution": {
     "iopub.execute_input": "2022-04-04T20:29:10.197481Z",
     "iopub.status.busy": "2022-04-04T20:29:10.197243Z",
     "iopub.status.idle": "2022-04-04T20:29:10.255612Z",
     "shell.execute_reply": "2022-04-04T20:29:10.254815Z",
     "shell.execute_reply.started": "2022-04-04T20:29:10.197456Z"
    }
   },
   "source": [
    "# Total number of flights that were DELAYED,ON TIME,AHEAD OF TIME."
   ]
  },
  {
   "cell_type": "markdown",
   "id": "a18b732d-780a-4088-bac0-f62411c4e36d",
   "metadata": {},
   "source": [
    "### 1.Total flights that were ahead of time."
   ]
  },
  {
   "cell_type": "code",
   "execution_count": 30,
   "id": "c37bccdf-1cbd-44fd-bd88-ebd78735f007",
   "metadata": {
    "execution": {
     "iopub.execute_input": "2022-04-06T08:20:51.556669Z",
     "iopub.status.busy": "2022-04-06T08:20:51.556327Z",
     "iopub.status.idle": "2022-04-06T08:20:54.863609Z",
     "shell.execute_reply": "2022-04-06T08:20:54.862817Z",
     "shell.execute_reply.started": "2022-04-06T08:20:51.556631Z"
    },
    "tags": []
   },
   "outputs": [
    {
     "data": {
      "application/vnd.jupyter.widget-view+json": {
       "model_id": "590df6efdabc47e0ba44051b36e45b9d",
       "version_major": 2,
       "version_minor": 0
      },
      "text/plain": [
       "VBox()"
      ]
     },
     "metadata": {},
     "output_type": "display_data"
    },
    {
     "data": {
      "application/vnd.jupyter.widget-view+json": {
       "model_id": "",
       "version_major": 2,
       "version_minor": 0
      },
      "text/plain": [
       "FloatProgress(value=0.0, bar_style='info', description='Progress:', layout=Layout(height='25px', width='50%'),…"
      ]
     },
     "metadata": {},
     "output_type": "display_data"
    },
    {
     "name": "stdout",
     "output_type": "stream",
     "text": [
      "+------+----+------------+--------+---------+\n",
      "|ORIGIN|DEST|CRS_DEP_TIME|DEP_TIME|DEP_DELAY|\n",
      "+------+----+------------+--------+---------+\n",
      "|   BTR| IAH|       930.0|   920.0|    -10.0|\n",
      "|   IAH| OMA|      1155.0|  1150.0|     -5.0|\n",
      "|   TUL| IAH|      1700.0|  1655.0|     -5.0|\n",
      "|   MSN| EWR|       628.0|   619.0|     -9.0|\n",
      "|   XNA| IAH|      1316.0|  1313.0|     -3.0|\n",
      "+------+----+------------+--------+---------+\n",
      "only showing top 5 rows\n",
      "\n",
      "Total flights that were ahead of time are: 34689744"
     ]
    }
   ],
   "source": [
    "ahead_of_time =df.select(\"ORIGIN\",\"DEST\",\"CRS_DEP_TIME\",\"DEP_TIME\",\"DEP_DELAY\").dropna().filter(df.DEP_DELAY<0)\n",
    "ahead_of_time.show(5)\n",
    "print(\"Total flights that were ahead of time are:\", ahead_of_time.count())"
   ]
  },
  {
   "cell_type": "markdown",
   "id": "690372a2-4b22-49bc-af18-99cd769687a1",
   "metadata": {
    "execution": {
     "iopub.execute_input": "2022-04-04T20:33:22.835128Z",
     "iopub.status.busy": "2022-04-04T20:33:22.834805Z",
     "iopub.status.idle": "2022-04-04T20:33:22.905230Z",
     "shell.execute_reply": "2022-04-04T20:33:22.904594Z",
     "shell.execute_reply.started": "2022-04-04T20:33:22.835091Z"
    }
   },
   "source": [
    "### 2.Total flights that were delayed."
   ]
  },
  {
   "cell_type": "code",
   "execution_count": 31,
   "id": "2074db21-f956-4eab-8bd6-5805fd2ee744",
   "metadata": {
    "execution": {
     "iopub.execute_input": "2022-04-06T08:21:04.689734Z",
     "iopub.status.busy": "2022-04-06T08:21:04.689436Z",
     "iopub.status.idle": "2022-04-06T08:21:07.981572Z",
     "shell.execute_reply": "2022-04-06T08:21:07.981008Z",
     "shell.execute_reply.started": "2022-04-06T08:21:04.689707Z"
    },
    "tags": []
   },
   "outputs": [
    {
     "data": {
      "application/vnd.jupyter.widget-view+json": {
       "model_id": "a0e66ef698ee4a76b4194cceae554047",
       "version_major": 2,
       "version_minor": 0
      },
      "text/plain": [
       "VBox()"
      ]
     },
     "metadata": {},
     "output_type": "display_data"
    },
    {
     "data": {
      "application/vnd.jupyter.widget-view+json": {
       "model_id": "",
       "version_major": 2,
       "version_minor": 0
      },
      "text/plain": [
       "FloatProgress(value=0.0, bar_style='info', description='Progress:', layout=Layout(height='25px', width='50%'),…"
      ]
     },
     "metadata": {},
     "output_type": "display_data"
    },
    {
     "name": "stdout",
     "output_type": "stream",
     "text": [
      "+-----------------+------+----+------------+--------+---------+\n",
      "|OP_CARRIER_FL_NUM|ORIGIN|DEST|CRS_DEP_TIME|DEP_TIME|DEP_DELAY|\n",
      "+-----------------+------+----+------------+--------+---------+\n",
      "|             4266|   SAV| ORD|      1715.0|  1401.0|   1246.0|\n",
      "|             4267|   CLE| BOS|      1340.0|  1420.0|     40.0|\n",
      "|             4273|   IAH| CRP|       950.0|  1019.0|     29.0|\n",
      "|             4285|   FSD| ORD|       820.0|   848.0|     28.0|\n",
      "|             4286|   LRD| IAH|       525.0|   528.0|      3.0|\n",
      "+-----------------+------+----+------------+--------+---------+\n",
      "only showing top 5 rows\n",
      "\n",
      "Total flights that were delayed: 22303553"
     ]
    }
   ],
   "source": [
    "delay_by_time =df.select(\"OP_CARRIER_FL_NUM\",\"ORIGIN\",\"DEST\",\"CRS_DEP_TIME\",\"DEP_TIME\",\"DEP_DELAY\").dropna().filter(df.DEP_DELAY>0)\n",
    "delay_by_time.show(5)\n",
    "print(\"Total flights that were delayed:\",delay_by_time.count())"
   ]
  },
  {
   "cell_type": "markdown",
   "id": "f78a7f8b-978a-4dbf-a18d-bc96cd0174aa",
   "metadata": {},
   "source": [
    "### 3.Total flights that were on time."
   ]
  },
  {
   "cell_type": "code",
   "execution_count": 32,
   "id": "b3327f8d-f835-498d-93c3-e2014d529d5f",
   "metadata": {
    "execution": {
     "iopub.execute_input": "2022-04-06T08:21:15.804846Z",
     "iopub.status.busy": "2022-04-06T08:21:15.804512Z",
     "iopub.status.idle": "2022-04-06T08:21:19.147892Z",
     "shell.execute_reply": "2022-04-06T08:21:19.147223Z",
     "shell.execute_reply.started": "2022-04-06T08:21:15.804805Z"
    },
    "tags": []
   },
   "outputs": [
    {
     "data": {
      "application/vnd.jupyter.widget-view+json": {
       "model_id": "0eb66b04dd324443a69b7fa116bbfc20",
       "version_major": 2,
       "version_minor": 0
      },
      "text/plain": [
       "VBox()"
      ]
     },
     "metadata": {},
     "output_type": "display_data"
    },
    {
     "data": {
      "application/vnd.jupyter.widget-view+json": {
       "model_id": "",
       "version_major": 2,
       "version_minor": 0
      },
      "text/plain": [
       "FloatProgress(value=0.0, bar_style='info', description='Progress:', layout=Layout(height='25px', width='50%'),…"
      ]
     },
     "metadata": {},
     "output_type": "display_data"
    },
    {
     "name": "stdout",
     "output_type": "stream",
     "text": [
      "+-----------------+------+----+------------+--------+---------+\n",
      "|OP_CARRIER_FL_NUM|ORIGIN|DEST|CRS_DEP_TIME|DEP_TIME|DEP_DELAY|\n",
      "+-----------------+------+----+------------+--------+---------+\n",
      "|             4270|   IAH| TUL|      1155.0|  1155.0|      0.0|\n",
      "|             4272|   EWR| DCA|      1230.0|  1230.0|      0.0|\n",
      "|             4282|   EWR| SBN|      2139.0|  2139.0|      0.0|\n",
      "|             4302|   LGA| CLE|      1300.0|  1300.0|      0.0|\n",
      "|             4318|   LIT| ORD|       800.0|   800.0|      0.0|\n",
      "+-----------------+------+----+------------+--------+---------+\n",
      "only showing top 5 rows\n",
      "\n",
      "Total flights that were on time: 3622991"
     ]
    }
   ],
   "source": [
    "on_time =df.select(\"OP_CARRIER_FL_NUM\",\"ORIGIN\",\"DEST\",\"CRS_DEP_TIME\",\"DEP_TIME\",\"DEP_DELAY\").dropna().filter(df.DEP_DELAY==0)\n",
    "on_time.show(5)\n",
    "print(\"Total flights that were on time:\",on_time.count())"
   ]
  },
  {
   "cell_type": "markdown",
   "id": "a7907a6d-42cb-4c52-a38e-f3c4ecfbbecf",
   "metadata": {},
   "source": [
    "# Determining the longest delay in this dataset\n",
    "### Max of Departure Delay"
   ]
  },
  {
   "cell_type": "code",
   "execution_count": 33,
   "id": "c599308b-16d6-42cf-9d04-d8810e6bec14",
   "metadata": {
    "execution": {
     "iopub.execute_input": "2022-04-06T08:21:20.960142Z",
     "iopub.status.busy": "2022-04-06T08:21:20.959919Z",
     "iopub.status.idle": "2022-04-06T08:21:21.031367Z",
     "shell.execute_reply": "2022-04-06T08:21:21.028461Z",
     "shell.execute_reply.started": "2022-04-06T08:21:20.960118Z"
    },
    "tags": []
   },
   "outputs": [
    {
     "data": {
      "application/vnd.jupyter.widget-view+json": {
       "model_id": "bf6f0bf3264d410fa03d434574cdc15c",
       "version_major": 2,
       "version_minor": 0
      },
      "text/plain": [
       "VBox()"
      ]
     },
     "metadata": {},
     "output_type": "display_data"
    },
    {
     "data": {
      "application/vnd.jupyter.widget-view+json": {
       "model_id": "",
       "version_major": 2,
       "version_minor": 0
      },
      "text/plain": [
       "FloatProgress(value=0.0, bar_style='info', description='Progress:', layout=Layout(height='25px', width='50%'),…"
      ]
     },
     "metadata": {},
     "output_type": "display_data"
    },
    {
     "name": "stdout",
     "output_type": "stream",
     "text": [
      "+------------------+------+----+---------+\n",
      "|        OP_CARRIER|ORIGIN|DEST|DEP_DELAY|\n",
      "+------------------+------+----+---------+\n",
      "|  SkyWest Airlines|   CLT| JFK|   2710.0|\n",
      "| Hawaiian Airlines|   HNL| PPG|   2482.0|\n",
      "| Hawaiian Airlines|   PPG| HNL|   2468.0|\n",
      "|Northwest Airlines|   PDX| MSP|   2445.0|\n",
      "| American Airlines|   LAS| DFW|   2402.0|\n",
      "| American Airlines|   HNL| LAX|   2208.0|\n",
      "| American Airlines|   SFO| DFW|   2149.0|\n",
      "| American Airlines|   BDL| PHL|   2109.0|\n",
      "|  SkyWest Airlines|   TRI| ATL|   2098.0|\n",
      "| American Airlines|   SFO| DFW|   2040.0|\n",
      "+------------------+------+----+---------+\n",
      "only showing top 10 rows"
     ]
    }
   ],
   "source": [
    "from pyspark.sql.functions import col"
   ]
  },
  {
   "cell_type": "code",
   "execution_count": 113,
   "id": "46ec9886-e347-4c57-9eca-4e0bb89e8a61",
   "metadata": {
    "execution": {
     "iopub.execute_input": "2022-04-06T09:08:34.627862Z",
     "iopub.status.busy": "2022-04-06T09:08:34.627635Z",
     "iopub.status.idle": "2022-04-06T09:08:34.684318Z",
     "shell.execute_reply": "2022-04-06T09:08:34.683766Z",
     "shell.execute_reply.started": "2022-04-06T09:08:34.627838Z"
    },
    "tags": []
   },
   "outputs": [
    {
     "data": {
      "application/vnd.jupyter.widget-view+json": {
       "model_id": "e9353c3a4a8742d39a6973f8799e7074",
       "version_major": 2,
       "version_minor": 0
      },
      "text/plain": [
       "VBox()"
      ]
     },
     "metadata": {},
     "output_type": "display_data"
    },
    {
     "data": {
      "application/vnd.jupyter.widget-view+json": {
       "model_id": "",
       "version_major": 2,
       "version_minor": 0
      },
      "text/plain": [
       "FloatProgress(value=0.0, bar_style='info', description='Progress:', layout=Layout(height='25px', width='50%'),…"
      ]
     },
     "metadata": {},
     "output_type": "display_data"
    }
   ],
   "source": [
    "df_delay = df1.select(\"OP_CARRIER\",\"ORIGIN\",\"DEST\",\"DEP_DELAY\")\\\n",
    "            .where(\"DEP_DELAY is not null\")\\\n",
    "            .sort(col(\"DEP_DELAY\").desc())\\\n",
    "            .limit(15)          "
   ]
  },
  {
   "cell_type": "code",
   "execution_count": 114,
   "id": "0a8fd6c5-e1fe-4d58-8cc7-864f95a8aab7",
   "metadata": {
    "execution": {
     "iopub.execute_input": "2022-04-06T09:09:09.682201Z",
     "iopub.status.busy": "2022-04-06T09:09:09.681974Z",
     "iopub.status.idle": "2022-04-06T09:09:24.996810Z",
     "shell.execute_reply": "2022-04-06T09:09:24.996076Z",
     "shell.execute_reply.started": "2022-04-06T09:09:09.682178Z"
    }
   },
   "outputs": [
    {
     "data": {
      "application/vnd.jupyter.widget-view+json": {
       "model_id": "2f327ba949af4829afc999dac39d070d",
       "version_major": 2,
       "version_minor": 0
      },
      "text/plain": [
       "VBox()"
      ]
     },
     "metadata": {},
     "output_type": "display_data"
    },
    {
     "data": {
      "application/vnd.jupyter.widget-view+json": {
       "model_id": "",
       "version_major": 2,
       "version_minor": 0
      },
      "text/plain": [
       "FloatProgress(value=0.0, bar_style='info', description='Progress:', layout=Layout(height='25px', width='50%'),…"
      ]
     },
     "metadata": {},
     "output_type": "display_data"
    }
   ],
   "source": [
    "DELDF=df_delay.toPandas()"
   ]
  },
  {
   "cell_type": "code",
   "execution_count": 135,
   "id": "ac2611ac-30cd-453c-a227-8a73066ef92c",
   "metadata": {
    "execution": {
     "iopub.execute_input": "2022-04-06T09:23:08.563068Z",
     "iopub.status.busy": "2022-04-06T09:23:08.562793Z",
     "iopub.status.idle": "2022-04-06T09:23:08.851309Z",
     "shell.execute_reply": "2022-04-06T09:23:08.850682Z",
     "shell.execute_reply.started": "2022-04-06T09:23:08.563040Z"
    },
    "tags": []
   },
   "outputs": [
    {
     "data": {
      "application/vnd.jupyter.widget-view+json": {
       "model_id": "2858989ae87b4c949116c7f8dc1984e8",
       "version_major": 2,
       "version_minor": 0
      },
      "text/plain": [
       "VBox()"
      ]
     },
     "metadata": {},
     "output_type": "display_data"
    },
    {
     "data": {
      "application/vnd.jupyter.widget-view+json": {
       "model_id": "",
       "version_major": 2,
       "version_minor": 0
      },
      "text/plain": [
       "FloatProgress(value=0.0, bar_style='info', description='Progress:', layout=Layout(height='25px', width='50%'),…"
      ]
     },
     "metadata": {},
     "output_type": "display_data"
    },
    {
     "data": {
      "image/png": "[encoded data removed]",
      "text/plain": [
       "<IPython.core.display.Image object>"
      ]
     },
     "metadata": {},
     "output_type": "display_data"
    }
   ],
   "source": [
    "from matplotlib import pyplot as plt\n",
    "plt.rcParams['figure.figsize'] = [10, 8]\n",
    "plt.style.use('seaborn-deep')\n",
    "DELDF.plot()\n",
    "plt.title('The Longest Delay', fontsize=20)\n",
    "plt.xlabel('OP_CARRIER', fontsize=10)\n",
    "plt.ylabel('DELAY', fontsize=16)\n",
    "plt.rc('xtick',labelsize=14)\n",
    "plt.rc('ytick',labelsize=14)\n",
    "xpos = np.arange(len(DELDF.OP_CARRIER))\n",
    "plt.xticks(xpos,DELDF['OP_CARRIER'],rotation = 90)\n",
    "plt.show();\n",
    "%matplot plt"
   ]
  },
  {
   "cell_type": "markdown",
   "id": "394ac34c-3f9f-4786-abc1-29e36c8c8644",
   "metadata": {
    "execution": {
     "iopub.execute_input": "2022-04-05T07:13:37.213442Z",
     "iopub.status.busy": "2022-04-05T07:13:37.213187Z",
     "iopub.status.idle": "2022-04-05T07:13:37.270995Z",
     "shell.execute_reply": "2022-04-05T07:13:37.270358Z",
     "shell.execute_reply.started": "2022-04-05T07:13:37.213414Z"
    },
    "tags": []
   },
   "source": [
    "## Top Destinations tends to have Delays."
   ]
  },
  {
   "cell_type": "code",
   "execution_count": 35,
   "id": "d054bbda-6527-4167-98fc-758eea67db29",
   "metadata": {
    "execution": {
     "iopub.execute_input": "2022-04-06T08:21:34.836253Z",
     "iopub.status.busy": "2022-04-06T08:21:34.836024Z",
     "iopub.status.idle": "2022-04-06T08:21:37.117791Z",
     "shell.execute_reply": "2022-04-06T08:21:37.117079Z",
     "shell.execute_reply.started": "2022-04-06T08:21:34.836229Z"
    },
    "tags": []
   },
   "outputs": [
    {
     "data": {
      "application/vnd.jupyter.widget-view+json": {
       "model_id": "1418aa6260a34c7bb0d8cc1f1e94a54b",
       "version_major": 2,
       "version_minor": 0
      },
      "text/plain": [
       "VBox()"
      ]
     },
     "metadata": {},
     "output_type": "display_data"
    },
    {
     "data": {
      "application/vnd.jupyter.widget-view+json": {
       "model_id": "",
       "version_major": 2,
       "version_minor": 0
      },
      "text/plain": [
       "FloatProgress(value=0.0, bar_style='info', description='Progress:', layout=Layout(height='25px', width='50%'),…"
      ]
     },
     "metadata": {},
     "output_type": "display_data"
    },
    {
     "name": "stdout",
     "output_type": "stream",
     "text": [
      "+----+---------+\n",
      "|DEST|ARR_DELAY|\n",
      "+----+---------+\n",
      "| JFK|   2692.0|\n",
      "| PPG|   2475.0|\n",
      "| HNL|   2454.0|\n",
      "| MSP|   2449.0|\n",
      "| DFW|   2444.0|\n",
      "| LAX|   2189.0|\n",
      "| PHL|   2153.0|\n",
      "| DFW|   2142.0|\n",
      "| ATL|   2108.0|\n",
      "| DFW|   2028.0|\n",
      "+----+---------+\n",
      "only showing top 10 rows"
     ]
    }
   ],
   "source": [
    "df_delay = df1.select(\"DEST\",\"ARR_DELAY\")\\\n",
    "        .where(\"ARR_DELAY > 0\")\\\n",
    "        .sort(col(\"ARR_DELAY\").desc())\\\n",
    "        .show(10)"
   ]
  },
  {
   "cell_type": "code",
   "execution_count": 117,
   "id": "4562c84f-37c9-4bd1-9f50-d30663f5d323",
   "metadata": {
    "execution": {
     "iopub.execute_input": "2022-04-06T09:13:22.982741Z",
     "iopub.status.busy": "2022-04-06T09:13:22.982410Z",
     "iopub.status.idle": "2022-04-06T09:13:40.335149Z",
     "shell.execute_reply": "2022-04-06T09:13:40.334410Z",
     "shell.execute_reply.started": "2022-04-06T09:13:22.982699Z"
    }
   },
   "outputs": [
    {
     "data": {
      "application/vnd.jupyter.widget-view+json": {
       "model_id": "3024aded386248d2a3ba53ca79ef9756",
       "version_major": 2,
       "version_minor": 0
      },
      "text/plain": [
       "VBox()"
      ]
     },
     "metadata": {},
     "output_type": "display_data"
    },
    {
     "data": {
      "application/vnd.jupyter.widget-view+json": {
       "model_id": "",
       "version_major": 2,
       "version_minor": 0
      },
      "text/plain": [
       "FloatProgress(value=0.0, bar_style='info', description='Progress:', layout=Layout(height='25px', width='50%'),…"
      ]
     },
     "metadata": {},
     "output_type": "display_data"
    }
   ],
   "source": [
    "delaydest=df_delay.toPandas()"
   ]
  },
  {
   "cell_type": "code",
   "execution_count": 120,
   "id": "dde2c4ff-6a8e-4cad-b5f3-4f4c2b4b8b41",
   "metadata": {
    "execution": {
     "iopub.execute_input": "2022-04-06T09:14:52.597005Z",
     "iopub.status.busy": "2022-04-06T09:14:52.596628Z",
     "iopub.status.idle": "2022-04-06T09:14:52.893304Z",
     "shell.execute_reply": "2022-04-06T09:14:52.892754Z",
     "shell.execute_reply.started": "2022-04-06T09:14:52.596949Z"
    },
    "tags": []
   },
   "outputs": [
    {
     "data": {
      "application/vnd.jupyter.widget-view+json": {
       "model_id": "0c5cb25a5035447db5d118fe20895511",
       "version_major": 2,
       "version_minor": 0
      },
      "text/plain": [
       "VBox()"
      ]
     },
     "metadata": {},
     "output_type": "display_data"
    },
    {
     "data": {
      "application/vnd.jupyter.widget-view+json": {
       "model_id": "",
       "version_major": 2,
       "version_minor": 0
      },
      "text/plain": [
       "FloatProgress(value=0.0, bar_style='info', description='Progress:', layout=Layout(height='25px', width='50%'),…"
      ]
     },
     "metadata": {},
     "output_type": "display_data"
    },
    {
     "data": {
      "image/png": "[encoded data removed]",
      "text/plain": [
       "<IPython.core.display.Image object>"
      ]
     },
     "metadata": {},
     "output_type": "display_data"
    }
   ],
   "source": [
    "from matplotlib import pyplot as plt\n",
    "plt.rcParams['figure.figsize'] = [10, 8]\n",
    "plt.style.use('seaborn-deep')\n",
    "delaydest.plot.bar()\n",
    "plt.title('Top Destinations tends to have delays', fontsize=20)\n",
    "plt.xlabel('DEST', fontsize=16)\n",
    "plt.ylabel('DELAY', fontsize=16)\n",
    "plt.rc('xtick',labelsize=14)\n",
    "plt.rc('ytick',labelsize=14)\n",
    "xpos = np.arange(len(delaydest.DEST))\n",
    "plt.xticks(xpos,delaydest['DEST'],rotation = 90)\n",
    "plt.show();\n",
    "%matplot plt"
   ]
  },
  {
   "cell_type": "markdown",
   "id": "3ccb7612-647f-4d9e-b50a-86983e45ebef",
   "metadata": {},
   "source": [
    "## Determining the number of Delayed vs. On-time vs.Early flights."
   ]
  },
  {
   "cell_type": "code",
   "execution_count": 36,
   "id": "49a9397a-d84a-4d95-a547-d1054258b0a0",
   "metadata": {
    "execution": {
     "iopub.execute_input": "2022-04-06T08:21:41.310584Z",
     "iopub.status.busy": "2022-04-06T08:21:41.310355Z",
     "iopub.status.idle": "2022-04-06T08:21:42.096875Z",
     "shell.execute_reply": "2022-04-06T08:21:42.096221Z",
     "shell.execute_reply.started": "2022-04-06T08:21:41.310560Z"
    },
    "tags": []
   },
   "outputs": [
    {
     "data": {
      "application/vnd.jupyter.widget-view+json": {
       "model_id": "9a7e86d723da4509a7851c17f975c0f5",
       "version_major": 2,
       "version_minor": 0
      },
      "text/plain": [
       "VBox()"
      ]
     },
     "metadata": {},
     "output_type": "display_data"
    },
    {
     "data": {
      "application/vnd.jupyter.widget-view+json": {
       "model_id": "",
       "version_major": 2,
       "version_minor": 0
      },
      "text/plain": [
       "FloatProgress(value=0.0, bar_style='info', description='Progress:', layout=Layout(height='25px', width='50%'),…"
      ]
     },
     "metadata": {},
     "output_type": "display_data"
    },
    {
     "name": "stdout",
     "output_type": "stream",
     "text": [
      "+----------+------+-----------+---------+-----+------+-------+--------+\n",
      "|OP_CARRIER|Origin|Destination|DEP_DELAY|Early|OnTime|Delayed|domestic|\n",
      "+----------+------+-----------+---------+-----+------+-------+--------+\n",
      "|ExpressJet|   SAV|        ORD|   1246.0|false| false|   true|   false|\n",
      "|ExpressJet|   CLE|        BOS|     40.0|false| false|   true|   false|\n",
      "|ExpressJet|   BTR|        IAH|    -10.0| true| false|  false|   false|\n",
      "|ExpressJet|   IAH|        OMA|     -5.0| true| false|  false|   false|\n",
      "|ExpressJet|   IAH|        TUL|      0.0| true| false|  false|   false|\n",
      "|ExpressJet|   TUL|        IAH|     -5.0| true| false|  false|   false|\n",
      "|ExpressJet|   EWR|        DCA|      0.0| true| false|  false|   false|\n",
      "|ExpressJet|   MSN|        EWR|     -9.0| true| false|  false|   false|\n",
      "|ExpressJet|   IAH|        CRP|     29.0|false| false|   true|   false|\n",
      "|ExpressJet|   XNA|        IAH|     -3.0| true| false|  false|   false|\n",
      "+----------+------+-----------+---------+-----+------+-------+--------+\n",
      "only showing top 10 rows"
     ]
    }
   ],
   "source": [
    "from pyspark.sql.functions import expr\n",
    "df4 = df1.select(\n",
    "                      col(\"OP_CARRIER\"),\n",
    "                      col(\"ORIGIN\").alias(\"Origin\"), \n",
    "                      col(\"DEST\").alias(\"Destination\"), \n",
    "                      expr(\"DEP_DELAY\"),\n",
    "                      expr(\"DEP_DELAY < 1 as Early\"),\n",
    "                      expr(\"DEP_DELAY == 1 as OnTime\"),\n",
    "                      expr(\"DEP_DELAY > 1 as Delayed\"),\n",
    "                      expr(\"ORIGIN = DEST as domestic\"))\n",
    "df4.show(10)"
   ]
  },
  {
   "cell_type": "markdown",
   "id": "1a7751f3-7254-4372-93f6-573cdeb3d833",
   "metadata": {},
   "source": [
    "## AVG NUMBER OF TAKEOFF PER AIRPORT"
   ]
  },
  {
   "cell_type": "code",
   "execution_count": 129,
   "id": "cc10a672-e64c-476f-a69e-211853994393",
   "metadata": {
    "execution": {
     "iopub.execute_input": "2022-04-06T09:19:45.556896Z",
     "iopub.status.busy": "2022-04-06T09:19:45.556665Z",
     "iopub.status.idle": "2022-04-06T09:19:45.628836Z",
     "shell.execute_reply": "2022-04-06T09:19:45.628150Z",
     "shell.execute_reply.started": "2022-04-06T09:19:45.556870Z"
    },
    "tags": []
   },
   "outputs": [
    {
     "data": {
      "application/vnd.jupyter.widget-view+json": {
       "model_id": "761cebd9343f469da78e71cfe4b720fd",
       "version_major": 2,
       "version_minor": 0
      },
      "text/plain": [
       "VBox()"
      ]
     },
     "metadata": {},
     "output_type": "display_data"
    },
    {
     "data": {
      "application/vnd.jupyter.widget-view+json": {
       "model_id": "",
       "version_major": 2,
       "version_minor": 0
      },
      "text/plain": [
       "FloatProgress(value=0.0, bar_style='info', description='Progress:', layout=Layout(height='25px', width='50%'),…"
      ]
     },
     "metadata": {},
     "output_type": "display_data"
    }
   ],
   "source": [
    "import pyspark.sql.functions as F \n",
    "airportAgg_DF = df0.groupBy(\"ORIGIN\").agg(F.sum(\"WHEELS_OFF\")).limit(15)"
   ]
  },
  {
   "cell_type": "code",
   "execution_count": 130,
   "id": "aaa5d303-3846-4bc4-8495-6cfa408ca85b",
   "metadata": {
    "execution": {
     "iopub.execute_input": "2022-04-06T09:19:50.692490Z",
     "iopub.status.busy": "2022-04-06T09:19:50.692263Z",
     "iopub.status.idle": "2022-04-06T09:19:52.969925Z",
     "shell.execute_reply": "2022-04-06T09:19:52.969190Z",
     "shell.execute_reply.started": "2022-04-06T09:19:50.692466Z"
    },
    "tags": []
   },
   "outputs": [
    {
     "data": {
      "application/vnd.jupyter.widget-view+json": {
       "model_id": "1600500704254564a19a1cb3ce5c2572",
       "version_major": 2,
       "version_minor": 0
      },
      "text/plain": [
       "VBox()"
      ]
     },
     "metadata": {},
     "output_type": "display_data"
    },
    {
     "data": {
      "application/vnd.jupyter.widget-view+json": {
       "model_id": "",
       "version_major": 2,
       "version_minor": 0
      },
      "text/plain": [
       "FloatProgress(value=0.0, bar_style='info', description='Progress:', layout=Layout(height='25px', width='50%'),…"
      ]
     },
     "metadata": {},
     "output_type": "display_data"
    },
    {
     "name": "stdout",
     "output_type": "stream",
     "text": [
      "+------+---------------+\n",
      "|ORIGIN|sum(WHEELS_OFF)|\n",
      "+------+---------------+\n",
      "|   ACT|          18503|\n",
      "|   HPN|         145586|\n",
      "|   AUS|         806828|\n",
      "|   GCC|          19029|\n",
      "|   ATW|          56131|\n",
      "|   TUL|         287528|\n",
      "|   AMA|          97251|\n",
      "|   EWR|        2123546|\n",
      "|   DEN|        4289351|\n",
      "|   GRI|           6910|\n",
      "|   IAD|        1141992|\n",
      "|   MEI|          11922|\n",
      "|   IPL|           4291|\n",
      "|   IYK|           5314|\n",
      "|   EUG|          70832|\n",
      "+------+---------------+"
     ]
    }
   ],
   "source": [
    "airportAgg_DF.show(15)"
   ]
  },
  {
   "cell_type": "code",
   "execution_count": 131,
   "id": "05e4988a-9122-4077-8273-200757959a73",
   "metadata": {
    "execution": {
     "iopub.execute_input": "2022-04-06T09:19:55.994171Z",
     "iopub.status.busy": "2022-04-06T09:19:55.993893Z",
     "iopub.status.idle": "2022-04-06T09:19:58.333768Z",
     "shell.execute_reply": "2022-04-06T09:19:58.333049Z",
     "shell.execute_reply.started": "2022-04-06T09:19:55.994145Z"
    },
    "tags": []
   },
   "outputs": [
    {
     "data": {
      "application/vnd.jupyter.widget-view+json": {
       "model_id": "c7fc6bd1cc9f4922a8e612a54d6350f8",
       "version_major": 2,
       "version_minor": 0
      },
      "text/plain": [
       "VBox()"
      ]
     },
     "metadata": {},
     "output_type": "display_data"
    },
    {
     "data": {
      "application/vnd.jupyter.widget-view+json": {
       "model_id": "",
       "version_major": 2,
       "version_minor": 0
      },
      "text/plain": [
       "FloatProgress(value=0.0, bar_style='info', description='Progress:', layout=Layout(height='25px', width='50%'),…"
      ]
     },
     "metadata": {},
     "output_type": "display_data"
    }
   ],
   "source": [
    "anotdf=airportAgg_DF.toPandas()"
   ]
  },
  {
   "cell_type": "code",
   "execution_count": 134,
   "id": "079f5d08-3627-47b1-8556-6279e537bf08",
   "metadata": {
    "execution": {
     "iopub.execute_input": "2022-04-06T09:21:53.863333Z",
     "iopub.status.busy": "2022-04-06T09:21:53.863095Z",
     "iopub.status.idle": "2022-04-06T09:21:54.685498Z",
     "shell.execute_reply": "2022-04-06T09:21:54.684929Z",
     "shell.execute_reply.started": "2022-04-06T09:21:53.863308Z"
    },
    "tags": []
   },
   "outputs": [
    {
     "data": {
      "application/vnd.jupyter.widget-view+json": {
       "model_id": "c751edb5ff7c4144a53a19d41f423094",
       "version_major": 2,
       "version_minor": 0
      },
      "text/plain": [
       "VBox()"
      ]
     },
     "metadata": {},
     "output_type": "display_data"
    },
    {
     "data": {
      "application/vnd.jupyter.widget-view+json": {
       "model_id": "",
       "version_major": 2,
       "version_minor": 0
      },
      "text/plain": [
       "FloatProgress(value=0.0, bar_style='info', description='Progress:', layout=Layout(height='25px', width='50%'),…"
      ]
     },
     "metadata": {},
     "output_type": "display_data"
    },
    {
     "data": {
      "image/png": "[encoded data removed]",
      "text/plain": [
       "<IPython.core.display.Image object>"
      ]
     },
     "metadata": {},
     "output_type": "display_data"
    }
   ],
   "source": [
    "from matplotlib import pyplot as plt\n",
    "plt.rcParams['figure.figsize'] = [10, 8]\n",
    "plt.style.use('seaborn-deep')\n",
    "anotdf.plot()\n",
    "plt.title('AVG NUMBER OF TAKEOFF PER AIRPORT', fontsize=20)\n",
    "plt.xlabel('AIRPORTS', fontsize=16)\n",
    "plt.ylabel('FLIGHTS', fontsize=16)\n",
    "plt.rc('xtick',labelsize=14)\n",
    "plt.rc('ytick',labelsize=14)\n",
    "xpos = np.arange(len(anotdf.ORIGIN))\n",
    "plt.xticks(xpos,anotdf['ORIGIN'],rotation = 90)\n",
    "plt.show();\n",
    "%matplot plt"
   ]
  },
  {
   "cell_type": "markdown",
   "id": "e33d5ae0-0203-4346-9177-f3fa98cc91ac",
   "metadata": {},
   "source": [
    "## Airport Ranking using Rank & Count the Origin_airport and rank accordingly."
   ]
  },
  {
   "cell_type": "code",
   "execution_count": 39,
   "id": "5f050b3f-8a96-46ba-8c31-94bf8f766ac6",
   "metadata": {
    "execution": {
     "iopub.execute_input": "2022-04-06T08:22:03.290664Z",
     "iopub.status.busy": "2022-04-06T08:22:03.290417Z",
     "iopub.status.idle": "2022-04-06T08:22:05.586590Z",
     "shell.execute_reply": "2022-04-06T08:22:05.585829Z",
     "shell.execute_reply.started": "2022-04-06T08:22:03.290638Z"
    },
    "tags": []
   },
   "outputs": [
    {
     "data": {
      "application/vnd.jupyter.widget-view+json": {
       "model_id": "4eec99596c484ae7872454a58a1d59be",
       "version_major": 2,
       "version_minor": 0
      },
      "text/plain": [
       "VBox()"
      ]
     },
     "metadata": {},
     "output_type": "display_data"
    },
    {
     "data": {
      "application/vnd.jupyter.widget-view+json": {
       "model_id": "",
       "version_major": 2,
       "version_minor": 0
      },
      "text/plain": [
       "FloatProgress(value=0.0, bar_style='info', description='Progress:', layout=Layout(height='25px', width='50%'),…"
      ]
     },
     "metadata": {},
     "output_type": "display_data"
    },
    {
     "name": "stdout",
     "output_type": "stream",
     "text": [
      "+------+-------+----+\n",
      "|ORIGIN|  count|rank|\n",
      "+------+-------+----+\n",
      "|   ATL|3849391|   1|\n",
      "|   ORD|2915085|   2|\n",
      "|   DFW|2488904|   3|\n",
      "|   DEN|2271450|   4|\n",
      "|   LAX|2106537|   5|\n",
      "|   PHX|1705697|   6|\n",
      "|   IAH|1645926|   7|\n",
      "|   SFO|1580093|   8|\n",
      "|   LAS|1458937|   9|\n",
      "|   CLT|1312686|  10|\n",
      "+------+-------+----+\n",
      "only showing top 10 rows"
     ]
    }
   ],
   "source": [
    "from pyspark.sql.functions import desc\n",
    "from pyspark.sql import Window\n",
    "from pyspark.sql.functions import rank\n",
    "\n",
    "df_r = df0.select(\"ORIGIN\")\\\n",
    "         .groupby(\"ORIGIN\").count().alias('count')\\\n",
    "         .orderBy(desc(\"count\"))\\\n",
    "         \n",
    "df_rank = df_r.withColumn(\"rank\",rank().over(Window.orderBy(desc(\"count\"))))\n",
    "df_rank.show(10)"
   ]
  },
  {
   "cell_type": "markdown",
   "id": "0395c3a8-0e6d-4101-9f08-83995e0dd747",
   "metadata": {},
   "source": [
    "## Longest Flight Journey by Air Time."
   ]
  },
  {
   "cell_type": "code",
   "execution_count": 40,
   "id": "0691b253-c5ce-4174-a784-dc21c16c6eea",
   "metadata": {
    "execution": {
     "iopub.execute_input": "2022-04-06T08:22:09.276810Z",
     "iopub.status.busy": "2022-04-06T08:22:09.276575Z",
     "iopub.status.idle": "2022-04-06T08:22:11.592591Z",
     "shell.execute_reply": "2022-04-06T08:22:11.591869Z",
     "shell.execute_reply.started": "2022-04-06T08:22:09.276786Z"
    },
    "tags": []
   },
   "outputs": [
    {
     "data": {
      "application/vnd.jupyter.widget-view+json": {
       "model_id": "ef2d374f0e09463ea7d2c41d955cb37f",
       "version_major": 2,
       "version_minor": 0
      },
      "text/plain": [
       "VBox()"
      ]
     },
     "metadata": {},
     "output_type": "display_data"
    },
    {
     "data": {
      "application/vnd.jupyter.widget-view+json": {
       "model_id": "",
       "version_major": 2,
       "version_minor": 0
      },
      "text/plain": [
       "FloatProgress(value=0.0, bar_style='info', description='Progress:', layout=Layout(height='25px', width='50%'),…"
      ]
     },
     "metadata": {},
     "output_type": "display_data"
    },
    {
     "name": "stdout",
     "output_type": "stream",
     "text": [
      "+----+------+--------+\n",
      "|DEST|ORIGIN|AIR_TIME|\n",
      "+----+------+--------+\n",
      "| HNL|   JFK|   723.0|\n",
      "| HNL|   EWR|   713.0|\n",
      "| HNL|   JFK|   712.0|\n",
      "| HNL|   JFK|   711.0|\n",
      "| HNL|   JFK|   706.0|\n",
      "| HNL|   EWR|   706.0|\n",
      "| HNL|   JFK|   704.0|\n",
      "| HNL|   JFK|   704.0|\n",
      "| HNL|   JFK|   703.0|\n",
      "| HNL|   JFK|   703.0|\n",
      "+----+------+--------+\n",
      "only showing top 10 rows"
     ]
    }
   ],
   "source": [
    "df_delay = df0.select(\"DEST\",\"ORIGIN\",\"AIR_TIME\")\\\n",
    "        .where(\"AIR_TIME > 0\")\\\n",
    "        .sort(col(\"AIR_TIME\").desc())\\\n",
    "        .show(10)\n",
    "       "
   ]
  },
  {
   "cell_type": "code",
   "execution_count": null,
   "id": "d3c1d55a-33f0-46bc-bc24-05b0287830e2",
   "metadata": {},
   "outputs": [],
   "source": []
  },
  {
   "cell_type": "code",
   "execution_count": null,
   "id": "3dd78339-b694-4758-88cc-8b7d28cdb563",
   "metadata": {},
   "outputs": [],
   "source": []
  },
  {
   "cell_type": "code",
   "execution_count": null,
   "id": "56baa91f-c7ef-45fe-a1f0-d81c72e8e3ae",
   "metadata": {},
   "outputs": [],
   "source": []
  },
  {
   "cell_type": "code",
   "execution_count": null,
   "id": "30d2c41c-482b-4f2c-bc89-f37e0ef5bc11",
   "metadata": {},
   "outputs": [],
   "source": []
  },
  {
   "cell_type": "code",
   "execution_count": null,
   "id": "c9141233-06c6-4c64-a66e-384e9d89ade3",
   "metadata": {},
   "outputs": [],
   "source": []
  },
  {
   "cell_type": "code",
   "execution_count": null,
   "id": "24ec8203-523d-473c-ba53-fc11dca3312f",
   "metadata": {},
   "outputs": [],
   "source": []
  },
  {
   "cell_type": "code",
   "execution_count": null,
   "id": "dd0e7ad3-88ef-4807-ba3d-e7c057db23c7",
   "metadata": {},
   "outputs": [],
   "source": []
  },
  {
   "cell_type": "code",
   "execution_count": null,
   "id": "06a7015f-fc8e-412a-bf87-fd4e43f0b7ce",
   "metadata": {},
   "outputs": [],
   "source": []
  }
 ],
 "metadata": {
  "kernelspec": {
   "display_name": "PySpark",
   "language": "",
   "name": "pysparkkernel"
  },
  "language_info": {
   "codemirror_mode": {
    "name": "python",
    "version": 3
   },
   "mimetype": "text/x-python",
   "name": "pyspark",
   "pygments_lexer": "python3"
  }
 },
 "nbformat": 4,
 "nbformat_minor": 5
}
