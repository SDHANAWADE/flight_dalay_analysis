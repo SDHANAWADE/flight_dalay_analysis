{
 "cells": [
  {
   "cell_type": "markdown",
   "id": "2d05a96c-7a75-46d4-a04e-3163771da0d4",
   "metadata": {},
   "source": [
    "# Data Loading"
   ]
  },
  {
   "cell_type": "code",
   "execution_count": 1,
   "id": "6e1eedf2-5ec1-45e1-93c5-91cea18f463e",
   "metadata": {
    "execution": {
     "iopub.execute_input": "2022-04-06T13:19:49.788280Z",
     "iopub.status.busy": "2022-04-06T13:19:49.788042Z",
     "iopub.status.idle": "2022-04-06T13:20:20.040750Z",
     "shell.execute_reply": "2022-04-06T13:20:20.040155Z",
     "shell.execute_reply.started": "2022-04-06T13:19:49.788254Z"
    },
    "tags": []
   },
   "outputs": [
    {
     "data": {
      "application/vnd.jupyter.widget-view+json": {
       "model_id": "5cdec563057f49d9b999a22008d561b5",
       "version_major": 2,
       "version_minor": 0
      },
      "text/plain": [
       "VBox()"
      ]
     },
     "metadata": {},
     "output_type": "display_data"
    },
    {
     "name": "stdout",
     "output_type": "stream",
     "text": [
      "Starting Spark application\n"
     ]
    },
    {
     "data": {
      "text/html": [
       "<table>\n",
       "<tr><th>ID</th><th>YARN Application ID</th><th>Kind</th><th>State</th><th>Spark UI</th><th>Driver log</th><th>User</th><th>Current session?</th></tr><tr><td>1</td><td>application_1649250235609_0002</td><td>pyspark</td><td>idle</td><td><a target=\"_blank\" href=\"http://ip-172-31-34-64.ec2.internal:20888/proxy/application_1649250235609_0002/\" class=\"emr-proxy-link\" emr-resource=\"j-1RITDJ97S2J8O\n",
       "\" application-id=\"application_1649250235609_0002\">Link</a></td><td><a target=\"_blank\" href=\"http://ip-172-31-39-230.ec2.internal:8042/node/containerlogs/container_1649250235609_0002_01_000001/livy\" >Link</a></td><td>None</td><td>✔</td></tr></table>"
      ],
      "text/plain": [
       "<IPython.core.display.HTML object>"
      ]
     },
     "metadata": {},
     "output_type": "display_data"
    },
    {
     "data": {
      "application/vnd.jupyter.widget-view+json": {
       "model_id": "",
       "version_major": 2,
       "version_minor": 0
      },
      "text/plain": [
       "FloatProgress(value=0.0, bar_style='info', description='Progress:', layout=Layout(height='25px', width='50%'),…"
      ]
     },
     "metadata": {},
     "output_type": "display_data"
    },
    {
     "name": "stdout",
     "output_type": "stream",
     "text": [
      "SparkSession available as 'spark'.\n"
     ]
    },
    {
     "data": {
      "application/vnd.jupyter.widget-view+json": {
       "model_id": "",
       "version_major": 2,
       "version_minor": 0
      },
      "text/plain": [
       "FloatProgress(value=0.0, bar_style='info', description='Progress:', layout=Layout(height='25px', width='50%'),…"
      ]
     },
     "metadata": {},
     "output_type": "display_data"
    }
   ],
   "source": [
    "df = spark.read.format(\"parquet\")\\\n",
    "    .option(\"header\",\"true\")\\\n",
    "    .option(\"inferschema\",\"true\")\\\n",
    "    .load(\"s3://vitaproject23/cleandata/\")"
   ]
  },
  {
   "cell_type": "code",
   "execution_count": 2,
   "id": "24184073-ab3f-4e20-9792-375b1fb2fbf2",
   "metadata": {
    "execution": {
     "iopub.execute_input": "2022-04-06T13:20:28.459333Z",
     "iopub.status.busy": "2022-04-06T13:20:28.458990Z",
     "iopub.status.idle": "2022-04-06T13:20:30.796259Z",
     "shell.execute_reply": "2022-04-06T13:20:30.795526Z",
     "shell.execute_reply.started": "2022-04-06T13:20:28.459296Z"
    },
    "tags": []
   },
   "outputs": [
    {
     "data": {
      "application/vnd.jupyter.widget-view+json": {
       "model_id": "30bf913be2de45f68eaead8bdc06a488",
       "version_major": 2,
       "version_minor": 0
      },
      "text/plain": [
       "VBox()"
      ]
     },
     "metadata": {},
     "output_type": "display_data"
    },
    {
     "data": {
      "application/vnd.jupyter.widget-view+json": {
       "model_id": "",
       "version_major": 2,
       "version_minor": 0
      },
      "text/plain": [
       "FloatProgress(value=0.0, bar_style='info', description='Progress:', layout=Layout(height='25px', width='50%'),…"
      ]
     },
     "metadata": {},
     "output_type": "display_data"
    },
    {
     "name": "stdout",
     "output_type": "stream",
     "text": [
      "9"
     ]
    }
   ],
   "source": [
    "df.rdd.getNumPartitions()"
   ]
  },
  {
   "cell_type": "code",
   "execution_count": 3,
   "id": "550c5835-4b1f-4a97-90a5-80dd4b5e10bb",
   "metadata": {
    "execution": {
     "iopub.execute_input": "2022-04-06T13:20:37.838147Z",
     "iopub.status.busy": "2022-04-06T13:20:37.837912Z",
     "iopub.status.idle": "2022-04-06T13:20:37.913057Z",
     "shell.execute_reply": "2022-04-06T13:20:37.912495Z",
     "shell.execute_reply.started": "2022-04-06T13:20:37.838123Z"
    },
    "tags": []
   },
   "outputs": [
    {
     "data": {
      "application/vnd.jupyter.widget-view+json": {
       "model_id": "8b08e1d121f74dc2a22bb79bec9ed795",
       "version_major": 2,
       "version_minor": 0
      },
      "text/plain": [
       "VBox()"
      ]
     },
     "metadata": {},
     "output_type": "display_data"
    },
    {
     "data": {
      "application/vnd.jupyter.widget-view+json": {
       "model_id": "",
       "version_major": 2,
       "version_minor": 0
      },
      "text/plain": [
       "FloatProgress(value=0.0, bar_style='info', description='Progress:', layout=Layout(height='25px', width='50%'),…"
      ]
     },
     "metadata": {},
     "output_type": "display_data"
    }
   ],
   "source": [
    "df = df.coalesce(6)"
   ]
  },
  {
   "cell_type": "code",
   "execution_count": 4,
   "id": "31e7d78a-a495-494e-9931-975ca8923e58",
   "metadata": {
    "execution": {
     "iopub.execute_input": "2022-04-06T13:20:39.742136Z",
     "iopub.status.busy": "2022-04-06T13:20:39.741896Z",
     "iopub.status.idle": "2022-04-06T13:20:40.011880Z",
     "shell.execute_reply": "2022-04-06T13:20:40.011147Z",
     "shell.execute_reply.started": "2022-04-06T13:20:39.742112Z"
    },
    "tags": []
   },
   "outputs": [
    {
     "data": {
      "application/vnd.jupyter.widget-view+json": {
       "model_id": "062a71546caa4ade97fdbb3865ec99c5",
       "version_major": 2,
       "version_minor": 0
      },
      "text/plain": [
       "VBox()"
      ]
     },
     "metadata": {},
     "output_type": "display_data"
    },
    {
     "data": {
      "application/vnd.jupyter.widget-view+json": {
       "model_id": "",
       "version_major": 2,
       "version_minor": 0
      },
      "text/plain": [
       "FloatProgress(value=0.0, bar_style='info', description='Progress:', layout=Layout(height='25px', width='50%'),…"
      ]
     },
     "metadata": {},
     "output_type": "display_data"
    },
    {
     "name": "stdout",
     "output_type": "stream",
     "text": [
      "6"
     ]
    }
   ],
   "source": [
    "df.rdd.getNumPartitions()"
   ]
  },
  {
   "cell_type": "markdown",
   "id": "6d0c6b8d-3021-4554-9c66-7720b254a761",
   "metadata": {},
   "source": [
    "# Drop Columns"
   ]
  },
  {
   "cell_type": "markdown",
   "id": "c0783975-e893-4b4e-b22f-c39561ea8744",
   "metadata": {},
   "source": [
    "Our aim is to predict delay at the time of Ticket booking and hence the following columns wont help us in prediction because customer will be unaware of the following data :- 'TAXI_OUT', 'TAXI_IN', 'WHEELS_OFF', 'WHEELS_ON', 'ARR_DELAY', 'DEP_DELAY', 'ACTUAL_ELAPSED_TIME', 'DEP_TIME', 'ARR_TIME'"
   ]
  },
  {
   "cell_type": "code",
   "execution_count": 5,
   "id": "ebb18203-d331-4566-a23b-1c78d1895470",
   "metadata": {
    "execution": {
     "iopub.execute_input": "2022-04-06T13:20:48.461380Z",
     "iopub.status.busy": "2022-04-06T13:20:48.461149Z",
     "iopub.status.idle": "2022-04-06T13:20:48.732826Z",
     "shell.execute_reply": "2022-04-06T13:20:48.732203Z",
     "shell.execute_reply.started": "2022-04-06T13:20:48.461356Z"
    },
    "tags": []
   },
   "outputs": [
    {
     "data": {
      "application/vnd.jupyter.widget-view+json": {
       "model_id": "c4f8e21212ea449a8ffb0b19cf394709",
       "version_major": 2,
       "version_minor": 0
      },
      "text/plain": [
       "VBox()"
      ]
     },
     "metadata": {},
     "output_type": "display_data"
    },
    {
     "data": {
      "application/vnd.jupyter.widget-view+json": {
       "model_id": "",
       "version_major": 2,
       "version_minor": 0
      },
      "text/plain": [
       "FloatProgress(value=0.0, bar_style='info', description='Progress:', layout=Layout(height='25px', width='50%'),…"
      ]
     },
     "metadata": {},
     "output_type": "display_data"
    }
   ],
   "source": [
    "df = df.drop('FL_DATE','TAXI_OUT','WHEELS_OFF','WHEELS_ON','TAXI_IN','ARR_DELAY','DEP_DELAY','ACTUAL_ELAPSED_TIME','DEP_TIME','ARR_TIME')"
   ]
  },
  {
   "cell_type": "code",
   "execution_count": 6,
   "id": "6471ea64-eb61-41f0-ad78-9b807a239889",
   "metadata": {
    "execution": {
     "iopub.execute_input": "2022-04-06T13:20:50.492193Z",
     "iopub.status.busy": "2022-04-06T13:20:50.491959Z",
     "iopub.status.idle": "2022-04-06T13:20:55.811614Z",
     "shell.execute_reply": "2022-04-06T13:20:55.810859Z",
     "shell.execute_reply.started": "2022-04-06T13:20:50.492170Z"
    },
    "tags": []
   },
   "outputs": [
    {
     "data": {
      "application/vnd.jupyter.widget-view+json": {
       "model_id": "f93502d1843147148a249bb6bbee59be",
       "version_major": 2,
       "version_minor": 0
      },
      "text/plain": [
       "VBox()"
      ]
     },
     "metadata": {},
     "output_type": "display_data"
    },
    {
     "data": {
      "application/vnd.jupyter.widget-view+json": {
       "model_id": "",
       "version_major": 2,
       "version_minor": 0
      },
      "text/plain": [
       "FloatProgress(value=0.0, bar_style='info', description='Progress:', layout=Layout(height='25px', width='50%'),…"
      ]
     },
     "metadata": {},
     "output_type": "display_data"
    },
    {
     "name": "stdout",
     "output_type": "stream",
     "text": [
      "Number of Columns:  12\n",
      "Number of Rows: 60431020"
     ]
    }
   ],
   "source": [
    "df.columns\n",
    "print(\"Number of Columns: \", len(df.columns))\n",
    "print(\"Number of Rows:\", df.count())"
   ]
  },
  {
   "cell_type": "markdown",
   "id": "eb8e4857-4933-4d59-8272-f44a2dfbd36c",
   "metadata": {},
   "source": [
    "# Data Preprocessing"
   ]
  },
  {
   "cell_type": "code",
   "execution_count": 7,
   "id": "fac54bd3-f054-4167-b696-9e3d879e6f76",
   "metadata": {
    "execution": {
     "iopub.execute_input": "2022-04-06T13:21:10.181944Z",
     "iopub.status.busy": "2022-04-06T13:21:10.181720Z",
     "iopub.status.idle": "2022-04-06T13:21:10.459718Z",
     "shell.execute_reply": "2022-04-06T13:21:10.459157Z",
     "shell.execute_reply.started": "2022-04-06T13:21:10.181922Z"
    },
    "tags": []
   },
   "outputs": [
    {
     "data": {
      "application/vnd.jupyter.widget-view+json": {
       "model_id": "ec1c340933904a919e6c2b4b81734d14",
       "version_major": 2,
       "version_minor": 0
      },
      "text/plain": [
       "VBox()"
      ]
     },
     "metadata": {},
     "output_type": "display_data"
    },
    {
     "data": {
      "application/vnd.jupyter.widget-view+json": {
       "model_id": "",
       "version_major": 2,
       "version_minor": 0
      },
      "text/plain": [
       "FloatProgress(value=0.0, bar_style='info', description='Progress:', layout=Layout(height='25px', width='50%'),…"
      ]
     },
     "metadata": {},
     "output_type": "display_data"
    }
   ],
   "source": [
    "from pyspark.ml.feature import StringIndexer,VectorAssembler,VectorIndexer,MinMaxScaler"
   ]
  },
  {
   "cell_type": "markdown",
   "id": "bad219a4-3125-4784-9990-d11f3099f6c1",
   "metadata": {},
   "source": [
    "# StringIndexer"
   ]
  },
  {
   "cell_type": "markdown",
   "id": "2f0fa4c6-6037-42d5-a9f1-7ad7b7fc5ee2",
   "metadata": {},
   "source": [
    "- Converting Categorical Columns such as 'OP_CARRIER', 'ORIGIN', 'DEST' are converted into Indexed Columns 'OP_CARRIER_I', 'ORIGIN_I', 'DEST_I' using StringIndexer.\n",
    "- StringIndexer is used to convert categorical columns to numeric."
   ]
  },
  {
   "cell_type": "code",
   "execution_count": 8,
   "id": "abf81191-982c-4893-b645-0676be82cf7a",
   "metadata": {
    "execution": {
     "iopub.execute_input": "2022-04-06T13:21:13.186438Z",
     "iopub.status.busy": "2022-04-06T13:21:13.186211Z",
     "iopub.status.idle": "2022-04-06T13:21:13.457490Z",
     "shell.execute_reply": "2022-04-06T13:21:13.456859Z",
     "shell.execute_reply.started": "2022-04-06T13:21:13.186413Z"
    },
    "tags": []
   },
   "outputs": [
    {
     "data": {
      "application/vnd.jupyter.widget-view+json": {
       "model_id": "e7dc0b15a1f440bdb246d6a05b711bc0",
       "version_major": 2,
       "version_minor": 0
      },
      "text/plain": [
       "VBox()"
      ]
     },
     "metadata": {},
     "output_type": "display_data"
    },
    {
     "data": {
      "application/vnd.jupyter.widget-view+json": {
       "model_id": "",
       "version_major": 2,
       "version_minor": 0
      },
      "text/plain": [
       "FloatProgress(value=0.0, bar_style='info', description='Progress:', layout=Layout(height='25px', width='50%'),…"
      ]
     },
     "metadata": {},
     "output_type": "display_data"
    }
   ],
   "source": [
    "indexer1 = StringIndexer(inputCol='OP_CARRIER',outputCol='OP_CARRIER_I')\n",
    "#strindexedDF1 = indexer1.fit(df).transform(df)"
   ]
  },
  {
   "cell_type": "code",
   "execution_count": 9,
   "id": "cf5ee044-6ef1-4a6c-9dcd-47d660531ff9",
   "metadata": {
    "execution": {
     "iopub.execute_input": "2022-04-06T13:21:16.128249Z",
     "iopub.status.busy": "2022-04-06T13:21:16.128029Z",
     "iopub.status.idle": "2022-04-06T13:21:16.192071Z",
     "shell.execute_reply": "2022-04-06T13:21:16.191504Z",
     "shell.execute_reply.started": "2022-04-06T13:21:16.128225Z"
    },
    "tags": []
   },
   "outputs": [
    {
     "data": {
      "application/vnd.jupyter.widget-view+json": {
       "model_id": "662687578df44b9fad399c75556708ff",
       "version_major": 2,
       "version_minor": 0
      },
      "text/plain": [
       "VBox()"
      ]
     },
     "metadata": {},
     "output_type": "display_data"
    },
    {
     "data": {
      "application/vnd.jupyter.widget-view+json": {
       "model_id": "",
       "version_major": 2,
       "version_minor": 0
      },
      "text/plain": [
       "FloatProgress(value=0.0, bar_style='info', description='Progress:', layout=Layout(height='25px', width='50%'),…"
      ]
     },
     "metadata": {},
     "output_type": "display_data"
    }
   ],
   "source": [
    "indexer2 = StringIndexer(inputCol='ORIGIN',outputCol='ORIGIN_I')"
   ]
  },
  {
   "cell_type": "code",
   "execution_count": 10,
   "id": "57bf5f79-7953-47ed-908b-9532a8391095",
   "metadata": {
    "execution": {
     "iopub.execute_input": "2022-04-06T13:21:18.534078Z",
     "iopub.status.busy": "2022-04-06T13:21:18.533848Z",
     "iopub.status.idle": "2022-04-06T13:21:18.596260Z",
     "shell.execute_reply": "2022-04-06T13:21:18.595720Z",
     "shell.execute_reply.started": "2022-04-06T13:21:18.534054Z"
    },
    "tags": []
   },
   "outputs": [
    {
     "data": {
      "application/vnd.jupyter.widget-view+json": {
       "model_id": "f6d1f472279248028dd3e05926391000",
       "version_major": 2,
       "version_minor": 0
      },
      "text/plain": [
       "VBox()"
      ]
     },
     "metadata": {},
     "output_type": "display_data"
    },
    {
     "data": {
      "application/vnd.jupyter.widget-view+json": {
       "model_id": "",
       "version_major": 2,
       "version_minor": 0
      },
      "text/plain": [
       "FloatProgress(value=0.0, bar_style='info', description='Progress:', layout=Layout(height='25px', width='50%'),…"
      ]
     },
     "metadata": {},
     "output_type": "display_data"
    }
   ],
   "source": [
    "indexer3 = StringIndexer(inputCol='DEST',outputCol='DEST_I')"
   ]
  },
  {
   "cell_type": "markdown",
   "id": "63241f0e-e014-4c3b-bb2d-5ca29584ddd8",
   "metadata": {
    "tags": []
   },
   "source": [
    "# VectorAssembler"
   ]
  },
  {
   "cell_type": "markdown",
   "id": "c913273d-6df0-46a9-aedd-a2ea46095b55",
   "metadata": {},
   "source": [
    "- Machine Learning models in Spark expects all features in single column. Therefore VectorAssembler combines all features and gives us vector which can be stored in single column. \n",
    "- VectorAssembler expects only Numerical Features, hence we do not take into account 'OP_CARRRIER', 'ORIGIN' and 'DEST'."
   ]
  },
  {
   "cell_type": "code",
   "execution_count": 11,
   "id": "78656de2-4466-4df3-8655-4baa58460f71",
   "metadata": {
    "execution": {
     "iopub.execute_input": "2022-04-06T13:21:21.564598Z",
     "iopub.status.busy": "2022-04-06T13:21:21.564376Z",
     "iopub.status.idle": "2022-04-06T13:21:21.625416Z",
     "shell.execute_reply": "2022-04-06T13:21:21.624558Z",
     "shell.execute_reply.started": "2022-04-06T13:21:21.564575Z"
    },
    "tags": []
   },
   "outputs": [
    {
     "data": {
      "application/vnd.jupyter.widget-view+json": {
       "model_id": "1233af1b706142178bcfc26e4d164776",
       "version_major": 2,
       "version_minor": 0
      },
      "text/plain": [
       "VBox()"
      ]
     },
     "metadata": {},
     "output_type": "display_data"
    },
    {
     "data": {
      "application/vnd.jupyter.widget-view+json": {
       "model_id": "",
       "version_major": 2,
       "version_minor": 0
      },
      "text/plain": [
       "FloatProgress(value=0.0, bar_style='info', description='Progress:', layout=Layout(height='25px', width='50%'),…"
      ]
     },
     "metadata": {},
     "output_type": "display_data"
    }
   ],
   "source": [
    "assembler = VectorAssembler(inputCols= ['CRS_DEP_TIME', 'CRS_ARR_TIME', 'CRS_ELAPSED_TIME', 'AIR_TIME', 'DISTANCE', \n",
    "                'MONTH', 'WEEKDAY', 'OP_CARRIER_I', 'ORIGIN_I', 'DEST_I'], outputCol= \"features\")"
   ]
  },
  {
   "cell_type": "markdown",
   "id": "2652816b-10a0-4623-845f-da87650557b5",
   "metadata": {},
   "source": [
    "# VectorIndexer"
   ]
  },
  {
   "cell_type": "markdown",
   "id": "0340260b-44ea-4756-939c-0bb2eeab0358",
   "metadata": {},
   "source": [
    "- After VectorAssembler next step is VectorIndexer. \n",
    "- Vector Indexer Automatically identifies categorical features from the feature vector (Output Column of VectorAssembler) and then indexes those categorical features inside vector. \n",
    "- VectorIndexer let usskip OneHotEncoding stage for encoding categorical features."
   ]
  },
  {
   "cell_type": "code",
   "execution_count": 12,
   "id": "4f6750e2-f3ad-4bde-bf8a-d6498bd5e02c",
   "metadata": {
    "execution": {
     "iopub.execute_input": "2022-04-06T13:21:24.990674Z",
     "iopub.status.busy": "2022-04-06T13:21:24.990450Z",
     "iopub.status.idle": "2022-04-06T13:21:25.056460Z",
     "shell.execute_reply": "2022-04-06T13:21:25.055846Z",
     "shell.execute_reply.started": "2022-04-06T13:21:24.990651Z"
    },
    "tags": []
   },
   "outputs": [
    {
     "data": {
      "application/vnd.jupyter.widget-view+json": {
       "model_id": "ab154a64b3214194b988c986751d0da4",
       "version_major": 2,
       "version_minor": 0
      },
      "text/plain": [
       "VBox()"
      ]
     },
     "metadata": {},
     "output_type": "display_data"
    },
    {
     "data": {
      "application/vnd.jupyter.widget-view+json": {
       "model_id": "",
       "version_major": 2,
       "version_minor": 0
      },
      "text/plain": [
       "FloatProgress(value=0.0, bar_style='info', description='Progress:', layout=Layout(height='25px', width='50%'),…"
      ]
     },
     "metadata": {},
     "output_type": "display_data"
    }
   ],
   "source": [
    "vecindexer = VectorIndexer(inputCol= \"features\", outputCol= \"indexed_features\")"
   ]
  },
  {
   "cell_type": "markdown",
   "id": "06670b27-4bff-4386-adcd-cabba70f8059",
   "metadata": {
    "tags": []
   },
   "source": [
    "# MinMaxScaler"
   ]
  },
  {
   "cell_type": "markdown",
   "id": "63c1f883-4123-4908-9abd-be943f3b1676",
   "metadata": {
    "execution": {
     "iopub.execute_input": "2022-04-05T06:54:04.731779Z",
     "iopub.status.busy": "2022-04-05T06:54:04.731525Z",
     "iopub.status.idle": "2022-04-05T06:54:04.796056Z",
     "shell.execute_reply": "2022-04-05T06:54:04.795475Z",
     "shell.execute_reply.started": "2022-04-05T06:54:04.731754Z"
    }
   },
   "source": [
    "- StandardScaler scales each value in the feature vector such that the mean is 0 and the standard deviation is 1\n",
    "- It takes parameters:\n",
    "    - withStd: True by default. Scales the data to unit standard deviation\n",
    "    - withMean: False by default. Centers the data with mean before scaling"
   ]
  },
  {
   "cell_type": "code",
   "execution_count": 13,
   "id": "18e9f023-3189-4c27-95ec-40e31bda3f00",
   "metadata": {
    "execution": {
     "iopub.execute_input": "2022-04-06T13:23:40.956610Z",
     "iopub.status.busy": "2022-04-06T13:23:40.956371Z",
     "iopub.status.idle": "2022-04-06T13:23:41.019730Z",
     "shell.execute_reply": "2022-04-06T13:23:41.019111Z",
     "shell.execute_reply.started": "2022-04-06T13:23:40.956588Z"
    },
    "tags": []
   },
   "outputs": [
    {
     "data": {
      "application/vnd.jupyter.widget-view+json": {
       "model_id": "d20057adc1854bd9859beb627d912f92",
       "version_major": 2,
       "version_minor": 0
      },
      "text/plain": [
       "VBox()"
      ]
     },
     "metadata": {},
     "output_type": "display_data"
    },
    {
     "data": {
      "application/vnd.jupyter.widget-view+json": {
       "model_id": "",
       "version_major": 2,
       "version_minor": 0
      },
      "text/plain": [
       "FloatProgress(value=0.0, bar_style='info', description='Progress:', layout=Layout(height='25px', width='50%'),…"
      ]
     },
     "metadata": {},
     "output_type": "display_data"
    }
   ],
   "source": [
    "mmxscaler = MinMaxScaler(inputCol= \"indexed_features\", outputCol= \"scaledfeatures\" )"
   ]
  },
  {
   "cell_type": "markdown",
   "id": "e8b77afd-bcee-481e-9dff-8ab9dfc85d45",
   "metadata": {},
   "source": [
    "# Pipeline Without Model"
   ]
  },
  {
   "cell_type": "code",
   "execution_count": 15,
   "id": "83d7fb0f-d388-4ef1-bac4-78705591f4ba",
   "metadata": {
    "execution": {
     "iopub.execute_input": "2022-04-06T13:23:53.078837Z",
     "iopub.status.busy": "2022-04-06T13:23:53.078606Z",
     "iopub.status.idle": "2022-04-06T13:23:53.142261Z",
     "shell.execute_reply": "2022-04-06T13:23:53.141763Z",
     "shell.execute_reply.started": "2022-04-06T13:23:53.078814Z"
    },
    "tags": []
   },
   "outputs": [
    {
     "data": {
      "application/vnd.jupyter.widget-view+json": {
       "model_id": "d3a71b43cbc04878b0ca95bf34f14a5b",
       "version_major": 2,
       "version_minor": 0
      },
      "text/plain": [
       "VBox()"
      ]
     },
     "metadata": {},
     "output_type": "display_data"
    },
    {
     "data": {
      "application/vnd.jupyter.widget-view+json": {
       "model_id": "",
       "version_major": 2,
       "version_minor": 0
      },
      "text/plain": [
       "FloatProgress(value=0.0, bar_style='info', description='Progress:', layout=Layout(height='25px', width='50%'),…"
      ]
     },
     "metadata": {},
     "output_type": "display_data"
    }
   ],
   "source": [
    "# import Pipeline from pyspark.ml package\n",
    "from pyspark.ml import Pipeline\n",
    "\n",
    "# Build the pipeline object by providing stages(transformers + Estimator) \n",
    "# that you need the dataframe to pass through\n",
    "# Transfoermers - binarizer, bucketizer, indexers, encoder, assembler\n",
    "# Estimator - lr\n",
    "mlppipeline = Pipeline(stages=[indexer1,indexer2,indexer3,assembler,vecindexer,mmxscaler])\n",
    "\n",
    "# fit the pipeline for the trainind data\n"
   ]
  },
  {
   "cell_type": "code",
   "execution_count": 16,
   "id": "09711660-46c8-44d1-85e7-81422ca018da",
   "metadata": {
    "execution": {
     "iopub.execute_input": "2022-04-06T13:23:56.040925Z",
     "iopub.status.busy": "2022-04-06T13:23:56.040412Z",
     "iopub.status.idle": "2022-04-06T13:25:59.762370Z",
     "shell.execute_reply": "2022-04-06T13:25:59.761628Z",
     "shell.execute_reply.started": "2022-04-06T13:23:56.040883Z"
    },
    "tags": []
   },
   "outputs": [
    {
     "data": {
      "application/vnd.jupyter.widget-view+json": {
       "model_id": "38e4c9bb4f7b49cca6455d9a8f81c047",
       "version_major": 2,
       "version_minor": 0
      },
      "text/plain": [
       "VBox()"
      ]
     },
     "metadata": {},
     "output_type": "display_data"
    },
    {
     "data": {
      "application/vnd.jupyter.widget-view+json": {
       "model_id": "",
       "version_major": 2,
       "version_minor": 0
      },
      "text/plain": [
       "FloatProgress(value=0.0, bar_style='info', description='Progress:', layout=Layout(height='25px', width='50%'),…"
      ]
     },
     "metadata": {},
     "output_type": "display_data"
    }
   ],
   "source": [
    "mlppipelinemodel = mlppipeline.fit(df)"
   ]
  },
  {
   "cell_type": "code",
   "execution_count": 17,
   "id": "2bd59287-d06b-4300-9e41-3abeb5bfa51e",
   "metadata": {
    "execution": {
     "iopub.execute_input": "2022-04-06T13:27:43.648489Z",
     "iopub.status.busy": "2022-04-06T13:27:43.648250Z",
     "iopub.status.idle": "2022-04-06T13:27:44.418331Z",
     "shell.execute_reply": "2022-04-06T13:27:44.417708Z",
     "shell.execute_reply.started": "2022-04-06T13:27:43.648464Z"
    },
    "tags": []
   },
   "outputs": [
    {
     "data": {
      "application/vnd.jupyter.widget-view+json": {
       "model_id": "42a92795f4d64b33acc04930eec05904",
       "version_major": 2,
       "version_minor": 0
      },
      "text/plain": [
       "VBox()"
      ]
     },
     "metadata": {},
     "output_type": "display_data"
    },
    {
     "data": {
      "application/vnd.jupyter.widget-view+json": {
       "model_id": "",
       "version_major": 2,
       "version_minor": 0
      },
      "text/plain": [
       "FloatProgress(value=0.0, bar_style='info', description='Progress:', layout=Layout(height='25px', width='50%'),…"
      ]
     },
     "metadata": {},
     "output_type": "display_data"
    }
   ],
   "source": [
    "mlppipelinepredicted = mlppipelinemodel.transform(df)"
   ]
  },
  {
   "cell_type": "markdown",
   "id": "065f7b1d-0584-4f18-a532-1d176f67d30f",
   "metadata": {},
   "source": [
    "# Train Test Split"
   ]
  },
  {
   "cell_type": "code",
   "execution_count": 18,
   "id": "bdd76177-0fbd-4e49-8d7b-783b695989e2",
   "metadata": {
    "execution": {
     "iopub.execute_input": "2022-04-06T13:27:47.638062Z",
     "iopub.status.busy": "2022-04-06T13:27:47.637838Z",
     "iopub.status.idle": "2022-04-06T13:28:01.380984Z",
     "shell.execute_reply": "2022-04-06T13:28:01.380202Z",
     "shell.execute_reply.started": "2022-04-06T13:27:47.638038Z"
    },
    "tags": []
   },
   "outputs": [
    {
     "data": {
      "application/vnd.jupyter.widget-view+json": {
       "model_id": "85e613c5829e46fa8102fae10134e979",
       "version_major": 2,
       "version_minor": 0
      },
      "text/plain": [
       "VBox()"
      ]
     },
     "metadata": {},
     "output_type": "display_data"
    },
    {
     "data": {
      "application/vnd.jupyter.widget-view+json": {
       "model_id": "",
       "version_major": 2,
       "version_minor": 0
      },
      "text/plain": [
       "FloatProgress(value=0.0, bar_style='info', description='Progress:', layout=Layout(height='25px', width='50%'),…"
      ]
     },
     "metadata": {},
     "output_type": "display_data"
    },
    {
     "name": "stdout",
     "output_type": "stream",
     "text": [
      "Observations in training set =  53359203\n",
      "Observations in testing set =  7071817"
     ]
    }
   ],
   "source": [
    "from pyspark.sql.functions import col\n",
    "trainDF = mlppipelinepredicted.where(col(\"YEAR\")!=2018)\n",
    "testDF = mlppipelinepredicted.where(col(\"YEAR\")==2018)\n",
    "\n",
    "# print the count of observations in each set\n",
    "print(\"Observations in training set = \", trainDF.count())\n",
    "print(\"Observations in testing set = \", testDF.count())"
   ]
  },
  {
   "cell_type": "markdown",
   "id": "1e8407c0-3892-4de4-a264-1b0544dddb68",
   "metadata": {},
   "source": [
    "# Model Building"
   ]
  },
  {
   "cell_type": "code",
   "execution_count": 19,
   "id": "5a70476f-2e90-4d60-a344-ea63f1132a4d",
   "metadata": {
    "execution": {
     "iopub.execute_input": "2022-04-06T13:28:11.678817Z",
     "iopub.status.busy": "2022-04-06T13:28:11.678587Z",
     "iopub.status.idle": "2022-04-06T13:28:11.941370Z",
     "shell.execute_reply": "2022-04-06T13:28:11.940799Z",
     "shell.execute_reply.started": "2022-04-06T13:28:11.678792Z"
    },
    "tags": []
   },
   "outputs": [
    {
     "data": {
      "application/vnd.jupyter.widget-view+json": {
       "model_id": "75de1ad30e7a4dc1bbce79e73826141a",
       "version_major": 2,
       "version_minor": 0
      },
      "text/plain": [
       "VBox()"
      ]
     },
     "metadata": {},
     "output_type": "display_data"
    },
    {
     "data": {
      "application/vnd.jupyter.widget-view+json": {
       "model_id": "",
       "version_major": 2,
       "version_minor": 0
      },
      "text/plain": [
       "FloatProgress(value=0.0, bar_style='info', description='Progress:', layout=Layout(height='25px', width='50%'),…"
      ]
     },
     "metadata": {},
     "output_type": "display_data"
    }
   ],
   "source": [
    "# import the MultilayerPerceptronClassifier function from the pyspark.ml.classification package\n",
    "from pyspark.ml.classification import MultilayerPerceptronClassifier\n",
    "mlp = MultilayerPerceptronClassifier(layers = [10,5,5,2],featuresCol='scaledfeatures', labelCol='FLIGHT_STATUS')"
   ]
  },
  {
   "cell_type": "code",
   "execution_count": 20,
   "id": "d2466a9c-bb37-4789-aee5-7de441e5ecea",
   "metadata": {
    "execution": {
     "iopub.execute_input": "2022-04-06T13:28:15.146303Z",
     "iopub.status.busy": "2022-04-06T13:28:15.146069Z",
     "iopub.status.idle": "2022-04-06T14:23:28.254328Z",
     "shell.execute_reply": "2022-04-06T14:23:28.253314Z",
     "shell.execute_reply.started": "2022-04-06T13:28:15.146278Z"
    },
    "tags": []
   },
   "outputs": [
    {
     "data": {
      "application/vnd.jupyter.widget-view+json": {
       "model_id": "e6406f64afba4bd38bf1cbfedd06e541",
       "version_major": 2,
       "version_minor": 0
      },
      "text/plain": [
       "VBox()"
      ]
     },
     "metadata": {},
     "output_type": "display_data"
    },
    {
     "data": {
      "application/vnd.jupyter.widget-view+json": {
       "model_id": "",
       "version_major": 2,
       "version_minor": 0
      },
      "text/plain": [
       "FloatProgress(value=0.0, bar_style='info', description='Progress:', layout=Layout(height='25px', width='50%'),…"
      ]
     },
     "metadata": {},
     "output_type": "display_data"
    }
   ],
   "source": [
    "# fit the MultilayerPerceptronClassifier object on the training data\n",
    "mlp_model = mlp.fit(trainDF)\n",
    "# #This MultilayerPerceptronClassifier can be used as a transformer to perform prediction on the testing data\n",
    "pred_df = mlp_model.transform(testDF)"
   ]
  },
  {
   "cell_type": "code",
   "execution_count": 21,
   "id": "988c5e5f-0738-477d-aa6f-871a63a69a22",
   "metadata": {
    "execution": {
     "iopub.execute_input": "2022-04-06T14:23:40.548831Z",
     "iopub.status.busy": "2022-04-06T14:23:40.548609Z",
     "iopub.status.idle": "2022-04-06T14:27:44.534167Z",
     "shell.execute_reply": "2022-04-06T14:27:44.533455Z",
     "shell.execute_reply.started": "2022-04-06T14:23:40.548806Z"
    },
    "tags": []
   },
   "outputs": [
    {
     "data": {
      "application/vnd.jupyter.widget-view+json": {
       "model_id": "2c2b8dfa64ae418c852da584f4689b6e",
       "version_major": 2,
       "version_minor": 0
      },
      "text/plain": [
       "VBox()"
      ]
     },
     "metadata": {},
     "output_type": "display_data"
    },
    {
     "data": {
      "application/vnd.jupyter.widget-view+json": {
       "model_id": "",
       "version_major": 2,
       "version_minor": 0
      },
      "text/plain": [
       "FloatProgress(value=0.0, bar_style='info', description='Progress:', layout=Layout(height='25px', width='50%'),…"
      ]
     },
     "metadata": {},
     "output_type": "display_data"
    },
    {
     "name": "stdout",
     "output_type": "stream",
     "text": [
      "accuracy: 0.6787233040673988\n",
      "f1: 0.6394610731419235"
     ]
    }
   ],
   "source": [
    "# Build the MulticlassClassificationEvaluator object 'evaluator'\n",
    "from pyspark.ml.evaluation import MulticlassClassificationEvaluator\n",
    "# 1. Accuracy\n",
    "evaluator = MulticlassClassificationEvaluator(labelCol = 'FLIGHT_STATUS', predictionCol = 'prediction', metricName = 'accuracy')\n",
    "# 2. F1 Score (F-measure)\n",
    "evaluator2 = MulticlassClassificationEvaluator(labelCol = 'FLIGHT_STATUS', predictionCol = 'prediction', metricName = 'f1')\n",
    "mlpacc = evaluator.evaluate(pred_df)\n",
    "mlpf1=evaluator2.evaluate(pred_df)\n",
    "print(\"accuracy:\",mlpacc)\n",
    "print('f1:', mlpf1)"
   ]
  },
  {
   "cell_type": "markdown",
   "id": "45e09230-7b20-46d8-b123-448448a9b199",
   "metadata": {},
   "source": [
    "# Pipeline with model"
   ]
  },
  {
   "cell_type": "code",
   "execution_count": 22,
   "id": "36634fc1-c774-4a6d-8398-10cc80eb2b38",
   "metadata": {
    "execution": {
     "iopub.execute_input": "2022-04-06T14:29:25.778625Z",
     "iopub.status.busy": "2022-04-06T14:29:25.778278Z",
     "iopub.status.idle": "2022-04-06T14:29:33.091765Z",
     "shell.execute_reply": "2022-04-06T14:29:33.090926Z",
     "shell.execute_reply.started": "2022-04-06T14:29:25.778585Z"
    },
    "tags": []
   },
   "outputs": [
    {
     "data": {
      "application/vnd.jupyter.widget-view+json": {
       "model_id": "0ad6f9530f8d44ab9d98f4318da63654",
       "version_major": 2,
       "version_minor": 0
      },
      "text/plain": [
       "VBox()"
      ]
     },
     "metadata": {},
     "output_type": "display_data"
    },
    {
     "data": {
      "application/vnd.jupyter.widget-view+json": {
       "model_id": "",
       "version_major": 2,
       "version_minor": 0
      },
      "text/plain": [
       "FloatProgress(value=0.0, bar_style='info', description='Progress:', layout=Layout(height='25px', width='50%'),…"
      ]
     },
     "metadata": {},
     "output_type": "display_data"
    }
   ],
   "source": [
    "df = spark.read.format(\"parquet\")\\\n",
    "    .option(\"header\",\"true\")\\\n",
    "    .option(\"inferschema\",\"true\")\\\n",
    "    .load(\"s3://vitaproject23/cleandata/\")"
   ]
  },
  {
   "cell_type": "code",
   "execution_count": 23,
   "id": "6c897a2b-e245-487d-ab44-dfb7c9791b96",
   "metadata": {
    "execution": {
     "iopub.execute_input": "2022-04-06T14:32:09.152585Z",
     "iopub.status.busy": "2022-04-06T14:32:09.152357Z",
     "iopub.status.idle": "2022-04-06T14:32:09.204857Z",
     "shell.execute_reply": "2022-04-06T14:32:09.204180Z",
     "shell.execute_reply.started": "2022-04-06T14:32:09.152561Z"
    },
    "tags": []
   },
   "outputs": [
    {
     "data": {
      "application/vnd.jupyter.widget-view+json": {
       "model_id": "9964bbdacf97439db651e663c3f6d6e3",
       "version_major": 2,
       "version_minor": 0
      },
      "text/plain": [
       "VBox()"
      ]
     },
     "metadata": {},
     "output_type": "display_data"
    },
    {
     "data": {
      "application/vnd.jupyter.widget-view+json": {
       "model_id": "",
       "version_major": 2,
       "version_minor": 0
      },
      "text/plain": [
       "FloatProgress(value=0.0, bar_style='info', description='Progress:', layout=Layout(height='25px', width='50%'),…"
      ]
     },
     "metadata": {},
     "output_type": "display_data"
    }
   ],
   "source": [
    "df = df.drop('FL_DATE','TAXI_OUT','WHEELS_OFF','WHEELS_ON','TAXI_IN','ARR_DELAY','DEP_DELAY','ACTUAL_ELAPSED_TIME','DEP_TIME','ARR_TIME')"
   ]
  },
  {
   "cell_type": "code",
   "execution_count": 24,
   "id": "9c8db563-347a-4271-9bc7-b9f2c895a581",
   "metadata": {
    "execution": {
     "iopub.execute_input": "2022-04-06T14:32:12.272473Z",
     "iopub.status.busy": "2022-04-06T14:32:12.272221Z",
     "iopub.status.idle": "2022-04-06T14:32:12.533784Z",
     "shell.execute_reply": "2022-04-06T14:32:12.533194Z",
     "shell.execute_reply.started": "2022-04-06T14:32:12.272448Z"
    },
    "tags": []
   },
   "outputs": [
    {
     "data": {
      "application/vnd.jupyter.widget-view+json": {
       "model_id": "96518101edc54158970e5e95f7f8565e",
       "version_major": 2,
       "version_minor": 0
      },
      "text/plain": [
       "VBox()"
      ]
     },
     "metadata": {},
     "output_type": "display_data"
    },
    {
     "data": {
      "application/vnd.jupyter.widget-view+json": {
       "model_id": "",
       "version_major": 2,
       "version_minor": 0
      },
      "text/plain": [
       "FloatProgress(value=0.0, bar_style='info', description='Progress:', layout=Layout(height='25px', width='50%'),…"
      ]
     },
     "metadata": {},
     "output_type": "display_data"
    }
   ],
   "source": [
    "trainDF1 = df.where(col(\"YEAR\")!=2018)\n",
    "testDF1 = df.where(col(\"YEAR\")==2018)"
   ]
  },
  {
   "cell_type": "code",
   "execution_count": 25,
   "id": "4d2e5e89-0da3-48de-8582-e04bb87e21d2",
   "metadata": {
    "execution": {
     "iopub.execute_input": "2022-04-06T14:32:40.733729Z",
     "iopub.status.busy": "2022-04-06T14:32:40.733508Z",
     "iopub.status.idle": "2022-04-06T14:32:40.785568Z",
     "shell.execute_reply": "2022-04-06T14:32:40.782166Z",
     "shell.execute_reply.started": "2022-04-06T14:32:40.733705Z"
    },
    "tags": []
   },
   "outputs": [
    {
     "data": {
      "application/vnd.jupyter.widget-view+json": {
       "model_id": "86b6ba1207924001b82cc17a3e94cdcb",
       "version_major": 2,
       "version_minor": 0
      },
      "text/plain": [
       "VBox()"
      ]
     },
     "metadata": {},
     "output_type": "display_data"
    },
    {
     "data": {
      "application/vnd.jupyter.widget-view+json": {
       "model_id": "",
       "version_major": 2,
       "version_minor": 0
      },
      "text/plain": [
       "FloatProgress(value=0.0, bar_style='info', description='Progress:', layout=Layout(height='25px', width='50%'),…"
      ]
     },
     "metadata": {},
     "output_type": "display_data"
    }
   ],
   "source": [
    "pipeline = Pipeline(stages=[indexer1,indexer2,indexer3,assembler,vecindexer,mmxscaler,mlp])"
   ]
  },
  {
   "cell_type": "code",
   "execution_count": 26,
   "id": "638e89de-a001-4fb0-8b27-2179ccc62723",
   "metadata": {
    "execution": {
     "iopub.execute_input": "2022-04-06T14:32:43.543425Z",
     "iopub.status.busy": "2022-04-06T14:32:43.543188Z",
     "iopub.status.idle": "2022-04-06T15:04:46.586897Z",
     "shell.execute_reply": "2022-04-06T15:04:46.586306Z",
     "shell.execute_reply.started": "2022-04-06T14:32:43.543388Z"
    },
    "tags": []
   },
   "outputs": [
    {
     "data": {
      "application/vnd.jupyter.widget-view+json": {
       "model_id": "b4aa334e82c14706a0d0d44fcc081ce5",
       "version_major": 2,
       "version_minor": 0
      },
      "text/plain": [
       "VBox()"
      ]
     },
     "metadata": {},
     "output_type": "display_data"
    },
    {
     "data": {
      "application/vnd.jupyter.widget-view+json": {
       "model_id": "",
       "version_major": 2,
       "version_minor": 0
      },
      "text/plain": [
       "FloatProgress(value=0.0, bar_style='info', description='Progress:', layout=Layout(height='25px', width='50%'),…"
      ]
     },
     "metadata": {},
     "output_type": "display_data"
    }
   ],
   "source": [
    "pipelinemodel = pipeline.fit(trainDF1)\n",
    "pipeline_pred = pipelinemodel.transform(testDF1)"
   ]
  },
  {
   "cell_type": "code",
   "execution_count": 44,
   "id": "1b45393c-8c6c-4325-8e84-53a4fd7e7bef",
   "metadata": {
    "execution": {
     "iopub.execute_input": "2022-04-05T06:46:52.644444Z",
     "iopub.status.busy": "2022-04-05T06:46:52.644155Z",
     "iopub.status.idle": "2022-04-05T06:47:01.989312Z",
     "shell.execute_reply": "2022-04-05T06:47:01.979437Z",
     "shell.execute_reply.started": "2022-04-05T06:46:52.644416Z"
    }
   },
   "outputs": [
    {
     "data": {
      "application/vnd.jupyter.widget-view+json": {
       "model_id": "eecafc8e545449d9af5d593c396d9ad0",
       "version_major": 2,
       "version_minor": 0
      },
      "text/plain": [
       "VBox()"
      ]
     },
     "metadata": {},
     "output_type": "display_data"
    },
    {
     "data": {
      "application/vnd.jupyter.widget-view+json": {
       "model_id": "",
       "version_major": 2,
       "version_minor": 0
      },
      "text/plain": [
       "FloatProgress(value=0.0, bar_style='info', description='Progress:', layout=Layout(height='25px', width='50%'),…"
      ]
     },
     "metadata": {},
     "output_type": "display_data"
    }
   ],
   "source": [
    "pipelinemodel.save(\"s3://minmaxscale/model/\")"
   ]
  },
  {
   "cell_type": "code",
   "execution_count": 21,
   "id": "15260fd8-24c4-4301-94b6-1139c55eb28a",
   "metadata": {
    "execution": {
     "iopub.execute_input": "2022-04-05T05:47:46.950306Z",
     "iopub.status.busy": "2022-04-05T05:47:46.950076Z",
     "iopub.status.idle": "2022-04-05T05:47:49.259993Z",
     "shell.execute_reply": "2022-04-05T05:47:49.259342Z",
     "shell.execute_reply.started": "2022-04-05T05:47:46.950280Z"
    },
    "tags": []
   },
   "outputs": [
    {
     "data": {
      "application/vnd.jupyter.widget-view+json": {
       "model_id": "58e27421336a482c96edfdc711ec398a",
       "version_major": 2,
       "version_minor": 0
      },
      "text/plain": [
       "VBox()"
      ]
     },
     "metadata": {},
     "output_type": "display_data"
    },
    {
     "data": {
      "application/vnd.jupyter.widget-view+json": {
       "model_id": "",
       "version_major": 2,
       "version_minor": 0
      },
      "text/plain": [
       "FloatProgress(value=0.0, bar_style='info', description='Progress:', layout=Layout(height='25px', width='50%'),…"
      ]
     },
     "metadata": {},
     "output_type": "display_data"
    },
    {
     "name": "stderr",
     "output_type": "stream",
     "text": [
      "An error was encountered:\n",
      "An error occurred while calling o523.count.\n",
      ": org.apache.spark.SparkException: Job aborted due to stage failure: Task 28 in stage 271.0 failed 4 times, most recent failure: Lost task 28.3 in stage 271.0 (TID 4387, ip-172-31-29-118.ec2.internal, executor 10): org.apache.spark.SparkException: Failed to execute user defined function($anonfun$9: (string) => double)\n",
      "\tat org.apache.spark.sql.catalyst.expressions.GeneratedClass$GeneratedIteratorForCodegenStage1.agg_doAggregateWithoutKey_0$(Unknown Source)\n",
      "\tat org.apache.spark.sql.catalyst.expressions.GeneratedClass$GeneratedIteratorForCodegenStage1.processNext(Unknown Source)\n",
      "\tat org.apache.spark.sql.execution.BufferedRowIterator.hasNext(BufferedRowIterator.java:43)\n",
      "\tat org.apache.spark.sql.execution.WholeStageCodegenExec$$anonfun$13$$anon$1.hasNext(WholeStageCodegenExec.scala:585)\n",
      "\tat scala.collection.Iterator$$anon$11.hasNext(Iterator.scala:409)\n",
      "\tat org.apache.spark.shuffle.sort.BypassMergeSortShuffleWriter.write(BypassMergeSortShuffleWriter.java:127)\n",
      "\tat org.apache.spark.scheduler.ShuffleMapTask.runTask(ShuffleMapTask.scala:95)\n",
      "\tat org.apache.spark.scheduler.ShuffleMapTask.runTask(ShuffleMapTask.scala:55)\n",
      "\tat org.apache.spark.scheduler.Task.run(Task.scala:123)\n",
      "\tat org.apache.spark.executor.Executor$TaskRunner$$anonfun$10.apply(Executor.scala:408)\n",
      "\tat org.apache.spark.util.Utils$.tryWithSafeFinally(Utils.scala:1405)\n",
      "\tat org.apache.spark.executor.Executor$TaskRunner.run(Executor.scala:414)\n",
      "\tat java.util.concurrent.ThreadPoolExecutor.runWorker(ThreadPoolExecutor.java:1149)\n",
      "\tat java.util.concurrent.ThreadPoolExecutor$Worker.run(ThreadPoolExecutor.java:624)\n",
      "\tat java.lang.Thread.run(Thread.java:750)\n",
      "Caused by: org.apache.spark.SparkException: Unseen label: Republic Airways.  To handle unseen labels, set Param handleInvalid to keep.\n",
      "\tat org.apache.spark.ml.feature.StringIndexerModel$$anonfun$9.apply(StringIndexer.scala:260)\n",
      "\tat org.apache.spark.ml.feature.StringIndexerModel$$anonfun$9.apply(StringIndexer.scala:246)\n",
      "\t... 15 more\n",
      "\n",
      "Driver stacktrace:\n",
      "\tat org.apache.spark.scheduler.DAGScheduler.org$apache$spark$scheduler$DAGScheduler$$failJobAndIndependentStages(DAGScheduler.scala:2136)\n",
      "\tat org.apache.spark.scheduler.DAGScheduler$$anonfun$abortStage$1.apply(DAGScheduler.scala:2124)\n",
      "\tat org.apache.spark.scheduler.DAGScheduler$$anonfun$abortStage$1.apply(DAGScheduler.scala:2123)\n",
      "\tat scala.collection.mutable.ResizableArray$class.foreach(ResizableArray.scala:59)\n",
      "\tat scala.collection.mutable.ArrayBuffer.foreach(ArrayBuffer.scala:48)\n",
      "\tat org.apache.spark.scheduler.DAGScheduler.abortStage(DAGScheduler.scala:2123)\n",
      "\tat org.apache.spark.scheduler.DAGScheduler$$anonfun$handleTaskSetFailed$1.apply(DAGScheduler.scala:994)\n",
      "\tat org.apache.spark.scheduler.DAGScheduler$$anonfun$handleTaskSetFailed$1.apply(DAGScheduler.scala:994)\n",
      "\tat scala.Option.foreach(Option.scala:257)\n",
      "\tat org.apache.spark.scheduler.DAGScheduler.handleTaskSetFailed(DAGScheduler.scala:994)\n",
      "\tat org.apache.spark.scheduler.DAGSchedulerEventProcessLoop.doOnReceive(DAGScheduler.scala:2384)\n",
      "\tat org.apache.spark.scheduler.DAGSchedulerEventProcessLoop.onReceive(DAGScheduler.scala:2333)\n",
      "\tat org.apache.spark.scheduler.DAGSchedulerEventProcessLoop.onReceive(DAGScheduler.scala:2322)\n",
      "\tat org.apache.spark.util.EventLoop$$anon$1.run(EventLoop.scala:49)\n",
      "\tat org.apache.spark.sql.execution.adaptive.AdaptiveExecutor.checkNoFailures(AdaptiveExecutor.scala:146)\n",
      "\tat org.apache.spark.sql.execution.adaptive.AdaptiveExecutor.doRun(AdaptiveExecutor.scala:88)\n",
      "\tat org.apache.spark.sql.execution.adaptive.AdaptiveExecutor.tryRunningAndGetFuture(AdaptiveExecutor.scala:66)\n",
      "\tat org.apache.spark.sql.execution.adaptive.AdaptiveExecutor.execute(AdaptiveExecutor.scala:57)\n",
      "\tat org.apache.spark.sql.execution.adaptive.AdaptiveSparkPlanExec$$anonfun$finalPhysicalPlan$1.apply(AdaptiveSparkPlanExec.scala:174)\n",
      "\tat org.apache.spark.sql.execution.adaptive.AdaptiveSparkPlanExec$$anonfun$finalPhysicalPlan$1.apply(AdaptiveSparkPlanExec.scala:173)\n",
      "\tat org.apache.spark.sql.SparkSession.withActive(SparkSession.scala:778)\n",
      "\tat org.apache.spark.sql.execution.adaptive.AdaptiveSparkPlanExec.finalPhysicalPlan(AdaptiveSparkPlanExec.scala:173)\n",
      "\tat org.apache.spark.sql.execution.adaptive.AdaptiveSparkPlanExec.executeCollect(AdaptiveSparkPlanExec.scala:180)\n",
      "\tat org.apache.spark.sql.Dataset$$anonfun$count$1.apply(Dataset.scala:2839)\n",
      "\tat org.apache.spark.sql.Dataset$$anonfun$count$1.apply(Dataset.scala:2838)\n",
      "\tat org.apache.spark.sql.Dataset$$anonfun$52.apply(Dataset.scala:3391)\n",
      "\tat org.apache.spark.sql.execution.SQLExecution$.org$apache$spark$sql$execution$SQLExecution$$executeQuery$1(SQLExecution.scala:83)\n",
      "\tat org.apache.spark.sql.execution.SQLExecution$$anonfun$withNewExecutionId$1$$anonfun$apply$1.apply(SQLExecution.scala:94)\n",
      "\tat org.apache.spark.sql.execution.QueryExecutionMetrics$.withMetrics(QueryExecutionMetrics.scala:141)\n",
      "\tat org.apache.spark.sql.execution.SQLExecution$.org$apache$spark$sql$execution$SQLExecution$$withMetrics(SQLExecution.scala:178)\n",
      "\tat org.apache.spark.sql.execution.SQLExecution$$anonfun$withNewExecutionId$1.apply(SQLExecution.scala:93)\n",
      "\tat org.apache.spark.sql.execution.SQLExecution$.withSQLConfPropagated(SQLExecution.scala:200)\n",
      "\tat org.apache.spark.sql.execution.SQLExecution$.withNewExecutionId(SQLExecution.scala:92)\n",
      "\tat org.apache.spark.sql.Dataset.org$apache$spark$sql$Dataset$$withAction(Dataset.scala:3390)\n",
      "\tat org.apache.spark.sql.Dataset.count(Dataset.scala:2838)\n",
      "\tat sun.reflect.NativeMethodAccessorImpl.invoke0(Native Method)\n",
      "\tat sun.reflect.NativeMethodAccessorImpl.invoke(NativeMethodAccessorImpl.java:62)\n",
      "\tat sun.reflect.DelegatingMethodAccessorImpl.invoke(DelegatingMethodAccessorImpl.java:43)\n",
      "\tat java.lang.reflect.Method.invoke(Method.java:498)\n",
      "\tat py4j.reflection.MethodInvoker.invoke(MethodInvoker.java:244)\n",
      "\tat py4j.reflection.ReflectionEngine.invoke(ReflectionEngine.java:357)\n",
      "\tat py4j.Gateway.invoke(Gateway.java:282)\n",
      "\tat py4j.commands.AbstractCommand.invokeMethod(AbstractCommand.java:132)\n",
      "\tat py4j.commands.CallCommand.execute(CallCommand.java:79)\n",
      "\tat py4j.GatewayConnection.run(GatewayConnection.java:238)\n",
      "\tat java.lang.Thread.run(Thread.java:750)\n",
      "Caused by: org.apache.spark.SparkException: Failed to execute user defined function($anonfun$9: (string) => double)\n",
      "\tat org.apache.spark.sql.catalyst.expressions.GeneratedClass$GeneratedIteratorForCodegenStage1.agg_doAggregateWithoutKey_0$(Unknown Source)\n",
      "\tat org.apache.spark.sql.catalyst.expressions.GeneratedClass$GeneratedIteratorForCodegenStage1.processNext(Unknown Source)\n",
      "\tat org.apache.spark.sql.execution.BufferedRowIterator.hasNext(BufferedRowIterator.java:43)\n",
      "\tat org.apache.spark.sql.execution.WholeStageCodegenExec$$anonfun$13$$anon$1.hasNext(WholeStageCodegenExec.scala:585)\n",
      "\tat scala.collection.Iterator$$anon$11.hasNext(Iterator.scala:409)\n",
      "\tat org.apache.spark.shuffle.sort.BypassMergeSortShuffleWriter.write(BypassMergeSortShuffleWriter.java:127)\n",
      "\tat org.apache.spark.scheduler.ShuffleMapTask.runTask(ShuffleMapTask.scala:95)\n",
      "\tat org.apache.spark.scheduler.ShuffleMapTask.runTask(ShuffleMapTask.scala:55)\n",
      "\tat org.apache.spark.scheduler.Task.run(Task.scala:123)\n",
      "\tat org.apache.spark.executor.Executor$TaskRunner$$anonfun$10.apply(Executor.scala:408)\n",
      "\tat org.apache.spark.util.Utils$.tryWithSafeFinally(Utils.scala:1405)\n",
      "\tat org.apache.spark.executor.Executor$TaskRunner.run(Executor.scala:414)\n",
      "\tat java.util.concurrent.ThreadPoolExecutor.runWorker(ThreadPoolExecutor.java:1149)\n",
      "\tat java.util.concurrent.ThreadPoolExecutor$Worker.run(ThreadPoolExecutor.java:624)\n",
      "\t... 1 more\n",
      "Caused by: org.apache.spark.SparkException: Unseen label: Republic Airways.  To handle unseen labels, set Param handleInvalid to keep.\n",
      "\tat org.apache.spark.ml.feature.StringIndexerModel$$anonfun$9.apply(StringIndexer.scala:260)\n",
      "\tat org.apache.spark.ml.feature.StringIndexerModel$$anonfun$9.apply(StringIndexer.scala:246)\n",
      "\t... 15 more\n",
      "\n",
      "Traceback (most recent call last):\n",
      "  File \"/usr/lib/spark/python/lib/pyspark.zip/pyspark/sql/dataframe.py\", line 525, in count\n",
      "    return int(self._jdf.count())\n",
      "  File \"/usr/lib/spark/python/lib/py4j-0.10.7-src.zip/py4j/java_gateway.py\", line 1257, in __call__\n",
      "    answer, self.gateway_client, self.target_id, self.name)\n",
      "  File \"/usr/lib/spark/python/lib/pyspark.zip/pyspark/sql/utils.py\", line 63, in deco\n",
      "    return f(*a, **kw)\n",
      "  File \"/usr/lib/spark/python/lib/py4j-0.10.7-src.zip/py4j/protocol.py\", line 328, in get_return_value\n",
      "    format(target_id, \".\", name), value)\n",
      "py4j.protocol.Py4JJavaError: An error occurred while calling o523.count.\n",
      ": org.apache.spark.SparkException: Job aborted due to stage failure: Task 28 in stage 271.0 failed 4 times, most recent failure: Lost task 28.3 in stage 271.0 (TID 4387, ip-172-31-29-118.ec2.internal, executor 10): org.apache.spark.SparkException: Failed to execute user defined function($anonfun$9: (string) => double)\n",
      "\tat org.apache.spark.sql.catalyst.expressions.GeneratedClass$GeneratedIteratorForCodegenStage1.agg_doAggregateWithoutKey_0$(Unknown Source)\n",
      "\tat org.apache.spark.sql.catalyst.expressions.GeneratedClass$GeneratedIteratorForCodegenStage1.processNext(Unknown Source)\n",
      "\tat org.apache.spark.sql.execution.BufferedRowIterator.hasNext(BufferedRowIterator.java:43)\n",
      "\tat org.apache.spark.sql.execution.WholeStageCodegenExec$$anonfun$13$$anon$1.hasNext(WholeStageCodegenExec.scala:585)\n",
      "\tat scala.collection.Iterator$$anon$11.hasNext(Iterator.scala:409)\n",
      "\tat org.apache.spark.shuffle.sort.BypassMergeSortShuffleWriter.write(BypassMergeSortShuffleWriter.java:127)\n",
      "\tat org.apache.spark.scheduler.ShuffleMapTask.runTask(ShuffleMapTask.scala:95)\n",
      "\tat org.apache.spark.scheduler.ShuffleMapTask.runTask(ShuffleMapTask.scala:55)\n",
      "\tat org.apache.spark.scheduler.Task.run(Task.scala:123)\n",
      "\tat org.apache.spark.executor.Executor$TaskRunner$$anonfun$10.apply(Executor.scala:408)\n",
      "\tat org.apache.spark.util.Utils$.tryWithSafeFinally(Utils.scala:1405)\n",
      "\tat org.apache.spark.executor.Executor$TaskRunner.run(Executor.scala:414)\n",
      "\tat java.util.concurrent.ThreadPoolExecutor.runWorker(ThreadPoolExecutor.java:1149)\n",
      "\tat java.util.concurrent.ThreadPoolExecutor$Worker.run(ThreadPoolExecutor.java:624)\n",
      "\tat java.lang.Thread.run(Thread.java:750)\n",
      "Caused by: org.apache.spark.SparkException: Unseen label: Republic Airways.  To handle unseen labels, set Param handleInvalid to keep.\n",
      "\tat org.apache.spark.ml.feature.StringIndexerModel$$anonfun$9.apply(StringIndexer.scala:260)\n",
      "\tat org.apache.spark.ml.feature.StringIndexerModel$$anonfun$9.apply(StringIndexer.scala:246)\n",
      "\t... 15 more\n",
      "\n",
      "Driver stacktrace:\n",
      "\tat org.apache.spark.scheduler.DAGScheduler.org$apache$spark$scheduler$DAGScheduler$$failJobAndIndependentStages(DAGScheduler.scala:2136)\n",
      "\tat org.apache.spark.scheduler.DAGScheduler$$anonfun$abortStage$1.apply(DAGScheduler.scala:2124)\n",
      "\tat org.apache.spark.scheduler.DAGScheduler$$anonfun$abortStage$1.apply(DAGScheduler.scala:2123)\n",
      "\tat scala.collection.mutable.ResizableArray$class.foreach(ResizableArray.scala:59)\n",
      "\tat scala.collection.mutable.ArrayBuffer.foreach(ArrayBuffer.scala:48)\n",
      "\tat org.apache.spark.scheduler.DAGScheduler.abortStage(DAGScheduler.scala:2123)\n",
      "\tat org.apache.spark.scheduler.DAGScheduler$$anonfun$handleTaskSetFailed$1.apply(DAGScheduler.scala:994)\n",
      "\tat org.apache.spark.scheduler.DAGScheduler$$anonfun$handleTaskSetFailed$1.apply(DAGScheduler.scala:994)\n",
      "\tat scala.Option.foreach(Option.scala:257)\n",
      "\tat org.apache.spark.scheduler.DAGScheduler.handleTaskSetFailed(DAGScheduler.scala:994)\n",
      "\tat org.apache.spark.scheduler.DAGSchedulerEventProcessLoop.doOnReceive(DAGScheduler.scala:2384)\n",
      "\tat org.apache.spark.scheduler.DAGSchedulerEventProcessLoop.onReceive(DAGScheduler.scala:2333)\n",
      "\tat org.apache.spark.scheduler.DAGSchedulerEventProcessLoop.onReceive(DAGScheduler.scala:2322)\n",
      "\tat org.apache.spark.util.EventLoop$$anon$1.run(EventLoop.scala:49)\n",
      "\tat org.apache.spark.sql.execution.adaptive.AdaptiveExecutor.checkNoFailures(AdaptiveExecutor.scala:146)\n",
      "\tat org.apache.spark.sql.execution.adaptive.AdaptiveExecutor.doRun(AdaptiveExecutor.scala:88)\n",
      "\tat org.apache.spark.sql.execution.adaptive.AdaptiveExecutor.tryRunningAndGetFuture(AdaptiveExecutor.scala:66)\n",
      "\tat org.apache.spark.sql.execution.adaptive.AdaptiveExecutor.execute(AdaptiveExecutor.scala:57)\n",
      "\tat org.apache.spark.sql.execution.adaptive.AdaptiveSparkPlanExec$$anonfun$finalPhysicalPlan$1.apply(AdaptiveSparkPlanExec.scala:174)\n",
      "\tat org.apache.spark.sql.execution.adaptive.AdaptiveSparkPlanExec$$anonfun$finalPhysicalPlan$1.apply(AdaptiveSparkPlanExec.scala:173)\n",
      "\tat org.apache.spark.sql.SparkSession.withActive(SparkSession.scala:778)\n",
      "\tat org.apache.spark.sql.execution.adaptive.AdaptiveSparkPlanExec.finalPhysicalPlan(AdaptiveSparkPlanExec.scala:173)\n",
      "\tat org.apache.spark.sql.execution.adaptive.AdaptiveSparkPlanExec.executeCollect(AdaptiveSparkPlanExec.scala:180)\n",
      "\tat org.apache.spark.sql.Dataset$$anonfun$count$1.apply(Dataset.scala:2839)\n",
      "\tat org.apache.spark.sql.Dataset$$anonfun$count$1.apply(Dataset.scala:2838)\n",
      "\tat org.apache.spark.sql.Dataset$$anonfun$52.apply(Dataset.scala:3391)\n",
      "\tat org.apache.spark.sql.execution.SQLExecution$.org$apache$spark$sql$execution$SQLExecution$$executeQuery$1(SQLExecution.scala:83)\n",
      "\tat org.apache.spark.sql.execution.SQLExecution$$anonfun$withNewExecutionId$1$$anonfun$apply$1.apply(SQLExecution.scala:94)\n",
      "\tat org.apache.spark.sql.execution.QueryExecutionMetrics$.withMetrics(QueryExecutionMetrics.scala:141)\n",
      "\tat org.apache.spark.sql.execution.SQLExecution$.org$apache$spark$sql$execution$SQLExecution$$withMetrics(SQLExecution.scala:178)\n",
      "\tat org.apache.spark.sql.execution.SQLExecution$$anonfun$withNewExecutionId$1.apply(SQLExecution.scala:93)\n",
      "\tat org.apache.spark.sql.execution.SQLExecution$.withSQLConfPropagated(SQLExecution.scala:200)\n",
      "\tat org.apache.spark.sql.execution.SQLExecution$.withNewExecutionId(SQLExecution.scala:92)\n",
      "\tat org.apache.spark.sql.Dataset.org$apache$spark$sql$Dataset$$withAction(Dataset.scala:3390)\n",
      "\tat org.apache.spark.sql.Dataset.count(Dataset.scala:2838)\n",
      "\tat sun.reflect.NativeMethodAccessorImpl.invoke0(Native Method)\n",
      "\tat sun.reflect.NativeMethodAccessorImpl.invoke(NativeMethodAccessorImpl.java:62)\n",
      "\tat sun.reflect.DelegatingMethodAccessorImpl.invoke(DelegatingMethodAccessorImpl.java:43)\n",
      "\tat java.lang.reflect.Method.invoke(Method.java:498)\n",
      "\tat py4j.reflection.MethodInvoker.invoke(MethodInvoker.java:244)\n",
      "\tat py4j.reflection.ReflectionEngine.invoke(ReflectionEngine.java:357)\n",
      "\tat py4j.Gateway.invoke(Gateway.java:282)\n",
      "\tat py4j.commands.AbstractCommand.invokeMethod(AbstractCommand.java:132)\n",
      "\tat py4j.commands.CallCommand.execute(CallCommand.java:79)\n",
      "\tat py4j.GatewayConnection.run(GatewayConnection.java:238)\n",
      "\tat java.lang.Thread.run(Thread.java:750)\n",
      "Caused by: org.apache.spark.SparkException: Failed to execute user defined function($anonfun$9: (string) => double)\n",
      "\tat org.apache.spark.sql.catalyst.expressions.GeneratedClass$GeneratedIteratorForCodegenStage1.agg_doAggregateWithoutKey_0$(Unknown Source)\n",
      "\tat org.apache.spark.sql.catalyst.expressions.GeneratedClass$GeneratedIteratorForCodegenStage1.processNext(Unknown Source)\n",
      "\tat org.apache.spark.sql.execution.BufferedRowIterator.hasNext(BufferedRowIterator.java:43)\n",
      "\tat org.apache.spark.sql.execution.WholeStageCodegenExec$$anonfun$13$$anon$1.hasNext(WholeStageCodegenExec.scala:585)\n",
      "\tat scala.collection.Iterator$$anon$11.hasNext(Iterator.scala:409)\n",
      "\tat org.apache.spark.shuffle.sort.BypassMergeSortShuffleWriter.write(BypassMergeSortShuffleWriter.java:127)\n",
      "\tat org.apache.spark.scheduler.ShuffleMapTask.runTask(ShuffleMapTask.scala:95)\n",
      "\tat org.apache.spark.scheduler.ShuffleMapTask.runTask(ShuffleMapTask.scala:55)\n",
      "\tat org.apache.spark.scheduler.Task.run(Task.scala:123)\n",
      "\tat org.apache.spark.executor.Executor$TaskRunner$$anonfun$10.apply(Executor.scala:408)\n",
      "\tat org.apache.spark.util.Utils$.tryWithSafeFinally(Utils.scala:1405)\n",
      "\tat org.apache.spark.executor.Executor$TaskRunner.run(Executor.scala:414)\n",
      "\tat java.util.concurrent.ThreadPoolExecutor.runWorker(ThreadPoolExecutor.java:1149)\n",
      "\tat java.util.concurrent.ThreadPoolExecutor$Worker.run(ThreadPoolExecutor.java:624)\n",
      "\t... 1 more\n",
      "Caused by: org.apache.spark.SparkException: Unseen label: Republic Airways.  To handle unseen labels, set Param handleInvalid to keep.\n",
      "\tat org.apache.spark.ml.feature.StringIndexerModel$$anonfun$9.apply(StringIndexer.scala:260)\n",
      "\tat org.apache.spark.ml.feature.StringIndexerModel$$anonfun$9.apply(StringIndexer.scala:246)\n",
      "\t... 15 more\n",
      "\n",
      "\n"
     ]
    }
   ],
   "source": [
    "from pyspark.ml.evaluation import BinaryClassificationEvaluator\n",
    "\n",
    "# Build the BinaryClassificationEvaluator object 'evaluator'\n",
    "evaluator = BinaryClassificationEvaluator()\n",
    "\n",
    "# Calculate the accracy and print its value\n",
    "accuracy = mlppipelinepredicted.filter(mlppipelinepredicted.FLIGHT_STATUS == mlppipelinepredicted.prediction).count()/float(mlppipelinepredicted.count())\n",
    "print(\"Accuracy = \", accuracy)"
   ]
  },
  {
   "cell_type": "code",
   "execution_count": null,
   "id": "981446fc-61b6-4cf4-b69e-be97b3ccecc1",
   "metadata": {},
   "outputs": [],
   "source": []
  }
 ],
 "metadata": {
  "kernelspec": {
   "display_name": "PySpark",
   "language": "python",
   "name": "pysparkkernel"
  },
  "language_info": {
   "codemirror_mode": {
    "name": "python",
    "version": 3
   },
   "file_extension": ".py",
   "mimetype": "text/x-python",
   "name": "pyspark",
   "pygments_lexer": "python3"
  }
 },
 "nbformat": 4,
 "nbformat_minor": 5
}
